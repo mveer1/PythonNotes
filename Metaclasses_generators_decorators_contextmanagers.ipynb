{
  "nbformat": 4,
  "nbformat_minor": 0,
  "metadata": {
    "colab": {
      "name": "Metaclasses, generators, decorators, contextmanagers",
      "provenance": [],
      "collapsed_sections": [],
      "authorship_tag": "ABX9TyPSvHiArEcU/fwB4jYSExZV",
      "include_colab_link": true
    },
    "kernelspec": {
      "name": "python3",
      "display_name": "Python 3"
    },
    "language_info": {
      "name": "python"
    }
  },
  "cells": [
    {
      "cell_type": "markdown",
      "metadata": {
        "id": "view-in-github",
        "colab_type": "text"
      },
      "source": [
        "<a href=\"https://colab.research.google.com/github/mveer1/Jupyter-Notebooks/blob/main/Metaclasses%2C_generators%2C_decorators%2C_contextmanagers.ipynb\" target=\"_parent\"><img src=\"https://colab.research.google.com/assets/colab-badge.svg\" alt=\"Open In Colab\"/></a>"
      ]
    },
    {
      "cell_type": "markdown",
      "metadata": {
        "id": "lCTFAGvXKazz"
      },
      "source": [
        "# **Metaclasses**\n",
        "\n",
        "General purpose of use is when you have \n",
        "1. A Base class (library code)\n",
        "2. A derived class (user code)"
      ]
    },
    {
      "cell_type": "code",
      "metadata": {
        "id": "FTmmPN50KcDe"
      },
      "source": [
        "#Library.py\n",
        "class Base:\n",
        "    def foo(self):\n",
        "        return self.bar()"
      ],
      "execution_count": null,
      "outputs": []
    },
    {
      "cell_type": "code",
      "metadata": {
        "id": "Akp2XtNcK-EB"
      },
      "source": [
        "#user.py\n",
        "class Derived(Base):\n",
        "    def bar(self):\n",
        "        return 'bar'"
      ],
      "execution_count": null,
      "outputs": []
    },
    {
      "cell_type": "markdown",
      "metadata": {
        "id": "qgINCE18KcJN"
      },
      "source": [
        "How do we make sure before actually deploying the code, user always makes a method \"bar\"."
      ]
    },
    {
      "cell_type": "code",
      "metadata": {
        "id": "znLzXbJyKcN9"
      },
      "source": [
        "#library.py\n",
        "class Base:\n",
        "    def foo(self):\n",
        "        return self.bar()\n",
        "\n",
        "old_bc = __build_class__\n",
        "def my_bc(fun, name, base=None, **kw):\n",
        "    print(\"my_bc\")\n",
        "    if base is Base:\n",
        "        print(\"check if bar method is defined\")\n",
        "    if base is not None:\n",
        "        return old_bc(fun, name, base, **kw)\n",
        "    return old_bc(fun, name, **kw)\n",
        "print(old_bc, my_bc)\n",
        "import builtins\n",
        "builtins.__build_class__ = my_bc"
      ],
      "execution_count": null,
      "outputs": []
    },
    {
      "cell_type": "markdown",
      "metadata": {
        "id": "Meq-uVn2KcTH"
      },
      "source": [
        "thats ig one way"
      ]
    },
    {
      "cell_type": "code",
      "metadata": {
        "id": "T2i1H9xDKcbu"
      },
      "source": [
        "#library.py\n",
        "class BaseMeta(type):\n",
        "    def __new__(cls, name, bases, body):\n",
        "        if not 'bar' in body:\n",
        "            raise TypeError(\"bad user class\")\n",
        "        return super().__new__(cls, name, bases, body)\n",
        "\n",
        "class Base(metaclass = BaseMeta):\n",
        "    def foo(self):\n",
        "        return self.bar()"
      ],
      "execution_count": null,
      "outputs": []
    },
    {
      "cell_type": "markdown",
      "metadata": {
        "id": "V4hWKLEKKcgy"
      },
      "source": [
        "# **Decorators**"
      ]
    },
    {
      "cell_type": "code",
      "metadata": {
        "id": "tArAXu1yKclZ"
      },
      "source": [
        "from time import time\n",
        "def timer(func):\n",
        "    def f(x, y=10):\n",
        "        before = time()\n",
        "        rv = func(x,y)\n",
        "        after = time()\n",
        "        print(\"elapsed\", after-before)\n",
        "        return rv\n",
        "    return f\n",
        "\n",
        "def add(x, y=10):\n",
        "    return x+y\n",
        "add = timer(add)"
      ],
      "execution_count": null,
      "outputs": []
    },
    {
      "cell_type": "markdown",
      "metadata": {
        "id": "G3Y2Z7yMKcqC"
      },
      "source": [
        "is same as"
      ]
    },
    {
      "cell_type": "code",
      "metadata": {
        "id": "1aBIoBuNKcv4"
      },
      "source": [
        "from time import time\n",
        "def timer(func):\n",
        "    def f(x, y=10):\n",
        "        before = time()\n",
        "        rv = func(x,y)\n",
        "        after = time()\n",
        "        print(\"elapsed\", after-before)\n",
        "        return rv\n",
        "    return f\n",
        "\n",
        "@timer\n",
        "def add(x, y=10):\n",
        "    return x+y"
      ],
      "execution_count": 1,
      "outputs": []
    },
    {
      "cell_type": "markdown",
      "metadata": {
        "id": "T3uqUs0-Kc0e"
      },
      "source": [
        "A general version of wrapping a function or making a decorator->"
      ]
    },
    {
      "cell_type": "code",
      "metadata": {
        "id": "7bI1AAJIpViC"
      },
      "source": [
        "from time import time\n",
        "def timer(func):\n",
        "    def f(*args, **kwargs):\n",
        "        before = time()\n",
        "        rv = func(*args, **kwargs)\n",
        "        after = time()\n",
        "        print(\"Elapsed\", after- before)\n",
        "        return rv\n",
        "    return f\n",
        "\n",
        "# /@timer\n",
        "# used *args and **kwargs"
      ],
      "execution_count": null,
      "outputs": []
    },
    {
      "cell_type": "code",
      "metadata": {
        "id": "I5ypU-C5qnty"
      },
      "source": [
        "# another example of a wrapper/decorator, rather a higher decorator\n",
        "def ntimes(n):\n",
        "    def inner(f):\n",
        "        def wrapper(*args, **kwargs):\n",
        "            for _ in range(n):\n",
        "                print('running {.__name__}'.format(f))\n",
        "                rv = f(*args, **kwargs)\n",
        "            return rv\n",
        "        return wrapper\n",
        "    return inner\n",
        "\n",
        "@ntimes(2)\n",
        "def add(x, y=10):\n",
        "    return x+y\n",
        "\n",
        "@ntimes(5)\n",
        "def sub(x, y=10):\n",
        "    return x-y"
      ],
      "execution_count": 2,
      "outputs": []
    },
    {
      "cell_type": "markdown",
      "metadata": {
        "id": "hp3I_0FOsnG6"
      },
      "source": [
        "# **Generators**"
      ]
    },
    {
      "cell_type": "code",
      "metadata": {
        "id": "H_DTUtj2qqlH"
      },
      "source": [
        "#whats the difference between add1 and add2 below\n",
        "def add1(x,y):\n",
        "    return x+y\n",
        "\n",
        "class Adder:\n",
        "    def __call__(self, x,y):\n",
        "        return x+y\n",
        "add2 = Adder()\n",
        "\n",
        "#theres none"
      ],
      "execution_count": 3,
      "outputs": []
    },
    {
      "cell_type": "code",
      "metadata": {
        "id": "hNab_Rj-qqoK"
      },
      "source": [
        "# this method compute gives us the total list after 5secs using 10units of memory\n",
        "def compute():\n",
        "    rv = []\n",
        "    for i in range(10):\n",
        "        sleep(.5)\n",
        "        rv.append(i)\n",
        "    return rv\n",
        "\n",
        "#this class, on the other hand, gives us the item one by one each .5 secs, and hence not using extra memory if we discard after looking\n",
        "class Compute():\n",
        "    def __iter__(self):\n",
        "        self.last = 0\n",
        "        return self\n",
        "    def __next__(self):\n",
        "        rv = self.last\n",
        "        self.last += 1\n",
        "        if self.last >10:\n",
        "            raise StopIteration\n",
        "        sleep(.5)\n",
        "        return rv"
      ],
      "execution_count": null,
      "outputs": []
    },
    {
      "cell_type": "code",
      "metadata": {
        "id": "h4eIU5Jzqqqs"
      },
      "source": [
        "# now what the class did above, can be done using a yield keyword\n",
        "def compute():\n",
        "    for i in range(10):\n",
        "        sleep(.5)\n",
        "        yield i\n",
        "\n",
        "#this yield word, gives back i to the user code and also the control of flow, hence when the user wants to resume, it can.\n",
        "# thats a GENERATOR\n",
        "\n",
        "#user code\n",
        "for val in compute():\n",
        "    print(val)"
      ],
      "execution_count": null,
      "outputs": []
    },
    {
      "cell_type": "code",
      "metadata": {
        "id": "mMIBg_u4upyX"
      },
      "source": [
        "#another example for generators\n",
        "class Api:\n",
        "    def run_this_first(self):\n",
        "        first()\n",
        "    def run_this_second(self):\n",
        "        second()\n",
        "    def run_this_third(self):\n",
        "        third()\n",
        "\n",
        "#here we want our class Api to be called by user in first second third pattern, otherwise it wont work\n",
        "#solution to that is here:\n",
        "def api():\n",
        "    first()\n",
        "    yield\n",
        "    second()\n",
        "    yield\n",
        "    third()\n",
        "#this does not return any value to the user but it gives the control to move forward or not"
      ],
      "execution_count": null,
      "outputs": []
    },
    {
      "cell_type": "markdown",
      "metadata": {
        "id": "IpYLBLfevXBo"
      },
      "source": [
        "# **Context Managers**\n",
        "\n",
        "are about closing the file after opening it. \n",
        "file, cursor, anything."
      ]
    },
    {
      "cell_type": "code",
      "metadata": {
        "colab": {
          "base_uri": "https://localhost:8080/",
          "height": 128
        },
        "id": "A1C-D8Zsup08",
        "outputId": "b19a453d-1ad1-49ce-fe42-d6d451de83e3"
      },
      "source": [
        "from sqlite3 import connect\n",
        "\n",
        "with connect(\"test.db\") as conn1:\n",
        "    cur = conn1.cursor()\n",
        "    cur.execute(\"CREATE TABLE POINTS(X INT, Y INT)\")\n",
        "    cur.execute(\"INSERT INTO POINTS (X, Y) VALUES(1,1)\")\n",
        "    cur.execute(\"INSERT INTO POINTS (X, Y) VALUES(2,1)\")\n",
        "    cur.execute(\"INSERT INTO POINTS (X, Y) VALUES(1,2)\")\n",
        "    for row in cur.execute(\"select sum(x*y) from points\"):\n",
        "        print(row)\n",
        "    cur.execute(\"drop table points\")\n",
        "    cur.commit()\n",
        "\n",
        "# thats an example\n",
        "\n",
        "# general context managers:\n",
        "    # with ctx() as x:\n",
        "    #     pass\n",
        "\n",
        "    # x = ctx.__enter__()\n",
        "    # try:\n",
        "    #     pass\n",
        "    # finally:\n",
        "    #     x.__exit__()\n"
      ],
      "execution_count": 11,
      "outputs": [
        {
          "output_type": "error",
          "ename": "SyntaxError",
          "evalue": "ignored",
          "traceback": [
            "\u001b[0;36m  File \u001b[0;32m\"<ipython-input-11-ddfbf67b920e>\"\u001b[0;36m, line \u001b[0;32m11\u001b[0m\n\u001b[0;31m    cur.execute(drop table points)\u001b[0m\n\u001b[0m                         ^\u001b[0m\n\u001b[0;31mSyntaxError\u001b[0m\u001b[0;31m:\u001b[0m invalid syntax\n"
          ]
        }
      ]
    },
    {
      "cell_type": "code",
      "metadata": {
        "id": "6hxgeAUwup3-"
      },
      "source": [
        "# A context manager in action:\n",
        "from sqlite3 import connect\n",
        "\n",
        "class temp:\n",
        "    def __init__(self, cur):\n",
        "        self.cur = cur\n",
        "    def __enter__(self):\n",
        "        self.cur.execute(\"CREATE TABLE POINTS(X INT, Y INT)\")\n",
        "    def __exit__(self, *args):\n",
        "        self.cur.execute(\"drop table points\")\n",
        "\n",
        "\n",
        "with connect(\"test.db\") as conn1:\n",
        "    cur = conn1.cursor()\n",
        "    with temp(cur):\n",
        "        cur.execute(\"INSERT INTO POINTS (X, Y) VALUES(1,1)\")\n",
        "        cur.execute(\"INSERT INTO POINTS (X, Y) VALUES(2,1)\")\n",
        "        cur.execute(\"INSERT INTO POINTS (X, Y) VALUES(1,2)\")\n",
        "        for row in cur.execute(\"select sum(x*y) from points\"):\n",
        "            print(row)\n",
        "        \n",
        "    # cur.commit()                                          no need of commit or drop table\n"
      ],
      "execution_count": 12,
      "outputs": []
    },
    {
      "cell_type": "code",
      "metadata": {
        "id": "H2zhMhL_up6S"
      },
      "source": [
        "#now we know entry is always before exit, so we can use a generator here\n",
        "from sqlite3 import connect\n",
        "\n",
        "def temp(cur):\n",
        "    cur.execute(\"CREATE TABLE POINTS(X INT, Y INT)\")\n",
        "    print(\"table created\")\n",
        "    yield\n",
        "    cur.execute(\"drop table points\")\n",
        "    print(\"table dropped\")\n",
        "    \n",
        "\n",
        "class contextManager:\n",
        "    def __init__(self, cur):\n",
        "        self.cur = cur\n",
        "    def __enter__(self):\n",
        "        self.gen = temp(self.cur)\n",
        "        next(self.gen)\n",
        "    def __exit__(self, *args):\n",
        "        next(self.gen, None)\n",
        "\n",
        "with connect(\"test.db\") as conn1:\n",
        "    cur = conn1.cursor()\n",
        "    with contextManager(cur):\n",
        "        cur.execute(\"INSERT INTO POINTS (X, Y) VALUES(1,1)\")\n",
        "        cur.execute(\"INSERT INTO POINTS (X, Y) VALUES(2,1)\")\n",
        "        cur.execute(\"INSERT INTO POINTS (X, Y) VALUES(1,2)\")\n",
        "        for row in cur.execute(\"select sum(x*y) from points\"):\n",
        "            print(row)"
      ],
      "execution_count": null,
      "outputs": []
    },
    {
      "cell_type": "code",
      "metadata": {
        "id": "Y4hcqSagzSGq"
      },
      "source": [
        "# making a general purpose context manager\n",
        "from sqlite3 import connect\n",
        "\n",
        "def temp(cur):\n",
        "    cur.execute(\"CREATE TABLE POINTS(X INT, Y INT)\")\n",
        "    yield\n",
        "    cur.execute(\"drop table points\")\n",
        "    \n",
        "\n",
        "class contextManager:\n",
        "    def __init__(self, cur):\n",
        "        self.cur = cur\n",
        "    def __call__(self, *args, **kwargs):\n",
        "        self.args, self.kwargs = args, kwargs\n",
        "        return self\n",
        "    def __enter__(self):\n",
        "        self.gen_inst = self.gen(*self.args, **self.kwargs)\n",
        "        next(self.gen_inst)\n",
        "    def __exit__(self, *args):\n",
        "        next(self.gen_inst, None)\n",
        "\n",
        "with connect(\"test.db\") as conn1:\n",
        "    cur = conn1.cursor()\n",
        "    with contextManager(temp)(cur):                           #can be changed to, temp = contextmanager(temp)   if put before the with statement, and now that is a place to introduce a decoder statement \n",
        "        cur.execute(\"INSERT INTO POINTS (X, Y) VALUES(1,1)\")\n",
        "        cur.execute(\"INSERT INTO POINTS (X, Y) VALUES(2,1)\")\n",
        "        cur.execute(\"INSERT INTO POINTS (X, Y) VALUES(1,2)\")\n",
        "        for row in cur.execute(\"select sum(x*y) from points\"):\n",
        "            print(row)"
      ],
      "execution_count": null,
      "outputs": []
    },
    {
      "cell_type": "code",
      "metadata": {
        "id": "dp5q1Ce806zh"
      },
      "source": [
        "#finally\n",
        "# making a general purpose context manager\n",
        "from sqlite3 import connect\n",
        "\n",
        "class contextManager:\n",
        "    def __init__(self, cur):\n",
        "        self.cur = cur\n",
        "    def __call__(self, *args, **kwargs):\n",
        "        self.args, self.kwargs = args, kwargs\n",
        "        return self\n",
        "    def __enter__(self):\n",
        "        self.gen_inst = self.gen(*self.args, **self.kwargs)\n",
        "        next(self.gen_inst)\n",
        "    def __exit__(self, *args):\n",
        "        next(self.gen_inst, None)\n",
        "\n",
        "@contextManager                                             #\n",
        "def temp(cur):\n",
        "    cur.execute(\"CREATE TABLE POINTS(X INT, Y INT)\")\n",
        "    yield\n",
        "    cur.execute(\"drop table points\")\n",
        "\n",
        "with connect(\"test.db\") as conn1:\n",
        "    cur = conn1.cursor()\n",
        "    with temp(cur):                                         #\n",
        "        cur.execute(\"INSERT INTO POINTS (X, Y) VALUES(1,1)\")\n",
        "        cur.execute(\"INSERT INTO POINTS (X, Y) VALUES(2,1)\")\n",
        "        cur.execute(\"INSERT INTO POINTS (X, Y) VALUES(1,2)\")\n",
        "        for row in cur.execute(\"select sum(x*y) from points\"):\n",
        "            print(row)"
      ],
      "execution_count": null,
      "outputs": []
    },
    {
      "cell_type": "code",
      "metadata": {
        "id": "66cdmOUU1Lq5"
      },
      "source": [
        "# we can import this contextmanager code from'\n",
        "from contextlib import contextmanager"
      ],
      "execution_count": null,
      "outputs": []
    },
    {
      "cell_type": "code",
      "metadata": {
        "id": "QukVZvfw1Ltb"
      },
      "source": [
        "# finally, we get:\n",
        "from sqlite3 import connect\n",
        "from contextlib import contextmanager\n",
        "\n",
        "@contextManager                                             \n",
        "def temp(cur):\n",
        "    cur.execute(\"CREATE TABLE POINTS(X INT, Y INT)\")\n",
        "    try:\n",
        "        yield\n",
        "    finally:\n",
        "        cur.execute(\"drop table points\")\n",
        "\n",
        "with connect(\"test.db\") as conn1:\n",
        "    cur = conn1.cursor()\n",
        "    with temp(cur):                                         \n",
        "        cur.execute(\"INSERT INTO POINTS (X, Y) VALUES(1,1)\")\n",
        "        cur.execute(\"INSERT INTO POINTS (X, Y) VALUES(2,1)\")\n",
        "        cur.execute(\"INSERT INTO POINTS (X, Y) VALUES(1,2)\")\n",
        "        for row in cur.execute(\"select sum(x*y) from points\"):\n",
        "            print(row)"
      ],
      "execution_count": null,
      "outputs": []
    }
  ]
}