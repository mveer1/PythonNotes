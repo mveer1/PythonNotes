{
  "nbformat": 4,
  "nbformat_minor": 0,
  "metadata": {
    "colab": {
      "name": "SearchingAlgo.ipynb",
      "provenance": [],
      "authorship_tag": "ABX9TyOjriuS2azWFPn2KxmiofOC",
      "include_colab_link": true
    },
    "kernelspec": {
      "name": "python3",
      "display_name": "Python 3"
    },
    "language_info": {
      "name": "python"
    }
  },
  "cells": [
    {
      "cell_type": "markdown",
      "metadata": {
        "id": "view-in-github",
        "colab_type": "text"
      },
      "source": [
        "<a href=\"https://colab.research.google.com/github/mveer1/google-colab-notebooks/blob/main/DSinPy/SearchingAlgo.ipynb\" target=\"_parent\"><img src=\"https://colab.research.google.com/assets/colab-badge.svg\" alt=\"Open In Colab\"/></a>"
      ]
    },
    {
      "cell_type": "code",
      "metadata": {
        "id": "9aiWvXPu08FV"
      },
      "source": [
        ""
      ],
      "execution_count": null,
      "outputs": []
    },
    {
      "cell_type": "markdown",
      "metadata": {
        "id": "8r29cgXuOL0d"
      },
      "source": [
        "# **Linear Search**\n",
        "aka sequential search <br>\n",
        "O(n) for worst/avg case <br>\n",
        "also could be used for linked list, (binary search cant) <br>\n",
        "\n",
        "---\n",
        "\n",
        "# **Binary Search**\n",
        "should be sorted <br> \n",
        "O(logn)\n"
      ]
    },
    {
      "cell_type": "code",
      "metadata": {
        "id": "dLzWF4C4OaU5"
      },
      "source": [
        "def binary_search(a, n, searchValue):\n",
        "    first = 0\n",
        "    last = n-1\n",
        "\n",
        "    while first<=last:\n",
        "        mid = (first + last)//2\n",
        "        if searchValue < a[mid]:\n",
        "            last = mid-1\n",
        "        elif searchValue > a[mid]:\n",
        "            first = mid+1\n",
        "        else:\n",
        "            return mid\n",
        "    return -1"
      ],
      "execution_count": 1,
      "outputs": []
    },
    {
      "cell_type": "code",
      "metadata": {
        "id": "UIva2NkOP6ZX"
      },
      "source": [
        ""
      ],
      "execution_count": null,
      "outputs": []
    }
  ]
}