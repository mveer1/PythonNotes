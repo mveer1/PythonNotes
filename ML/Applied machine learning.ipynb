{
 "cells": [
  {
   "cell_type": "markdown",
   "metadata": {},
   "source": [
    "Two key types of machine learning\n",
    "\n",
    "```Supervised``` machine learning\n",
    "goal is to predict some output variable that's associated with each input item.\n",
    "or predict targest values from label data \n",
    "if output or target value is discrete, countable, finite then \n",
    "its called the ```classification``` problem, the function called classifier\n",
    "if not, if its continous (also like a real number) \n",
    "then its called ```regression``` problem, the function called regression\n",
    "\n",
    "```Unsupervised``` machine learning\n",
    "goal is to find structure in unlabelled data\n",
    "```clustering``` find groups of similar instances of data\n",
    "otherwise, find unusual patterns, ```outlier detection```"
   ]
  },
  {
   "cell_type": "markdown",
   "metadata": {},
   "source": [
    "A basic workflow, \n",
    "1. representation (find what to represent and a type classifier to use)\n",
    "    e.g. image pixels, with k-nearest image classifier \n",
    "2. Evaluation (whats good, whats bad)\n",
    "3. optimization (How to search for the settings/parameters that give the best classifier for this evaluation criterion)\n",
    "4. back to 2 \n",
    "\n",
    "convert whatever input you have, into basically a table of information\n",
    "thats called feature engineering or feature extraction\n",
    "then select a classifier."
   ]
  },
  {
   "cell_type": "markdown",
   "metadata": {},
   "source": [
    "```scikit learn\n",
    "SciPy\n",
    "NumPy\n",
    "pandas\n",
    "matplotlib\n",
    "seaborn\n",
    "graphviz```"
   ]
  },
  {
   "cell_type": "code",
   "execution_count": null,
   "metadata": {},
   "outputs": [],
   "source": [
    "%matplotlib notebook\n",
    "import numpy as np\n",
    "import matplotlib.pyplot as plt\n",
    "import pandas as pd\n",
    "from sklearn.model_selection import train_test_split\n",
    "\n",
    "fruits = pd.read_table('readonly/fruit_data_with_colors.txt')"
   ]
  },
  {
   "cell_type": "code",
   "execution_count": null,
   "metadata": {},
   "outputs": [],
   "source": []
  },
  {
   "cell_type": "code",
   "execution_count": null,
   "metadata": {},
   "outputs": [],
   "source": []
  },
  {
   "cell_type": "code",
   "execution_count": null,
   "metadata": {},
   "outputs": [],
   "source": []
  },
  {
   "cell_type": "code",
   "execution_count": null,
   "metadata": {},
   "outputs": [],
   "source": []
  },
  {
   "cell_type": "code",
   "execution_count": null,
   "metadata": {},
   "outputs": [],
   "source": []
  },
  {
   "cell_type": "code",
   "execution_count": null,
   "metadata": {},
   "outputs": [],
   "source": []
  },
  {
   "cell_type": "code",
   "execution_count": null,
   "metadata": {},
   "outputs": [],
   "source": []
  }
 ],
 "metadata": {
  "kernelspec": {
   "display_name": "Python 3",
   "language": "python",
   "name": "python3"
  },
  "language_info": {
   "codemirror_mode": {
    "name": "ipython",
    "version": 3
   },
   "file_extension": ".py",
   "mimetype": "text/x-python",
   "name": "python",
   "nbconvert_exporter": "python",
   "pygments_lexer": "ipython3",
   "version": "3.7.6"
  }
 },
 "nbformat": 4,
 "nbformat_minor": 4
}
