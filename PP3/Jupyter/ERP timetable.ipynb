{
 "cells": [
  {
   "cell_type": "code",
   "execution_count": 6,
   "metadata": {},
   "outputs": [],
   "source": [
    "#set th to r, thursday is abreviated as r in this project\n",
    "\n",
    "class course:\n",
    "    ''' A object of this class will have all the attributes which a course has, time(day and hour),\n",
    "    Category'''\n",
    "    \n",
    "    def __init__(self, name, code, time, category_num):\n",
    "        self.time = time\n",
    "        self.name = name\n",
    "        self.code = code\n",
    "        self.category_num = category_num\n",
    "    def __str__(self):\n",
    "        return \"The course {} {} {} is at {}\".format(self.name, self.code, self.category_num, self.time)\n",
    "    def get_data(self):\n",
    "        days = list(x for x in self.time[:-1])\n",
    "        if len(self.time) == 4 or len(self.time) == 5:\n",
    "            hour = self.time[3:]\n",
    "        else: \n",
    "            hour = list(x for x in self.time[1:])\n",
    "        attributes = [self.name, self.code, self.category_num, days, hour]\n",
    "        return attributes\n",
    "    def print_data(self):\n",
    "        return \"{}  {} {}\".format(self.name, self.code, self.category_num)"
   ]
  },
  {
   "cell_type": "code",
   "execution_count": 7,
   "metadata": {},
   "outputs": [],
   "source": [
    "# making a weekly calendar to plot the courses and see if they clash \n",
    "calender = {'m': {1:[],2:[],3:[],4:[],5:[],6:[],7:[],8:[],9:[],10:[]},\n",
    "            't': {1:[],2:[],3:[],4:[],5:[],6:[],7:[],8:[],9:[],10:[]},\n",
    "            'w': {1:[],2:[],3:[],4:[],5:[],6:[],7:[],8:[],9:[],10:[]},\n",
    "            'r': {1:[],2:[],3:[],4:[],5:[],6:[],7:[],8:[],9:[],10:[]},\n",
    "            'f': {1:[],2:[],3:[],4:[],5:[],6:[],7:[],8:[],9:[],10:[]},\n",
    "            's': {1:[],2:[],3:[],4:[],5:[],6:[],7:[],8:[],9:[],10:[]}}\n",
    "# calender will have 6 keys for 6 days, each key (each day) will have another dictionary\n",
    "# with 10 keys (10 hours in a day) each hour will have a list which has the elements as course objects\n"
   ]
  },
  {
   "cell_type": "code",
   "execution_count": 74,
   "metadata": {},
   "outputs": [
    {
     "name": "stdout",
     "output_type": "stream",
     "text": [
      "The course OOP CS F213 l1 is at mfw3\n"
     ]
    },
    {
     "data": {
      "text/plain": [
       "['OOP', 'CS F213', 'l1', ['m', 'f', 'w'], '3']"
      ]
     },
     "execution_count": 74,
     "metadata": {},
     "output_type": "execute_result"
    }
   ],
   "source": [
    "# now we can start making the course objects\n",
    "\n",
    "course_1 = course('OOP', 'CS F213', 'mfw3', 'l1')\n",
    "course_2 = course('OOP', 'CS F213', 't23', 'p1')\n",
    "course_2 = course('OOP', 'CS F213', 's1', 't1')\n",
    "course_3 = course('OOP', 'CS F213', 'r1', 't2')\n",
    "course_4 = course('maths', 'math f211', 'mfw9', 'l3')\n",
    "course_5 = course('maths', 'math f211', 'mfw9', 'l3')\n",
    "course_6 = course('maths', 'math f211', 'mfw9', 'l3')\n",
    "course_7 = course('maths', 'math f211', 'mfw9', 'l3')\n",
    "course_8 = course('maths', 'math f211', 'mfw9', 'l3')\n",
    "print(course_1)\n",
    "course_1.get_data()"
   ]
  },
  {
   "cell_type": "code",
   "execution_count": 12,
   "metadata": {},
   "outputs": [],
   "source": [
    "# now we will fill the calender\n",
    "# for one course\n",
    "days= ['m', 't', 'w', 'r', 'f', 's']\n",
    "course_3 = course('OOP', 'CS F213', 'mfw9', 'l3')\n",
    "course_8 = course('maths', 'math f211', 'mfw9', 'l3')\n",
    "def put_course(c):\n",
    "    for day in days:\n",
    "        if day in c.get_data()[3]:\n",
    "            for i in range(10):\n",
    "                if str(i) == c.get_data()[4]:\n",
    "                    calender[day][i].append(c.print_data())\n",
    "put_course(course_3)"
   ]
  },
  {
   "cell_type": "code",
   "execution_count": 13,
   "metadata": {},
   "outputs": [
    {
     "name": "stdout",
     "output_type": "stream",
     "text": [
      "{'m': {1: [], 2: [], 3: [], 4: [], 5: [], 6: [], 7: [], 8: [], 9: ['maths  math f211 l3', 'OOP  CS F213 l3', 'OOP  CS F213 l3'], 10: []}, 't': {1: [], 2: [], 3: [], 4: [], 5: [], 6: [], 7: [], 8: [], 9: [], 10: []}, 'w': {1: [], 2: [], 3: [], 4: [], 5: [], 6: [], 7: [], 8: [], 9: ['maths  math f211 l3', 'OOP  CS F213 l3', 'OOP  CS F213 l3'], 10: []}, 'r': {1: [], 2: [], 3: [], 4: [], 5: [], 6: [], 7: [], 8: [], 9: [], 10: []}, 'f': {1: [], 2: [], 3: [], 4: [], 5: [], 6: [], 7: [], 8: [], 9: ['maths  math f211 l3', 'OOP  CS F213 l3', 'OOP  CS F213 l3'], 10: []}, 's': {1: [], 2: [], 3: [], 4: [], 5: [], 6: [], 7: [], 8: [], 9: [], 10: []}}\n"
     ]
    }
   ],
   "source": [
    "print(calender)"
   ]
  },
  {
   "cell_type": "code",
   "execution_count": 72,
   "metadata": {},
   "outputs": [],
   "source": [
    "\n",
    "def remove_course(c):\n",
    "    dw=0\n",
    "    for d in calender:\n",
    "        for h in calender[d]:\n",
    "            for l in calender[d][h]:\n",
    "                if c.print_data() in l:\n",
    "                    calender[d][h].remove(l)\n",
    "\n",
    "remove_course(course_3)"
   ]
  },
  {
   "cell_type": "code",
   "execution_count": 73,
   "metadata": {},
   "outputs": [
    {
     "name": "stdout",
     "output_type": "stream",
     "text": [
      "{'m': {1: [], 2: [], 3: [], 4: [], 5: [], 6: [], 7: [], 8: [], 9: ['maths  math f211 l3'], 10: []}, 't': {1: [], 2: [], 3: [], 4: [], 5: [], 6: [], 7: [], 8: [], 9: [], 10: []}, 'w': {1: [], 2: [], 3: [], 4: [], 5: [], 6: [], 7: [], 8: [], 9: ['maths  math f211 l3'], 10: []}, 'r': {1: [], 2: [], 3: [], 4: [], 5: [], 6: [], 7: [], 8: [], 9: [], 10: []}, 'f': {1: [], 2: [], 3: [], 4: [], 5: [], 6: [], 7: [], 8: [], 9: ['maths  math f211 l3'], 10: []}, 's': {1: [], 2: [], 3: [], 4: [], 5: [], 6: [], 7: [], 8: [], 9: [], 10: []}}\n"
     ]
    }
   ],
   "source": [
    "print(calender)"
   ]
  },
  {
   "cell_type": "code",
   "execution_count": null,
   "metadata": {},
   "outputs": [],
   "source": []
  }
 ],
 "metadata": {
  "kernelspec": {
   "display_name": "Python 3",
   "language": "python",
   "name": "python3"
  },
  "language_info": {
   "codemirror_mode": {
    "name": "ipython",
    "version": 3
   },
   "file_extension": ".py",
   "mimetype": "text/x-python",
   "name": "python",
   "nbconvert_exporter": "python",
   "pygments_lexer": "ipython3",
   "version": "3.7.6"
  }
 },
 "nbformat": 4,
 "nbformat_minor": 4
}
