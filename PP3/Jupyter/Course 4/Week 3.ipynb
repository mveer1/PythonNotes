{
 "cells": [
  {
   "cell_type": "markdown",
   "metadata": {},
   "source": [
    "# Test Cases\n",
    "\n",
    "It's a good idea to first write down comments. You can think of writing test cases as basically an extension of that advice. Instead of just writing a human-readable comment, you write a computer executable test case. For example, before writing the code to implement a function, you'd write a few test cases that check whether the function returns the right kind of object, whether it's returning the correct values when invoked on particular inputs. At the end of this lesson, you should be able to, first, use the test.textequal function to express test cases. Second, you should be able to identify when a return value test is needed and when a side effect tests is needed, and you should be able to identify and express edge cases for functions and for class definitions\n",
    "\n",
    "A test case expresses requirements for a program, in a way that can be checked automatically.\n",
    "Specifically, a test asserts something about the state of the program at a particular point in its execution."
   ]
  },
  {
   "cell_type": "markdown",
   "metadata": {},
   "source": [
    "We've created a special module that you can import called test. It's not available outside this Runestone textbook environment. In a full Python environment, you'd use a more sophisticated module, probably one called unit test. \n",
    "\n",
    "We're just going to use one function and it's called test equal. It takes two values as input, if they're equal the test passes and if they're not equal the test fails. \n",
    "\n",
    "he way that we usually do this is that we make the first value we pass in something that we're checking on and the second value is what it ought to equal.\n",
    "\n",
    "\n",
    "Python provides a statement called assert.\n",
    "Following the word assert there will be a python expression.\n",
    "If that expression evaluates to the Boolean False, then the interpreter will raise a runtime error.\n",
    "If the expression evaluates to True, then nothing happens and the execution goes on to the next line of code."
   ]
  },
  {
   "cell_type": "code",
   "execution_count": 2,
   "metadata": {},
   "outputs": [
    {
     "ename": "AssertionError",
     "evalue": "",
     "output_type": "error",
     "traceback": [
      "\u001b[1;31m---------------------------------------------------------------------------\u001b[0m",
      "\u001b[1;31mAssertionError\u001b[0m                            Traceback (most recent call last)",
      "\u001b[1;32m<ipython-input-2-66f2d55914ff>\u001b[0m in \u001b[0;36m<module>\u001b[1;34m\u001b[0m\n\u001b[0;32m      1\u001b[0m \u001b[1;32massert\u001b[0m \u001b[1;36m1\u001b[0m\u001b[1;33m==\u001b[0m\u001b[1;36m1\u001b[0m\u001b[1;33m\u001b[0m\u001b[1;33m\u001b[0m\u001b[0m\n\u001b[1;32m----> 2\u001b[1;33m \u001b[1;32massert\u001b[0m \u001b[1;36m1\u001b[0m\u001b[1;33m==\u001b[0m\u001b[1;36m2\u001b[0m\u001b[1;33m\u001b[0m\u001b[1;33m\u001b[0m\u001b[0m\n\u001b[0m",
      "\u001b[1;31mAssertionError\u001b[0m: "
     ]
    }
   ],
   "source": [
    "assert 1==1\n",
    "assert 1==2"
   ]
  },
  {
   "cell_type": "markdown",
   "metadata": {},
   "source": [
    "why?\n",
    " You want a test that will alert that you that some condition you assumed was true is not in fact true.\n",
    "In larger projects, other testing harnesses are used instead of assert, such as the python __unittest module__."
   ]
  },
  {
   "cell_type": "markdown",
   "metadata": {},
   "source": [
    "A useful function will do some combination of three things, given its input parameters:\n",
    "1. Return a value. For these, you will write return value tests.\n",
    "2. Modify the contents of some mutable object, like a list or dictionary. For these you will write side effect tests.\n",
    "3. Print something or write something to a files.\n",
    "\n",
    "\n",
    "## Return Value Tests\n",
    "def square(x):\n",
    "    return x*x\n",
    "\n",
    "assert square(3) == 9\n",
    "\n",
    "## Side Effect Tests\n",
    "def update_counts(letters, counts_d):\n",
    "    for c in letters:\n",
    "        counts_d[c] = 1\n",
    "        if c in counts_d:\n",
    "            counts_d[c] = counts_d[c] + 1\n",
    "\n",
    "\n",
    "counts = {'a': 3, 'b': 2}\n",
    "update_counts(\"aaab\", counts)\n",
    "#3 more occurrences of a, so 6 in all\n",
    "assert counts['a'] == 6\n",
    "#1 more occurrence of b, so 3 in all\n",
    "assert counts['b'] == 3\n"
   ]
  },
  {
   "cell_type": "code",
   "execution_count": null,
   "metadata": {},
   "outputs": [],
   "source": []
  },
  {
   "cell_type": "markdown",
   "metadata": {},
   "source": [
    "# EXCEPTIONS \n",
    "An exception is a signal that a condition has occurred that can’t be easily handled using the normal flow-of-control of a Python program. All errors in Python are dealt with using exceptions, but not all exceptions are errors.\n",
    "\n",
    "try:\n",
    "   (try clause code block)\n",
    "except (ErrorType):\n",
    "   (exception handler code block>)\n",
    "       \n",
    "The syntax is fairly straightforward. The only tricky part is that after the word except, there can optionally be a specification of the kinds of errors that will be handled. The catchall is the class Exception. If you write except Exception: all runtime errors will be handled.\n",
    "0. runtime error\n",
    "1. IndexError\n",
    "2. ZeroDivisionError/ ArithmaticError\n",
    "\n",
    "There’s one other useful feature.\n",
    "The exception code can access a variable that contains information about exactly what the error was. Thus, for example"
   ]
  },
  {
   "cell_type": "code",
   "execution_count": 6,
   "metadata": {},
   "outputs": [
    {
     "name": "stdout",
     "output_type": "stream",
     "text": [
      "got an error\n",
      "list index out of range\n",
      "continuing\n"
     ]
    }
   ],
   "source": [
    "try:\n",
    "    items = ['a', 'b']\n",
    "    third = items[2]\n",
    "    print(\"This won't print\")\n",
    "except Exception as e:\n",
    "    print(\"got an error\")\n",
    "    print(e)\n",
    "\n",
    "print(\"continuing\")"
   ]
  },
  {
   "cell_type": "markdown",
   "metadata": {},
   "source": [
    "if else and try except are quite similar,\n",
    "\"if else\" is more specific and should be used when know exactly whats wrong, other wise try except"
   ]
  },
  {
   "cell_type": "markdown",
   "metadata": {},
   "source": [
    "StandardError         Base class for all built-in exceptions except StopIteration and SystemExit.\n",
    "\n",
    "ImportError           Raised when an import statement fails.\n",
    "\n",
    "SyntaxError           Raised when there is an error in Python syntax.\n",
    "\n",
    "IndentationError      Raised when indentation is not specified properly.\n",
    "\n",
    "NameError             Raised when an identifier is not found in the local or global namespace.\n",
    "\n",
    "UnboundLocalError     Raised when trying to access a local variable in a function or method but no value has been assigned to it.\n",
    "\n",
    "TypeError             Raised when an operation or function is attempted that is invalid for the specified data type.\n",
    "\n",
    "LookupError           Base class for all lookup errors.\n",
    "\n",
    "IndexError            Raised when an index is not found in a sequence.\n",
    "\n",
    "KeyError              Raised when the specified key is not found in the dictionary.\n",
    "\n",
    "ValueError            Raised when the built-in function for a data type has the valid type of arguments, but the arguments have invalid values specified.\n",
    "\n",
    "RuntimeError          Raised when a generated error does not fall into any category.\n",
    "\n",
    "MemoryError           Raised when a operation runs out of memory.\n",
    "\n",
    "RecursionError        Raised when the maximum recursion depth has been exceeded.\n",
    "\n",
    "SystemError           Raised when the interpreter finds an internal problem, but when this error is encountered the Python interpreter does not exit.\n",
    "\n",
    "Math Exceptions-\n",
    "\n",
    "ArithmeticError       Base class for all errors that occur for numeric calculation. You know a math error occurred, but you don’t know the specific error.\n",
    "\n",
    "OverflowError         Raised when a calculation exceeds maximum limit for a numeric type.\n",
    "\n",
    "FloatingPointError    Raised when a floating point calculation fails.\n",
    "\n",
    "ZeroDivisonError      Raised when division or modulo by zero takes place for all numeric types.\n",
    "\n",
    "I/O Exceptions-\n",
    "\n",
    "FileNotFoundError     Raised when a file or directory is requested but doesn’t exist.\n",
    "\n",
    "IOError               Raised when an input/ output operation fails, such as the print statement or the open() function when trying to open a file that does not exist. Also raised for operating system-related errors.\n",
    "\n",
    "PermissionError       Raised when trying to run an operation without the adequate access rights.\n",
    "\n",
    "EOFError              Raised when there is no input from either the raw_input() or input() function and the end of file is reached.\n",
    "\n",
    "KeyboardInterrupt     Raised when the user interrupts program execution, usually by pressing Ctrl+c.\n",
    "\n",
    "\n",
    "\n",
    "Exception             Base class for all exceptions. This catches most exception messages.\n",
    "\n",
    "StopIteration         Raised when the next() method of an iterator does not point to any object.\n",
    "\n",
    "AssertionError        Raised in case of failure of the Assert statement.\n",
    "\n",
    "SystemExit            Raised when Python interpreter is quit by using the sys.exit() function. If not handled in the code, it causes the interpreter to exit.\n",
    "\n",
    "OSError               Raises for operating system related errors.\n",
    "\n",
    "EnvironmentError      Base class for all exceptions that occur outside the Python environment.\n",
    "\n",
    "AttributeError        Raised in case of failure of an attribute reference or assignment.\n",
    "\n",
    "NotImplementedError   Raised when an abstract method that needs to be implemented in an inherited class is not actually implemented.\n",
    "\n",
    "\n",
    "\n",
    "\n",
    "\n",
    "All exceptions are objects. The classes that define the objects are organized in a hierarchy, which is shown below. This is important because the parent class of a set of related exceptions will catch all exception messages for itself and its child exceptions."
   ]
  },
  {
   "cell_type": "markdown",
   "metadata": {},
   "source": [
    "BaseException\n",
    " +-- SystemExit\n",
    " +-- KeyboardInterrupt\n",
    " +-- GeneratorExit\n",
    " +-- Exception\n",
    "      +-- StopIteration\n",
    "      +-- StopAsyncIteration\n",
    "      +-- ArithmeticError\n",
    "      |    +-- FloatingPointError\n",
    "      |    +-- OverflowError\n",
    "      |    +-- ZeroDivisionError\n",
    "      +-- AssertionError\n",
    "      +-- AttributeError\n",
    "      +-- BufferError\n",
    "      +-- EOFError\n",
    "      +-- ImportError\n",
    "      +-- LookupError\n",
    "      |    +-- IndexError\n",
    "      |    +-- KeyError\n",
    "      +-- MemoryError\n",
    "      +-- NameError\n",
    "      |    +-- UnboundLocalError\n",
    "      +-- OSError\n",
    "      |    +-- BlockingIOError\n",
    "      |    +-- ChildProcessError\n",
    "      |    +-- ConnectionError\n",
    "      |    |    +-- BrokenPipeError\n",
    "      |    |    +-- ConnectionAbortedError\n",
    "      |    |    +-- ConnectionRefusedError\n",
    "      |    |    +-- ConnectionResetError\n",
    "      |    +-- FileExistsError\n",
    "      |    +-- FileNotFoundError\n",
    "      |    +-- InterruptedError\n",
    "      |    +-- IsADirectoryError\n",
    "      |    +-- NotADirectoryError\n",
    "      |    +-- PermissionError\n",
    "      |    +-- ProcessLookupError\n",
    "      |    +-- TimeoutError\n",
    "      +-- ReferenceError\n",
    "      +-- RuntimeError\n",
    "      |    +-- NotImplementedError\n",
    "      |    +-- RecursionError\n",
    "      +-- SyntaxError\n",
    "      |    +-- IndentationError\n",
    "      |         +-- TabError\n",
    "      +-- SystemError\n",
    "      +-- TypeError\n",
    "      +-- ValueError\n",
    "      |    +-- UnicodeError\n",
    "      |         +-- UnicodeDecodeError\n",
    "      |         +-- UnicodeEncodeError\n",
    "      |         +-- UnicodeTranslateError\n",
    "      +-- Warning\n",
    "           +-- DeprecationWarning\n",
    "           +-- PendingDeprecationWarning\n",
    "           +-- RuntimeWarning\n",
    "           +-- SyntaxWarning\n",
    "           +-- UserWarning\n",
    "           +-- FutureWarning\n",
    "           +-- ImportWarning\n",
    "           +-- UnicodeWarning\n",
    "           +-- BytesWarning\n",
    "           +-- ResourceWarning"
   ]
  },
  {
   "cell_type": "markdown",
   "metadata": {},
   "source": [
    "The time.sleep(s) function (from the time module) delays execution of the next line of code for s seconds\n",
    "\n",
    "random.randint(min, max) generates a random number between min and max (inclusive)\n",
    "\n",
    "random.choice(L) selects a random item from the list L\n",
    "\n",
    ".count(s) counts how many times the string s occurs inside of a larger string"
   ]
  },
  {
   "cell_type": "code",
   "execution_count": 9,
   "metadata": {},
   "outputs": [],
   "source": [
    "class WOFPlayer:\n",
    "    prizeMoney = 0\n",
    "    prizes = []\n",
    "    \n",
    "    def __init__(self, name):\n",
    "        self.name = name\n",
    "    def addMoney(self, amt):\n",
    "        return self.prizeMoney+amt\n",
    "    def goBankrupt(self):\n",
    "        self.prizeMoney = 0\n",
    "    def addPrize(self, prize): \n",
    "        self.prizes.append(prize)\n",
    "    def __str__(self):\n",
    "        return '{} (${})'.format(self.name, self.prizeMoney)\n",
    "        "
   ]
  },
  {
   "cell_type": "code",
   "execution_count": 12,
   "metadata": {},
   "outputs": [
    {
     "data": {
      "text/plain": [
       "['k', 's', 'n', 'f', 'j', 'd', 's', 'n', 'f']"
      ]
     },
     "execution_count": 12,
     "metadata": {},
     "output_type": "execute_result"
    }
   ],
   "source": [
    "ss= 'ksnfjdsnf'\n",
    "list(ss)\n",
    "\n"
   ]
  },
  {
   "cell_type": "code",
   "execution_count": 14,
   "metadata": {},
   "outputs": [
    {
     "data": {
      "text/plain": [
       "1"
      ]
     },
     "execution_count": 14,
     "metadata": {},
     "output_type": "execute_result"
    }
   ],
   "source": [
    "i=3\n",
    "i=+1\n",
    "i"
   ]
  },
  {
   "cell_type": "code",
   "execution_count": 18,
   "metadata": {},
   "outputs": [],
   "source": [
    "VOWEL_COST = 250\n",
    "LETTERS = 'ABCDEFGHIJKLMNOPQRSTUVWXYZ'\n",
    "VOWELS = 'AEIOU'\n",
    "\n",
    "# Write the WOFPlayer class definition (part A) here\n",
    "class WOFPlayer:\n",
    "\n",
    "    \n",
    "    def __init__(self, name):\n",
    "        self.name = name\n",
    "        self.prizeMoney = 0\n",
    "        self.prizes = []\n",
    "    def addMoney(self, amt):\n",
    "        self.prizeMoney += amt\n",
    "    def goBankrupt(self):\n",
    "        self.prizeMoney = 0\n",
    "    def addPrize(self, prize): \n",
    "        self.prizes.append(prize)\n",
    "    def __str__(self):\n",
    "        return '{} (${})'.format(self.name, self.prizeMoney)\n",
    "        \n",
    "# Write the WOFHumanPlayer class definition (part B) here\n",
    "class WOFHumanPlayer(WOFPlayer):\n",
    "    def getMove(category, obscuredPhrase, guessed):\n",
    "        prompt = '''{0} has ${1}\n",
    "Category: {3}\n",
    "Phrase:  {4obscured_phrase}\n",
    "Guessed: {5guessed}\n",
    "\n",
    "Guess a letter, phrase, or type 'exit' or 'pass':'''.format(self.name, self.prizeMoney, category, obscuredPhrase, guessed)        \n",
    "        userinp = input(prompt)\n",
    "        return userinp\n",
    "# Write the WOFComputerPlayer class definition (part C) here\n",
    "import random\n",
    "class WOFComputerPlayer(WOFPlayer):\n",
    "    SORTED_FREQUENCIES = 'ZQXJKVBPYGFWMUCLDRHSNIOATE'\n",
    "    def __init__(self, name, difficulty):\n",
    "        self.name = name\n",
    "        self.difficulty = difficulty\n",
    "        self.prizeMoney = 0\n",
    "        self.prizes = []\n",
    "    def smartCoinFlip(self):\n",
    "        num= random.randint(1, 10)\n",
    "        if num>self.difficulty: return True\n",
    "        else: return False\n",
    "    def getPossibleLetters(self, guessed):\n",
    "        alist=[]\n",
    "        for L in LETTERS:\n",
    "            if L in guessed:\n",
    "                continue\n",
    "            else:\n",
    "                if L in (VOWELS) and (self.prizeMoney < VOWEL_COST): continue\n",
    "                else: \n",
    "                    alist.append(L)\n",
    "        return alist\n",
    "    def getMove(category, obscuredPhrase, guessed):\n",
    "        if len(getPossibleLetters(guessed)) < 1: return 'pass'\n",
    "        else: \n",
    "            if smartCoinFlip == True:\n",
    "                for let in SORTED_FREQUENCIES[::-1]:\n",
    "                    if let in getPossibleLetters(guessed):\n",
    "                        return let\n",
    "            elif smartCoinFlip == False:\n",
    "                return random.choice(getPossibleLetters(guessed))\n",
    "       "
   ]
  },
  {
   "cell_type": "code",
   "execution_count": null,
   "metadata": {},
   "outputs": [],
   "source": [
    "\"strwefkn{0}dkvn{}dfdfd{}dfdf{}dfd{}\""
   ]
  },
  {
   "cell_type": "code",
   "execution_count": null,
   "metadata": {},
   "outputs": [],
   "source": [
    "   move = player.getMove(category, obscurePhrase(phrase, guessed), guessed)"
   ]
  },
  {
   "cell_type": "code",
   "execution_count": null,
   "metadata": {},
   "outputs": [],
   "source": []
  },
  {
   "cell_type": "code",
   "execution_count": null,
   "metadata": {},
   "outputs": [],
   "source": []
  },
  {
   "cell_type": "code",
   "execution_count": null,
   "metadata": {},
   "outputs": [],
   "source": []
  },
  {
   "cell_type": "code",
   "execution_count": null,
   "metadata": {},
   "outputs": [],
   "source": []
  },
  {
   "cell_type": "code",
   "execution_count": null,
   "metadata": {},
   "outputs": [],
   "source": []
  },
  {
   "cell_type": "code",
   "execution_count": null,
   "metadata": {},
   "outputs": [],
   "source": []
  },
  {
   "cell_type": "code",
   "execution_count": null,
   "metadata": {},
   "outputs": [],
   "source": []
  },
  {
   "cell_type": "code",
   "execution_count": null,
   "metadata": {},
   "outputs": [],
   "source": []
  },
  {
   "cell_type": "code",
   "execution_count": null,
   "metadata": {},
   "outputs": [],
   "source": []
  },
  {
   "cell_type": "code",
   "execution_count": null,
   "metadata": {},
   "outputs": [],
   "source": []
  },
  {
   "cell_type": "code",
   "execution_count": null,
   "metadata": {},
   "outputs": [],
   "source": []
  },
  {
   "cell_type": "code",
   "execution_count": null,
   "metadata": {},
   "outputs": [],
   "source": []
  },
  {
   "cell_type": "code",
   "execution_count": null,
   "metadata": {},
   "outputs": [],
   "source": []
  },
  {
   "cell_type": "code",
   "execution_count": null,
   "metadata": {},
   "outputs": [],
   "source": []
  },
  {
   "cell_type": "code",
   "execution_count": null,
   "metadata": {},
   "outputs": [],
   "source": []
  },
  {
   "cell_type": "code",
   "execution_count": null,
   "metadata": {},
   "outputs": [],
   "source": []
  },
  {
   "cell_type": "code",
   "execution_count": null,
   "metadata": {},
   "outputs": [],
   "source": []
  },
  {
   "cell_type": "code",
   "execution_count": null,
   "metadata": {},
   "outputs": [],
   "source": []
  },
  {
   "cell_type": "code",
   "execution_count": null,
   "metadata": {},
   "outputs": [],
   "source": []
  },
  {
   "cell_type": "code",
   "execution_count": null,
   "metadata": {},
   "outputs": [],
   "source": []
  },
  {
   "cell_type": "code",
   "execution_count": null,
   "metadata": {},
   "outputs": [],
   "source": []
  },
  {
   "cell_type": "code",
   "execution_count": null,
   "metadata": {},
   "outputs": [],
   "source": []
  },
  {
   "cell_type": "code",
   "execution_count": null,
   "metadata": {},
   "outputs": [],
   "source": []
  },
  {
   "cell_type": "code",
   "execution_count": null,
   "metadata": {},
   "outputs": [],
   "source": []
  },
  {
   "cell_type": "code",
   "execution_count": null,
   "metadata": {},
   "outputs": [],
   "source": []
  },
  {
   "cell_type": "code",
   "execution_count": null,
   "metadata": {},
   "outputs": [],
   "source": []
  },
  {
   "cell_type": "code",
   "execution_count": null,
   "metadata": {},
   "outputs": [],
   "source": []
  },
  {
   "cell_type": "code",
   "execution_count": null,
   "metadata": {},
   "outputs": [],
   "source": []
  },
  {
   "cell_type": "code",
   "execution_count": null,
   "metadata": {},
   "outputs": [],
   "source": []
  }
 ],
 "metadata": {
  "kernelspec": {
   "display_name": "Python 3",
   "language": "python",
   "name": "python3"
  },
  "language_info": {
   "codemirror_mode": {
    "name": "ipython",
    "version": 3
   },
   "file_extension": ".py",
   "mimetype": "text/x-python",
   "name": "python",
   "nbconvert_exporter": "python",
   "pygments_lexer": "ipython3",
   "version": "3.7.6"
  }
 },
 "nbformat": 4,
 "nbformat_minor": 4
}
