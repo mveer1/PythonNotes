{
 "cells": [
  {
   "cell_type": "markdown",
   "metadata": {},
   "source": [
    "# sorting basics\n",
    "in python, we just call inbuilt functions\n",
    "Note that the sort method does not return a sorted version of the list. In fact, it returns the value None. But the list itself has been modified. This kind of operation that works by having a side effect on the list can be quite confusing.\n",
    "In this course, we will generally use an alternative way of sorting, the function sorted rather than the method sort. Because it is a function rather than a method, it is invoked on a list by passing the list as a parameter inside the parentheses, rather than putting the list before the period. More importantly, sorted does not change the original list. Instead, it returns a new list."
   ]
  },
  {
   "cell_type": "code",
   "execution_count": 2,
   "metadata": {},
   "outputs": [
    {
     "name": "stdout",
     "output_type": "stream",
     "text": [
      "[-2, 1, 3, 4, 7]\n",
      "['Apple', 'Blueberry', 'Cherry']\n",
      "['Apple', 'Cherry', 'blueberry']\n"
     ]
    }
   ],
   "source": [
    "#sort method\n",
    "L1 = [1, 7, 4, -2, 3]\n",
    "L2 = [\"Cherry\", \"Apple\", \"Blueberry\"]\n",
    "L3 = [\"Cherry\", \"Apple\", \"blueberry\"]\n",
    "L1.sort()\n",
    "print(L1)\n",
    "L2.sort()\n",
    "print(L2)\n",
    "L3.sort()\n",
    "print(L3)"
   ]
  },
  {
   "cell_type": "code",
   "execution_count": 4,
   "metadata": {},
   "outputs": [
    {
     "name": "stdout",
     "output_type": "stream",
     "text": [
      "['Apple', 'Blueberry', 'Cherry']\n",
      "['Apple', 'Blueberry', 'Cherry']\n",
      "['Cherry', 'Apple', 'Blueberry']\n",
      "----------\n",
      "None\n"
     ]
    }
   ],
   "source": [
    "#sorted funtion\n",
    "L2 = [\"Cherry\", \"Apple\", \"Blueberry\"]\n",
    "\n",
    "L3 = sorted(L2)\n",
    "print(L3)\n",
    "print(sorted(L2))\n",
    "print(L2) # unchanged\n",
    "\n",
    "print('-'*10)\n",
    "print(L2.sort())"
   ]
  },
  {
   "cell_type": "code",
   "execution_count": 8,
   "metadata": {},
   "outputs": [
    {
     "name": "stdout",
     "output_type": "stream",
     "text": [
      "['Cherry', 'Blueberry', 'Apple']\n"
     ]
    }
   ],
   "source": [
    "#Optional reverse parameter\n",
    "\n",
    "#The sorted function takes some optional parameters \n",
    "#The first optional parameter is a key function \n",
    "#The second optional parameter is a Boolean value which determines whether to sort the items in reverse order. \n",
    "#By default, it is False, but if you set it to True, the list will be sorted in reverse order.\n",
    "\n",
    "L2 = [\"Cherry\", \"Apple\", \"Blueberry\"]\n",
    "print(sorted(L2, reverse=True))\n",
    "\n",
    "#This is a situation where it is convenient to use the keyword mechanism for providing optional parameters. \n",
    "#It is possible to provide the value True for the reverse parameter without naming that parameter, but then we would have to provide a value for the second parameter as well\n",
    "#print(sorted(L2, None, True))     #i have no idea why the error\n",
    "L1 = [1, 7, 4, -2, 3]\n",
    "print(sorted(L1, key=None, reverse=True))  #this does work."
   ]
  },
  {
   "cell_type": "code",
   "execution_count": 18,
   "metadata": {},
   "outputs": [
    {
     "name": "stdout",
     "output_type": "stream",
     "text": [
      "[1, -2, 3, 4, 7]\n",
      "[1, -2, 3, 4, 7]\n"
     ]
    },
    {
     "data": {
      "text/plain": [
       "['19', '14378', '8907', '16', '1005', '44', '33', '32', '871', '1450']"
      ]
     },
     "execution_count": 18,
     "metadata": {},
     "output_type": "execute_result"
    }
   ],
   "source": [
    "#Optional key parameter\n",
    "\n",
    "#If you want to sort things in some order other than the “natural” or its reverse, you can provide an additional parameter, the key parameter.\n",
    "L1 = [1, 7, 4, -2, 3]\n",
    "\n",
    "def absolute(x):\n",
    "    if x >= 0:\n",
    "        return x\n",
    "    else:\n",
    "        return -x\n",
    "\n",
    "L2 = sorted(L1, key=absolute)\n",
    "print(L2)\n",
    "#yes we can do that, though python has its own fucntion abs (absolute fucntion). ->\n",
    "L2 = sorted(L1, key=abs)\n",
    "print(L2)\n",
    "\n",
    "#default value of this key parameter is None\n",
    "#Note that this code never explicitly calls the absolute function at all. It passes the absolute function as a parameter value to the sorted function. Inside the sorted function, whose code we haven’t seen, that function gets invoked.\n",
    "\n",
    "nums = ['1450', '33', '871', '19', '14378', '32', '1005', '44', '8907', '16']\n",
    "nums_sorted_lambda= sorted(nums, key=lambda s:s[-1],reverse=True)\n",
    "nums_sorted_lambda"
   ]
  },
  {
   "cell_type": "code",
   "execution_count": 22,
   "metadata": {},
   "outputs": [
    {
     "name": "stdout",
     "output_type": "stream",
     "text": [
      "! appears 1 times\n",
      "a appears 1 times\n",
      "d appears 1 times\n",
      "e appears 2 times\n",
      "h appears 2 times\n",
      "i appears 1 times\n",
      "m appears 1 times\n",
      "n appears 1 times\n",
      "o appears 3 times\n",
      "t appears 1 times\n",
      "v appears 1 times\n",
      "y appears 1 times\n"
     ]
    }
   ],
   "source": [
    "#sorting a dictionary\n",
    "\n",
    "#e.g. of frequency counts of chars in a string\n",
    "stre='hey i had to move on!'\n",
    "s=stre.split()\n",
    "d = {}\n",
    "for word in s:\n",
    "    for x in word:\n",
    "        if x in d:\n",
    "            d[x] = d[x] + 1\n",
    "        else:\n",
    "            d[x] = 1\n",
    "y = sorted(d.keys())\n",
    "for k in y:\n",
    "    print(\"{} appears {} times\".format(k, d[k]))"
   ]
  },
  {
   "cell_type": "code",
   "execution_count": 25,
   "metadata": {},
   "outputs": [
    {
     "name": "stdout",
     "output_type": "stream",
     "text": [
      "o appears 3 times\n",
      "h appears 2 times\n",
      "e appears 2 times\n",
      "y appears 1 times\n",
      "i appears 1 times\n",
      "a appears 1 times\n",
      "d appears 1 times\n",
      "t appears 1 times\n",
      "m appears 1 times\n",
      "v appears 1 times\n",
      "n appears 1 times\n"
     ]
    }
   ],
   "source": [
    "#that was how to sort according to letter, or better keys of the dict, but with values, i.e. highest occurred to lowest\n",
    "d = {}\n",
    "stre='hey i had to move on'\n",
    "s=stre.split()\n",
    "for L in s:\n",
    "    for x in L:\n",
    "        if x in d:\n",
    "            d[x] = d[x] + 1\n",
    "        else:\n",
    "            d[x] = 1\n",
    "\n",
    "for k in sorted(d, key=lambda k: d[k], reverse=True):                #very confusing line. The function sorted is invoked. Its first parameter value is a dictionary, which really means the keys of the dictionary. The second parameter, the key function, decorates the dictionary key with a post-it note containing that key’s value in dictionary d. The last parameter, True, says to sort in reverse order.\n",
    "      print(\"{} appears {} times\".format(k, d[k]))\n",
    "#When we sort the keys, passing a function with key=lambda x: d[x] does not specify to sort the keys of a dictionary, \n",
    "#The lists of keys are passed as the first parameter value in the invocation of sort. The key parameter provides a function that says how to sort them.\n"
   ]
  },
  {
   "cell_type": "code",
   "execution_count": null,
   "metadata": {},
   "outputs": [],
   "source": [
    "#another way to sort dictionaries\n",
    "#There is another way to sort dictionaries, by calling .items() to extract a sequence of (key, value) tuples, and then sorting that sequence of tuples. But it’s better to learn the pythonic way of doing it, sorting the dictionary keys using a key function that takes one key as input and looks up the value in the dictionary."
   ]
  },
  {
   "cell_type": "code",
   "execution_count": 27,
   "metadata": {},
   "outputs": [
    {
     "data": {
      "text/plain": [
       "['Trees', 'Lights', 'Flowers', 'Chairs', 'Grill', 'Firepit']"
      ]
     },
     "execution_count": 27,
     "metadata": {},
     "output_type": "execute_result"
    }
   ],
   "source": [
    "dictionary = {\"Flowers\": 10, 'Trees': 20, 'Chairs': 6, \"Firepit\": 1, 'Grill': 2, 'Lights': 14}\n",
    "sorted_values=sorted(dictionary, key=lambda k:dictionary[k],reverse=True)\n",
    "sorted_values"
   ]
  },
  {
   "cell_type": "markdown",
   "metadata": {},
   "source": [
    "#### Breaking Ties: Second Sorting\n",
    "What happens when two items are “tied” in the sort order? For example, suppose we sort a list of words by their lengths. Which five letter word will appear first?\n",
    "\n",
    "The answer is that the python interpreter will sort the tied items in the same order they were in before the sorting.\n",
    "\n",
    "What if we wanted to sort them by some other property, say alphabetically, when the words were the same length? Python allows us to specify multiple conditions when we perform a sort by returning a tuple from a key function.\n",
    "\n",
    "First, let’s see how python sorts tuples. We’ve already seen that there’s a built-in sort order, if we don’t specify any key function. For numbers, it’s lowest to highest. For strings, it’s alphabetic order. For a sequence of tuples, the default sort order is based on the default sort order for the first elements of the tuples, with ties being broken by the second elements, and then third elements if necessary, etc. For example,"
   ]
  },
  {
   "cell_type": "code",
   "execution_count": 28,
   "metadata": {},
   "outputs": [
    {
     "name": "stdout",
     "output_type": "stream",
     "text": [
      "('A', 2, 4)\n",
      "('A', 3, 2)\n",
      "('B', 3, 1)\n",
      "('C', 1, 2)\n",
      "('C', 1, 4)\n"
     ]
    }
   ],
   "source": [
    "tups = [('A', 3, 2),\n",
    "        ('C', 1, 4),\n",
    "        ('B', 3, 1),\n",
    "        ('A', 2, 4),\n",
    "        ('C', 1, 2)]\n",
    "for tup in sorted(tups):\n",
    "    print(tup)"
   ]
  },
  {
   "cell_type": "code",
   "execution_count": null,
   "metadata": {},
   "outputs": [],
   "source": [
    "#sort a list of fruit words first by their length, smallest to largest, and then alphabetically to break ties among words of the same length.\n",
    "#To do that, we have the key function return a tuple whose first element is the length of the fruit’s name, and second element is the fruit name itself.\n",
    "\n",
    "fruits = ['peach', 'kiwi', 'apple', 'blueberry', 'papaya', 'mango', 'pear']\n",
    "new_order = sorted(fruits, key=lambda fruit_name: (len(fruit_name), fruit_name))\n",
    "for fruit in new_order:\n",
    "    print(fruit)"
   ]
  },
  {
   "cell_type": "code",
   "execution_count": 30,
   "metadata": {},
   "outputs": [
    {
     "name": "stdout",
     "output_type": "stream",
     "text": [
      "blueberry\n",
      "papaya\n",
      "peach\n",
      "mango\n",
      "apple\n",
      "pear\n",
      "kiwi\n"
     ]
    }
   ],
   "source": [
    "fruits = ['peach', 'kiwi', 'apple', 'blueberry', 'papaya', 'mango', 'pear']\n",
    "new_order = sorted(fruits, key=lambda fruit_name: (len(fruit_name), fruit_name), reverse=True)\n",
    "for fruit in new_order:\n",
    "    print(fruit)\n",
    "\n",
    "#saw the problem here, it reverses everything\n",
    "#One solution is to add a negative sign in front of len(fruit_name), which will convert all positive numbers to negative, and all negative numbers to positive. As a result, the longest elements would be first and the shortest elements would be last."
   ]
  },
  {
   "cell_type": "code",
   "execution_count": 29,
   "metadata": {},
   "outputs": [
    {
     "name": "stdout",
     "output_type": "stream",
     "text": [
      "blueberry\n",
      "papaya\n",
      "apple\n",
      "mango\n",
      "peach\n",
      "kiwi\n",
      "pear\n"
     ]
    }
   ],
   "source": [
    "fruits = ['peach', 'kiwi', 'apple', 'blueberry', 'papaya', 'mango', 'pear']\n",
    "new_order = sorted(fruits, key=lambda fruit_name: (-len(fruit_name), fruit_name))\n",
    "for fruit in new_order:\n",
    "    print(fruit)"
   ]
  },
  {
   "cell_type": "code",
   "execution_count": null,
   "metadata": {},
   "outputs": [],
   "source": [
    "weather = {'Reykjavik': {'temp':60, 'condition': 'rainy'},\n",
    "           'Buenos Aires': {'temp': 55, 'condition': 'cloudy'},\n",
    "           'Cairo': {'temp': 96, 'condition': 'sunny'},\n",
    "           'Berlin': {'temp': 89, 'condition': 'sunny'},\n",
    "           'Caloocan': {'temp': 78, 'condition': 'sunny'}}\n",
    "\n",
    "sorted_weather = sorted(weather, key=lambda w: (w, weather[w]['temp']))\n",
    "\n",
    "#first city name (alphabetically), then temperature (lowest to highest)"
   ]
  },
  {
   "cell_type": "markdown",
   "metadata": {},
   "source": [
    "it’s generally best to use lambda expressions until the process is too complicated\n",
    " the property we want to sort by is the number of cities that begin with the letter ‘S’. The function defining this property is harder to express, requiring a filter and count accumulation pattern. So we are better off defining a separate, named function. Here, we’ve chosen to make a lambda expression that looks up the value associated with the particular state and pass that value to the named function s_cities_count. We could have passed just the key, but then the function would have to look up the value, and it would be a little confusing, from the code, to figure out what dictionary the key is supposed to be looked up in. Here, we’ve done the lookup right in the lambda expression, which makes it a little bit clearer that we’re just sorting the keys of the states dictionary based on a property of their values. It also makes it easier to reuse the counting function on other city lists, even if they aren’t embedded in that particular states dictionary."
   ]
  },
  {
   "cell_type": "code",
   "execution_count": null,
   "metadata": {},
   "outputs": [],
   "source": [
    "def s_cities_count(city_list):\n",
    "    ct = 0\n",
    "    for city in city_list:\n",
    "        if city[0] == \"S\":\n",
    "            ct += 1\n",
    "    return ct\n",
    "\n",
    "states = {\"Minnesota\": [\"St. Paul\", \"Minneapolis\", \"Saint Cloud\", \"Stillwater\"],\n",
    "          \"Michigan\": [\"Ann Arbor\", \"Traverse City\", \"Lansing\", \"Kalamazoo\"],\n",
    "          \"Washington\": [\"Seattle\", \"Tacoma\", \"Olympia\", \"Vancouver\"]}\n",
    "\n",
    "print(sorted(states, key=lambda state: s_cities_count(states[state])))\n"
   ]
  },
  {
   "cell_type": "code",
   "execution_count": null,
   "metadata": {},
   "outputs": [],
   "source": []
  },
  {
   "cell_type": "code",
   "execution_count": null,
   "metadata": {},
   "outputs": [],
   "source": []
  },
  {
   "cell_type": "markdown",
   "metadata": {},
   "source": [
    "# notes on project\n",
    "1. replace (a string method) doesnt returns none, its not like append\n",
    "we have to\n",
    "s=s.replace(old,new)\n",
    "holyfuck project\n"
   ]
  },
  {
   "cell_type": "code",
   "execution_count": null,
   "metadata": {},
   "outputs": [],
   "source": [
    "punctuation_chars = [\"'\", '\"', \",\", \".\", \"!\", \":\", \";\", '#', '@']\n",
    "#lists of words to use\n",
    "positive_words = []\n",
    "with open(\"positive_words.txt\") as pos_f:\n",
    "    for lin in pos_f:\n",
    "        if lin[0] != ';' and lin[0] != '\\n':\n",
    "            positive_words.append(lin.strip())\n",
    "\n",
    "negative_words = []\n",
    "with open(\"negative_words.txt\") as pos_f:\n",
    "    for lin in pos_f:\n",
    "        if lin[0] != ';' and lin[0] != '\\n':\n",
    "            negative_words.append(lin.strip())\n",
    "            \n",
    "            \n",
    "def get_pos(st):\n",
    "    c=0\n",
    "    for word in strip_punctuation(st).lower().split():\n",
    "        if word in positive_words:\n",
    "            c+=1\n",
    "    return c\n",
    "\n",
    "\n",
    "def get_neg(st):\n",
    "    c=0\n",
    "    for word in strip_punctuation(st).lower().split():\n",
    "        if word in negative_words:\n",
    "            c+=1\n",
    "    return c\n",
    "\n",
    "\n",
    "def strip_punctuation(s):\n",
    "    for char in s:\n",
    "        if char in punctuation_chars:\n",
    "            s=s.replace(char,'')\n",
    "    return s \n",
    "\n",
    "outfile=open('resulting_data.csv','w')\n",
    "outfile.write('Number of Retweets, Number of Replies, Positive Score, Negative Score, Net Score')\n",
    "print(2)\n",
    "outfile.write('\\n')                    #making of headers\n",
    "handle=open('project_twitter_data.csv') #has 1. text 2. #retweets 3. #replies\n",
    "lines = handle.readlines()\n",
    "header = lines[0]\n",
    "field_names = header.strip().split(',')\n",
    "print(field_names)\n",
    "for line in lines[1:]:\n",
    "    listx=line.strip().split(',')\n",
    "    print(listx[1:])\n",
    "    outfile.write('{},{},{},{},{}'.format(listx[1], listx[2], get_pos(listx[0]), get_neg(listx[0]), get_pos(listx[0])-get_neg(listx[0])))\n",
    "    outfile.write('\\n')\n",
    "    print('line written')"
   ]
  },
  {
   "cell_type": "code",
   "execution_count": null,
   "metadata": {},
   "outputs": [],
   "source": []
  },
  {
   "cell_type": "code",
   "execution_count": null,
   "metadata": {},
   "outputs": [],
   "source": []
  },
  {
   "cell_type": "code",
   "execution_count": null,
   "metadata": {},
   "outputs": [],
   "source": []
  },
  {
   "cell_type": "code",
   "execution_count": null,
   "metadata": {},
   "outputs": [],
   "source": []
  },
  {
   "cell_type": "code",
   "execution_count": null,
   "metadata": {},
   "outputs": [],
   "source": []
  },
  {
   "cell_type": "code",
   "execution_count": null,
   "metadata": {},
   "outputs": [],
   "source": []
  },
  {
   "cell_type": "code",
   "execution_count": null,
   "metadata": {},
   "outputs": [],
   "source": []
  },
  {
   "cell_type": "code",
   "execution_count": null,
   "metadata": {},
   "outputs": [],
   "source": []
  },
  {
   "cell_type": "code",
   "execution_count": null,
   "metadata": {},
   "outputs": [],
   "source": []
  },
  {
   "cell_type": "code",
   "execution_count": null,
   "metadata": {},
   "outputs": [],
   "source": []
  },
  {
   "cell_type": "code",
   "execution_count": null,
   "metadata": {},
   "outputs": [],
   "source": []
  },
  {
   "cell_type": "code",
   "execution_count": null,
   "metadata": {},
   "outputs": [],
   "source": []
  },
  {
   "cell_type": "code",
   "execution_count": null,
   "metadata": {},
   "outputs": [],
   "source": []
  },
  {
   "cell_type": "code",
   "execution_count": null,
   "metadata": {},
   "outputs": [],
   "source": []
  },
  {
   "cell_type": "code",
   "execution_count": null,
   "metadata": {},
   "outputs": [],
   "source": []
  },
  {
   "cell_type": "code",
   "execution_count": null,
   "metadata": {},
   "outputs": [],
   "source": []
  }
 ],
 "metadata": {
  "kernelspec": {
   "display_name": "Python 3",
   "language": "python",
   "name": "python3"
  },
  "language_info": {
   "codemirror_mode": {
    "name": "ipython",
    "version": 3
   },
   "file_extension": ".py",
   "mimetype": "text/x-python",
   "name": "python",
   "nbconvert_exporter": "python",
   "pygments_lexer": "ipython3",
   "version": "3.7.6"
  }
 },
 "nbformat": 4,
 "nbformat_minor": 4
}
