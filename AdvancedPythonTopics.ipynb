{
  "nbformat": 4,
  "nbformat_minor": 0,
  "metadata": {
    "colab": {
      "name": "AdvancedPythonTopics.ipynb",
      "provenance": [],
      "authorship_tag": "ABX9TyMWfAtrZ2BeqaXdQ7qSPKK7",
      "include_colab_link": true
    },
    "kernelspec": {
      "name": "python3",
      "display_name": "Python 3"
    },
    "language_info": {
      "name": "python"
    }
  },
  "cells": [
    {
      "cell_type": "markdown",
      "metadata": {
        "id": "view-in-github",
        "colab_type": "text"
      },
      "source": [
        "<a href=\"https://colab.research.google.com/github/mveer1/PythonNotes/blob/main/AdvancedPythonTopics.ipynb\" target=\"_parent\"><img src=\"https://colab.research.google.com/assets/colab-badge.svg\" alt=\"Open In Colab\"/></a>"
      ]
    },
    {
      "cell_type": "markdown",
      "metadata": {
        "id": "CLzLcUQ7htcD"
      },
      "source": [
        "- **Lists in Python - Advanced Python 01 - Programming Tutorial**\n",
        "- **Tuples in Python - Advanced Python 02**\n",
        "- **Dictionaries in Python - Advanced Python 03**\n",
        "- **Sets in Python - Advanced Python 04**\n",
        "- **Strings in Python - Advanced Python 05**\n",
        "- **Collections in Python - Advanced Python 06**\n",
        "- **Itertools in Python - Advanced Python 07**\n",
        "- **Lambda in Python - Advanced Python 08 Map Filter Reduce**\n",
        "- **Exceptions in Python - Advanced Python 09**\n",
        "- **Logging in Python - Advanced Python 10**\n",
        "- **JSON in Python - Advanced Python 11**\n",
        "- **Random Numbers in Python - Advanced Python 12**\n",
        "- **Decorators in Python - Advanced Python 13**\n",
        "- **Generators in Python - Advanced Python 14**\n",
        "- **Threading vs Multiprocessing in Python - Advanced Python 15**\n",
        "- **Threading in Python - Advanced Python 16**\n",
        "- **Multiprocessing in Python - Advanced Python 17**\n",
        "- **Function arguments in detail - Advanced Python 18**\n",
        "- **The asterisk (*) operator in Python - Advanced Python 19**\n",
        "- **Shallow vs Deep Copying in Python - Advanced Python 20**\n",
        "- **Context Managers in Python - Advanced Python 21**"
      ]
    },
    {
      "cell_type": "markdown",
      "metadata": {
        "id": "Xp8qf6wai3k7"
      },
      "source": [
        "# **Lists**"
      ]
    },
    {
      "cell_type": "code",
      "metadata": {
        "id": "nGOzgZvXjmRX"
      },
      "source": [
        ""
      ],
      "execution_count": null,
      "outputs": []
    },
    {
      "cell_type": "markdown",
      "metadata": {
        "id": "mnWp9mp1jmnC"
      },
      "source": [
        "# **Tuples**"
      ]
    },
    {
      "cell_type": "code",
      "metadata": {
        "id": "zTgdEZOJjmyu"
      },
      "source": [
        ""
      ],
      "execution_count": null,
      "outputs": []
    },
    {
      "cell_type": "markdown",
      "metadata": {
        "id": "GROPvN9xjm4-"
      },
      "source": [
        "# **Dictionaries**"
      ]
    },
    {
      "cell_type": "code",
      "metadata": {
        "id": "g3JDh2Cnjm_F"
      },
      "source": [
        ""
      ],
      "execution_count": null,
      "outputs": []
    },
    {
      "cell_type": "markdown",
      "metadata": {
        "id": "ZnqQBOD5jnFS"
      },
      "source": [
        "# **Sets**"
      ]
    },
    {
      "cell_type": "code",
      "metadata": {
        "id": "EsZRf-IyjnKr"
      },
      "source": [
        ""
      ],
      "execution_count": null,
      "outputs": []
    },
    {
      "cell_type": "markdown",
      "metadata": {
        "id": "e1DUqQkVjnQv"
      },
      "source": [
        "# **Strings**"
      ]
    },
    {
      "cell_type": "code",
      "metadata": {
        "id": "mjGkBx9PjnVs"
      },
      "source": [
        ""
      ],
      "execution_count": 22,
      "outputs": []
    },
    {
      "cell_type": "markdown",
      "metadata": {
        "id": "SYh-0BHYqhRq"
      },
      "source": [
        "# **Collections**"
      ]
    },
    {
      "cell_type": "code",
      "metadata": {
        "id": "PYMPMb0_qgUs"
      },
      "source": [
        ""
      ],
      "execution_count": null,
      "outputs": []
    },
    {
      "cell_type": "markdown",
      "metadata": {
        "id": "VIrWYfjnjnxz"
      },
      "source": [
        "# **Itertools**"
      ]
    },
    {
      "cell_type": "code",
      "metadata": {
        "id": "593oBJHWjn3c"
      },
      "source": [
        ""
      ],
      "execution_count": null,
      "outputs": []
    },
    {
      "cell_type": "markdown",
      "metadata": {
        "id": "tWDoSfMMjn9m"
      },
      "source": [
        "# **Lambda**\n"
      ]
    },
    {
      "cell_type": "code",
      "metadata": {
        "id": "5PTI9KVfjoCJ"
      },
      "source": [
        ""
      ],
      "execution_count": null,
      "outputs": []
    },
    {
      "cell_type": "markdown",
      "metadata": {
        "id": "KJ4cxYETjoH7"
      },
      "source": [
        "# **Exceptions**\n"
      ]
    },
    {
      "cell_type": "code",
      "metadata": {
        "id": "_tfY1i5djoMA"
      },
      "source": [
        ""
      ],
      "execution_count": null,
      "outputs": []
    },
    {
      "cell_type": "markdown",
      "metadata": {
        "id": "5yftU_oGq0F1"
      },
      "source": [
        "# **Logging**\n"
      ]
    },
    {
      "cell_type": "code",
      "metadata": {
        "id": "ySYdUoIDq0ZX"
      },
      "source": [
        ""
      ],
      "execution_count": null,
      "outputs": []
    },
    {
      "cell_type": "markdown",
      "metadata": {
        "id": "iOnHlBMxq0fY"
      },
      "source": [
        "# **JSON**\n"
      ]
    },
    {
      "cell_type": "code",
      "metadata": {
        "id": "sFMbAiidq0ku"
      },
      "source": [
        ""
      ],
      "execution_count": null,
      "outputs": []
    },
    {
      "cell_type": "markdown",
      "metadata": {
        "id": "CTkpPwQIq0qG"
      },
      "source": [
        "# **Random Numbers**\n"
      ]
    },
    {
      "cell_type": "code",
      "metadata": {
        "id": "agxmT9czq00T"
      },
      "source": [
        ""
      ],
      "execution_count": null,
      "outputs": []
    },
    {
      "cell_type": "markdown",
      "metadata": {
        "id": "nIZGiVHgq0-O"
      },
      "source": [
        "# **Decorators**\n"
      ]
    },
    {
      "cell_type": "code",
      "metadata": {
        "id": "MB3ovBFlq1CZ"
      },
      "source": [
        ""
      ],
      "execution_count": null,
      "outputs": []
    },
    {
      "cell_type": "markdown",
      "metadata": {
        "id": "1r-RewMiq1GH"
      },
      "source": [
        "# **Generators**\n"
      ]
    },
    {
      "cell_type": "code",
      "metadata": {
        "id": "YYNxdiFKq1Kc"
      },
      "source": [
        ""
      ],
      "execution_count": null,
      "outputs": []
    },
    {
      "cell_type": "markdown",
      "metadata": {
        "id": "ywwxSYcGq1On"
      },
      "source": [
        "# **Threading vs Multiprocessing**"
      ]
    },
    {
      "cell_type": "code",
      "metadata": {
        "id": "2tcs-40pq_zf"
      },
      "source": [
        ""
      ],
      "execution_count": null,
      "outputs": []
    },
    {
      "cell_type": "markdown",
      "metadata": {
        "id": "R-xV0inDrAAY"
      },
      "source": [
        "# **Threading**"
      ]
    },
    {
      "cell_type": "code",
      "metadata": {
        "id": "tc03Wgz_rAGW"
      },
      "source": [
        ""
      ],
      "execution_count": null,
      "outputs": []
    },
    {
      "cell_type": "markdown",
      "metadata": {
        "id": "B697iCevrAK1"
      },
      "source": [
        "# **Multiprocessing**"
      ]
    },
    {
      "cell_type": "code",
      "metadata": {
        "id": "GuGDetryrAPB"
      },
      "source": [
        ""
      ],
      "execution_count": null,
      "outputs": []
    },
    {
      "cell_type": "markdown",
      "metadata": {
        "id": "DTQwWCNgrAr-"
      },
      "source": [
        "# **Function arguments**"
      ]
    },
    {
      "cell_type": "code",
      "metadata": {
        "id": "MoAEk0hJrAym"
      },
      "source": [
        ""
      ],
      "execution_count": null,
      "outputs": []
    },
    {
      "cell_type": "markdown",
      "metadata": {
        "id": "jzvspVPOrA4L"
      },
      "source": [
        "# **The asterisk (*) operator**"
      ]
    },
    {
      "cell_type": "code",
      "metadata": {
        "id": "ZEqaN-kerIKc"
      },
      "source": [
        ""
      ],
      "execution_count": null,
      "outputs": []
    },
    {
      "cell_type": "markdown",
      "metadata": {
        "id": "axYCU7IBrIw4"
      },
      "source": [
        "\n",
        "# **Shallow vs Deep Copying**\n"
      ]
    },
    {
      "cell_type": "code",
      "metadata": {
        "id": "pSjCs8IqrI6e"
      },
      "source": [
        ""
      ],
      "execution_count": null,
      "outputs": []
    },
    {
      "cell_type": "markdown",
      "metadata": {
        "id": "iJYsxQ7TrJBP"
      },
      "source": [
        "# **Context Managers**"
      ]
    },
    {
      "cell_type": "code",
      "metadata": {
        "id": "4-4X-3ogrJKs"
      },
      "source": [
        ""
      ],
      "execution_count": null,
      "outputs": []
    }
  ]
}