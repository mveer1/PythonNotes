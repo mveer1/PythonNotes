{
  "nbformat": 4,
  "nbformat_minor": 0,
  "metadata": {
    "colab": {
      "name": "AdvancedPythonTopics.ipynb",
      "provenance": [],
      "collapsed_sections": [
        "Xp8qf6wai3k7",
        "mnWp9mp1jmnC",
        "GROPvN9xjm4-",
        "ZnqQBOD5jnFS",
        "e1DUqQkVjnQv",
        "SYh-0BHYqhRq",
        "VIrWYfjnjnxz",
        "tWDoSfMMjn9m",
        "5yftU_oGq0F1",
        "iOnHlBMxq0fY",
        "CTkpPwQIq0qG",
        "ywwxSYcGq1On",
        "R-xV0inDrAAY",
        "B697iCevrAK1",
        "DTQwWCNgrAr-",
        "jzvspVPOrA4L",
        "axYCU7IBrIw4",
        "iJYsxQ7TrJBP"
      ],
      "authorship_tag": "ABX9TyOUdGYn6zPeig4oqnKxcDF5",
      "include_colab_link": true
    },
    "kernelspec": {
      "name": "python3",
      "display_name": "Python 3"
    },
    "language_info": {
      "name": "python"
    }
  },
  "cells": [
    {
      "cell_type": "markdown",
      "metadata": {
        "id": "view-in-github",
        "colab_type": "text"
      },
      "source": [
        "<a href=\"https://colab.research.google.com/github/mveer1/PythonNotes/blob/main/AdvancedPythonTopics.ipynb\" target=\"_parent\"><img src=\"https://colab.research.google.com/assets/colab-badge.svg\" alt=\"Open In Colab\"/></a>"
      ]
    },
    {
      "cell_type": "markdown",
      "metadata": {
        "id": "CLzLcUQ7htcD"
      },
      "source": [
        "- **Lists in Python - Advanced Python 01 - Programming Tutorial**\n",
        "- **Tuples in Python - Advanced Python 02**\n",
        "- **Dictionaries in Python - Advanced Python 03**\n",
        "- **Sets in Python - Advanced Python 04**\n",
        "- **Strings in Python - Advanced Python 05**\n",
        "- **Collections in Python - Advanced Python 06**\n",
        "- **Itertools in Python - Advanced Python 07**\n",
        "- **Lambda in Python - Advanced Python 08 Map Filter Reduce**\n",
        "- **Exceptions in Python - Advanced Python 09**\n",
        "- **Logging in Python - Advanced Python 10**\n",
        "- **JSON in Python - Advanced Python 11**\n",
        "- **Random Numbers in Python - Advanced Python 12**\n",
        "- **Decorators in Python - Advanced Python 13**\n",
        "- **Generators in Python - Advanced Python 14**\n",
        "- **Threading vs Multiprocessing in Python - Advanced Python 15**\n",
        "- **Threading in Python - Advanced Python 16**\n",
        "- **Multiprocessing in Python - Advanced Python 17**\n",
        "- **Function arguments in detail - Advanced Python 18**\n",
        "- **The asterisk (*) operator in Python - Advanced Python 19**\n",
        "- **Shallow vs Deep Copying in Python - Advanced Python 20**\n",
        "- **Context Managers in Python - Advanced Python 21**"
      ]
    },
    {
      "cell_type": "markdown",
      "metadata": {
        "id": "Xp8qf6wai3k7"
      },
      "source": [
        "# **Lists**"
      ]
    },
    {
      "cell_type": "code",
      "metadata": {
        "id": "nGOzgZvXjmRX"
      },
      "source": [
        "import sys\n",
        "print(sys.getsizeof(l), \"bytes\")\n",
        "\n",
        "l1.copy(l2)\n",
        "l1 = list(l2)\n",
        "l1 = l2[:]\n",
        "# are all the same\n",
        "# but not same as\n",
        "l1 = l2\n",
        "\n",
        "\n",
        "l1 = [..]\n",
        "l2 = [..]\n",
        "for i,j in zip(l1,l2):  #could be more than 2\n",
        "    pass\n",
        "for i in zip(l1,l2):\n",
        "    # prints tuples\n",
        "    pass\n",
        "\n"
      ],
      "execution_count": null,
      "outputs": []
    },
    {
      "cell_type": "markdown",
      "metadata": {
        "id": "mnWp9mp1jmnC"
      },
      "source": [
        "# **Tuples**"
      ]
    },
    {
      "cell_type": "code",
      "metadata": {
        "id": "Q98asX0Kx7ds"
      },
      "source": [
        "# immutable, ordered\n",
        "(\"kjh\") is not a tuple, its a str\n",
        "(\"kjh\",) is.\n",
        "\n",
        "tu = tuple(l1)\n",
        "\n",
        "# for in\n",
        "# if in \n",
        "# both work "
      ],
      "execution_count": null,
      "outputs": []
    },
    {
      "cell_type": "code",
      "metadata": {
        "id": "zTgdEZOJjmyu"
      },
      "source": [
        "# tuple unpacking\n",
        "mt = (0,1,2,3,4)\n",
        "i1, *i2, i3 = mt  #i2 is list([1,2,3])\n",
        "\n",
        "a,_ = (1,2)"
      ],
      "execution_count": null,
      "outputs": []
    },
    {
      "cell_type": "code",
      "metadata": {
        "colab": {
          "base_uri": "https://localhost:8080/"
        },
        "id": "TnumdgVF-2Rz",
        "outputId": "08d3b305-dbee-4efd-969c-d17a02f65d1a"
      },
      "source": [
        "#working with a tuple can be efficient sometimes\n",
        "import sys\n",
        "l = [0,1,2,\"hello\", True]\n",
        "t = (0,1,2,\"hello\", True)\n",
        "print(sys.getsizeof(l), \"bytes\")\n",
        "print(sys.getsizeof(t), \"bytes\")\n",
        "\n",
        "print('-'*9)\n",
        "import timeit\n",
        "print(timeit.timeit(stmt=\"[0,1,2,3,4,5]\", number= 1000000))\n",
        "print(timeit.timeit(stmt=\"(0,1,2,3,4,5)\", number= 1000000))"
      ],
      "execution_count": null,
      "outputs": [
        {
          "output_type": "stream",
          "text": [
            "112 bytes\n",
            "96 bytes\n",
            "---------\n",
            "0.07837460000064311\n",
            "0.01092386899927078\n"
          ],
          "name": "stdout"
        }
      ]
    },
    {
      "cell_type": "code",
      "metadata": {
        "colab": {
          "base_uri": "https://localhost:8080/"
        },
        "id": "JAh5jkHr7rcj",
        "outputId": "983bff16-2788-405b-a70e-7f9052fa9e19"
      },
      "source": [
        "#not related to tuple but\n",
        "n1 = 100_000_000\n",
        "n2 = 100_000\n",
        "print(n1+n2)\n",
        "print(f'{n1+n2:,}')"
      ],
      "execution_count": null,
      "outputs": [
        {
          "output_type": "stream",
          "text": [
            "100100000\n",
            "100,100,000\n"
          ],
          "name": "stdout"
        }
      ]
    },
    {
      "cell_type": "code",
      "metadata": {
        "id": "Y4l1wwv69Gsh"
      },
      "source": [
        "class Person():\n",
        "    pass\n",
        "\n",
        "p = Person()\n",
        "p.first = \"m\"\n",
        "p.last = \"c\"\n",
        "\n",
        "# and\n",
        "\n",
        "setattr(p, \"first\", \"m\")\n",
        "print(p.first)\n",
        "\n",
        "# and\n",
        "\n",
        "first_key = \"first\"\n",
        "first_val = \"m\"\n",
        "setattr(p, first_key, first_val)\n",
        "print(person.first)\n",
        "\n",
        "# and\n",
        "first = getattr(p, first_key)\n",
        "print(first)\n",
        "\n",
        "# and\n",
        "p_info = {'first':'m', 'kast':'c'}\n",
        "for k,v in p_info.items():\n",
        "    setattr(p, k,v)\n",
        "print(p.first, p.last)\n",
        "\n",
        "for k in p_info.keys():\n",
        "    print(getattr(p,k))\n",
        "# ------------------------------------------"
      ],
      "execution_count": null,
      "outputs": []
    },
    {
      "cell_type": "markdown",
      "metadata": {
        "id": "GROPvN9xjm4-"
      },
      "source": [
        "# **Dictionaries**"
      ]
    },
    {
      "cell_type": "code",
      "metadata": {
        "colab": {
          "base_uri": "https://localhost:8080/"
        },
        "id": "g3JDh2Cnjm_F",
        "outputId": "36e8ba27-de0a-4bc5-f583-6bc5cee8e1e3"
      },
      "source": [
        "#unordered, mutable\n",
        "d = dict(name=\"m\", age=\"19\")\n",
        "print(d)"
      ],
      "execution_count": null,
      "outputs": [
        {
          "output_type": "stream",
          "text": [
            "{'name': 'm', 'age': '19'}\n"
          ],
          "name": "stdout"
        }
      ]
    },
    {
      "cell_type": "code",
      "metadata": {
        "id": "YR_peiWTAb0f"
      },
      "source": [
        "del d[\"name\"]\n",
        "\n",
        "d.pop(\"age\")\n",
        "\n",
        "d.popitem()      #last"
      ],
      "execution_count": null,
      "outputs": []
    },
    {
      "cell_type": "code",
      "metadata": {
        "id": "2L2yJE5XA6zi"
      },
      "source": [
        "d2 = dict(d1)\n",
        "d2 = d1.copy()\n",
        "# not as same as\n",
        "d2 = d1"
      ],
      "execution_count": null,
      "outputs": []
    },
    {
      "cell_type": "code",
      "metadata": {
        "colab": {
          "base_uri": "https://localhost:8080/"
        },
        "id": "jVYbHdArCLQB",
        "outputId": "2e54d4a5-c5c4-49e8-a877-ceef97f31c85"
      },
      "source": [
        "# Merging two dictionary \n",
        "d1 = dict(name=\"m\", age=\"19\", email=\"xyz\")\n",
        "d2 = {\"name\":\"d\", 'age':\"20\", 'city':\"a\"}\n",
        "\n",
        "d1.update(d2)\n",
        "print(d1)  #keys get added or overidden\n"
      ],
      "execution_count": null,
      "outputs": [
        {
          "output_type": "stream",
          "text": [
            "{'name': 'd', 'age': '20', 'email': 'xyz', 'city': 'a'}\n"
          ],
          "name": "stdout"
        }
      ]
    },
    {
      "cell_type": "code",
      "metadata": {
        "id": "_lGSpyd8C0Ou"
      },
      "source": [
        "t = (1,2)\n",
        "l = [1,2]\n",
        "\n",
        "d1 = {t:14}\n",
        "d2 = {l:14}  #wont work cause lists are mutable, (unhashable)\n"
      ],
      "execution_count": null,
      "outputs": []
    },
    {
      "cell_type": "markdown",
      "metadata": {
        "id": "ZnqQBOD5jnFS"
      },
      "source": [
        "# **Sets**"
      ]
    },
    {
      "cell_type": "code",
      "metadata": {
        "id": "Dijnn886Czet"
      },
      "source": [
        "#unordered, mutable, noduplicates\n",
        "set1 = set(l)\n",
        "set2 = set(\"asdgd\")\n",
        "set3 = {1,2,3,4,1}\n",
        "set4 = {} #is a dict\n",
        "set4 = set() #is a set\n",
        "\n",
        "\n",
        "set3.remove(6) #gives an error\n",
        "set3.discard(6) #does nothing\n",
        "set3.clear()  #clears\n",
        "set3.pop() #returns an arbitary number\n",
        "\n",
        "\n",
        "s = s1.union(s2)\n",
        "s = s1.intersection(s2)\n",
        "s = s1.difference(s2)        #in s1 but not in s2\n",
        "s = s1.symmetric_difference(s2)  #all except common elements\n",
        "#  all this will return a set, wont modify original sets \n",
        "s1.update(s2)\n",
        "s1.intersection_update(s2)\n",
        "s1.difference_update(s2)\n",
        "s1.symmetric_difference_update(s3)\n",
        "\n",
        "\n",
        "s1.issubset(s2)\n",
        "s1.issuperset(s2)\n",
        "s1.isdisjoint(s2)\n",
        "\n",
        "\n",
        "s2 = set(s1)\n",
        "s2 = s1.copy()\n",
        "# not as same as\n",
        "s2 = s1"
      ],
      "execution_count": null,
      "outputs": []
    },
    {
      "cell_type": "code",
      "metadata": {
        "id": "EsZRf-IyjnKr"
      },
      "source": [
        "a = frozenset([1,2,2,3,4])\n",
        "#cant change/add after creating\n"
      ],
      "execution_count": null,
      "outputs": []
    },
    {
      "cell_type": "markdown",
      "metadata": {
        "id": "e1DUqQkVjnQv"
      },
      "source": [
        "# **Strings**"
      ]
    },
    {
      "cell_type": "code",
      "metadata": {
        "id": "mjGkBx9PjnVs"
      },
      "source": [
        "startswith, endswith\n",
        "find, index\n",
        "split and join\n",
        "\n",
        "lis = ['a']*6\n",
        "a = ''.join(lis)\n",
        "print(a)\n",
        "# is way better than for loop and using +"
      ],
      "execution_count": null,
      "outputs": []
    },
    {
      "cell_type": "code",
      "metadata": {
        "colab": {
          "base_uri": "https://localhost:8080/"
        },
        "id": "0LSX9jerEorO",
        "outputId": "3d8d73d1-3716-4c5f-d8fc-5fac7cf36cbc"
      },
      "source": [
        "#formatting a string\n",
        "var = \"tom\"\n",
        "ms = \"hey %s\" % var         #%.2f or something if var is float\n",
        "print(ms)\n",
        "\n",
        "v = 3.12344\n",
        "ms2 = \"hey {:.2f} and {}\".format(v, var)\n",
        "print(ms2)\n",
        "\n",
        "#f-strings \n",
        "ms3 = f\"hey {v+2} and {var}\"\n",
        "\n"
      ],
      "execution_count": null,
      "outputs": [
        {
          "output_type": "stream",
          "text": [
            "hey tom\n",
            "hey 3.12 and tom\n"
          ],
          "name": "stdout"
        }
      ]
    },
    {
      "cell_type": "markdown",
      "metadata": {
        "id": "SYh-0BHYqhRq"
      },
      "source": [
        "# **Collections**\n",
        "\n",
        "- ### Counter\n",
        "- ### namedtuple\n",
        "- ### OrderedDict\n",
        "- ### defaultdict\n",
        "- ### deque\n"
      ]
    },
    {
      "cell_type": "code",
      "metadata": {
        "colab": {
          "base_uri": "https://localhost:8080/"
        },
        "id": "PYMPMb0_qgUs",
        "outputId": "1716fce8-6927-443c-b069-b446ec7b9653"
      },
      "source": [
        "from collections import Counter\n",
        "a = \"aaabbbbfffffff\"\n",
        "d = Counter(a)\n",
        "print(d)\n",
        "print(d.most_common(2))      #list of two tuple\n",
        "print(list(d.elements()))"
      ],
      "execution_count": null,
      "outputs": [
        {
          "output_type": "stream",
          "text": [
            "Counter({'f': 7, 'b': 4, 'a': 3})\n",
            "[('f', 7), ('b', 4)]\n",
            "['a', 'a', 'a', 'b', 'b', 'b', 'b', 'f', 'f', 'f', 'f', 'f', 'f', 'f']\n"
          ],
          "name": "stdout"
        }
      ]
    },
    {
      "cell_type": "code",
      "metadata": {
        "id": "_7Ev0YlTKKSb"
      },
      "source": [
        "from collections import namedtuple        #liteweight object type, similar to struct\n",
        "Point = namedtuple('Point', 'x,y')\n",
        "pt = Point(1,-4)\n",
        "print(pt, '     ', pt.x, pt.y)"
      ],
      "execution_count": null,
      "outputs": []
    },
    {
      "cell_type": "code",
      "metadata": {
        "colab": {
          "base_uri": "https://localhost:8080/"
        },
        "id": "71b-_TSiIjJL",
        "outputId": "340ead64-9493-4762-f1ab-379c6601e214"
      },
      "source": [
        "from collections import OrderedDict         #newer python 3.7 does remebr the order\n",
        "od = OrderedDict()\n",
        "od['a'] = 1\n",
        "od['s'] = 2\n",
        "od['f'] = 3\n",
        "od['b'] = 4\n",
        "print(od)"
      ],
      "execution_count": null,
      "outputs": [
        {
          "output_type": "stream",
          "text": [
            "OrderedDict([('a', 1), ('s', 2), ('f', 3), ('b', 4)])\n"
          ],
          "name": "stdout"
        }
      ]
    },
    {
      "cell_type": "code",
      "metadata": {
        "id": "FEKiIaYrIjMR"
      },
      "source": [
        "from collections import defaultdict          #if the key has not been set yet, itll have a default value\n",
        "d = defaultdict(int)           #thats the type of the default key\n",
        "d['a'] = 'hey'\n",
        "d['b'] = 2\n",
        "print(d['c'])\n",
        "\n",
        "de = defaultdict()\n",
        "de['a'] = 1\n",
        "print(de['b'])"
      ],
      "execution_count": null,
      "outputs": []
    },
    {
      "cell_type": "code",
      "metadata": {
        "colab": {
          "base_uri": "https://localhost:8080/"
        },
        "id": "4jB8rS4DIjQk",
        "outputId": "67908f49-b3c8-44d0-a295-6d91fc184cc5"
      },
      "source": [
        "from collections import deque       #double ended queue\n",
        "d = deque()\n",
        "d.append(1)\n",
        "d.append(2)\n",
        "d.appendleft(3)\n",
        "print(d)\n",
        "\n",
        "d.pop()\n",
        "d.popleft()\n",
        "\n",
        "d.extend([1,2,3,4])\n",
        "d.extendleft([7,8,9])      #adds [9,8,7] to the start \n",
        "print(d)\n",
        "\n",
        "d.rotate(2)      #neg fine too\n",
        "print(d)\n"
      ],
      "execution_count": null,
      "outputs": [
        {
          "output_type": "stream",
          "text": [
            "deque([3, 1, 2])\n",
            "deque([9, 8, 7, 1, 1, 2, 3, 4])\n",
            "deque([3, 4, 9, 8, 7, 1, 1, 2])\n"
          ],
          "name": "stdout"
        }
      ]
    },
    {
      "cell_type": "markdown",
      "metadata": {
        "id": "VIrWYfjnjnxz"
      },
      "source": [
        "# **Itertools**\n",
        "\n",
        "- ### product\n",
        "- ### permutations\n",
        "- ### combinations\n",
        "- ### accumulate\n",
        "- ### groupby\n",
        "- ### infinite iterators"
      ]
    },
    {
      "cell_type": "code",
      "metadata": {
        "colab": {
          "base_uri": "https://localhost:8080/"
        },
        "id": "593oBJHWjn3c",
        "outputId": "d02b6ca2-f669-4a3e-d1be-434c97de2e9e"
      },
      "source": [
        "from itertools import product\n",
        "a = [1,2]\n",
        "b = [3,4]\n",
        "\n",
        "prod = product(a,b, repeat=2)      #repeat=1 default\n",
        "print(list(prod))"
      ],
      "execution_count": null,
      "outputs": [
        {
          "output_type": "stream",
          "text": [
            "[(1, 3, 1, 3), (1, 3, 2, 3), (1, 3, 2, 3), (1, 3, 2, 3), (2, 3, 1, 3), (2, 3, 2, 3), (2, 3, 2, 3), (2, 3, 2, 3), (2, 3, 1, 3), (2, 3, 2, 3), (2, 3, 2, 3), (2, 3, 2, 3), (2, 3, 1, 3), (2, 3, 2, 3), (2, 3, 2, 3), (2, 3, 2, 3)]\n"
          ],
          "name": "stdout"
        }
      ]
    },
    {
      "cell_type": "code",
      "metadata": {
        "colab": {
          "base_uri": "https://localhost:8080/"
        },
        "id": "DbmpmsZ3NO6n",
        "outputId": "906e8da1-d3d1-43c7-b62c-70590ae75fc9"
      },
      "source": [
        "from itertools import permutations\n",
        "a = [1,2,3]\n",
        "perm = permutations(a)\n",
        "print(list(perm))\n",
        "perm2 = permutations(a,2)\n",
        "print(list(perm2))"
      ],
      "execution_count": null,
      "outputs": [
        {
          "output_type": "stream",
          "text": [
            "[(1, 2, 3), (1, 3, 2), (2, 1, 3), (2, 3, 1), (3, 1, 2), (3, 2, 1)]\n",
            "[(1, 2), (1, 3), (2, 1), (2, 3), (3, 1), (3, 2)]\n"
          ],
          "name": "stdout"
        }
      ]
    },
    {
      "cell_type": "code",
      "metadata": {
        "colab": {
          "base_uri": "https://localhost:8080/"
        },
        "id": "uiyc-8wfNO9l",
        "outputId": "e097c192-b7e9-4d25-955a-bfca3204762c"
      },
      "source": [
        "from itertools import combinations\n",
        "a = [1,2,3]\n",
        "c = combinations(a,2)\n",
        "print(list(c))"
      ],
      "execution_count": null,
      "outputs": [
        {
          "output_type": "stream",
          "text": [
            "[(1, 2), (1, 3), (2, 3)]\n"
          ],
          "name": "stdout"
        }
      ]
    },
    {
      "cell_type": "code",
      "metadata": {
        "colab": {
          "base_uri": "https://localhost:8080/"
        },
        "id": "ochXzoKLNPAt",
        "outputId": "42949f4f-b8a3-40d6-86db-2c18ef273223"
      },
      "source": [
        "from itertools import combinations_with_replacement as cwr\n",
        "a = [1,2,3]\n",
        "c = cwr(a,2)\n",
        "print(list(c))"
      ],
      "execution_count": null,
      "outputs": [
        {
          "output_type": "stream",
          "text": [
            "[(1, 1), (1, 2), (1, 3), (2, 2), (2, 3), (3, 3)]\n"
          ],
          "name": "stdout"
        }
      ]
    },
    {
      "cell_type": "code",
      "metadata": {
        "colab": {
          "base_uri": "https://localhost:8080/"
        },
        "id": "BYPaU6utNPHe",
        "outputId": "07ac6ec1-1948-44e3-84f9-96d829d9a154"
      },
      "source": [
        "from itertools import accumulate as acc\n",
        "import operator\n",
        "a = [1,2,3,5,4,5]\n",
        "ac = acc(a)\n",
        "b = acc(a, func=max)\n",
        "c = acc(a, func=min)\n",
        "d = acc(a, func=operator.mul)\n",
        "print(a)\n",
        "print(list(ac))\n",
        "print(list(b))\n",
        "print(list(c))\n",
        "print(list(d))"
      ],
      "execution_count": null,
      "outputs": [
        {
          "output_type": "stream",
          "text": [
            "[1, 3, 6, 11, 15, 20]\n",
            "[1, 2, 3, 5, 5, 5]\n",
            "[1, 1, 1, 1, 1, 1]\n",
            "[1, 2, 6, 30, 120, 600]\n"
          ],
          "name": "stdout"
        }
      ]
    },
    {
      "cell_type": "code",
      "metadata": {
        "colab": {
          "base_uri": "https://localhost:8080/"
        },
        "id": "30YY9ZDdNPdz",
        "outputId": "5b07a0f6-385c-4d2e-9b24-51bf909ecd13"
      },
      "source": [
        "from itertools import groupby\n",
        "a = [1,2,3,4]\n",
        "def d(x):\n",
        "    if x<2:\n",
        "        return \"small\"\n",
        "    if x==2:\n",
        "        return \"eq\"\n",
        "    if x>2:\n",
        "        return \"large\"\n",
        "go = groupby(a, key = d)\n",
        "for key,value in go:\n",
        "    print(key, list(value))\n",
        "\n",
        "print('-'*9)\n",
        "#you can also groupby like\n",
        "persons = [{'name':'m', 'age':23},\n",
        "           {'name':'s', 'age':23},\n",
        "           {'name':'d', 'age':26},\n",
        "           {'name':'c', 'age':25}]\n",
        "\n",
        "g = groupby(persons, key = lambda x:x['age'])\n",
        "for key,value in g:\n",
        "    print(key, list(value))"
      ],
      "execution_count": null,
      "outputs": [
        {
          "output_type": "stream",
          "text": [
            "small [1]\n",
            "eq [2]\n",
            "large [3, 4]\n",
            "---------\n",
            "23 [{'name': 'm', 'age': 23}, {'name': 's', 'age': 23}]\n",
            "26 [{'name': 'd', 'age': 26}]\n",
            "25 [{'name': 'c', 'age': 25}]\n"
          ],
          "name": "stdout"
        }
      ]
    },
    {
      "cell_type": "code",
      "metadata": {
        "colab": {
          "base_uri": "https://localhost:8080/"
        },
        "id": "5lN1RXT8SQqP",
        "outputId": "303cc4ac-1b14-4265-f642-0bb6a12933be"
      },
      "source": [
        "#infinite iterators\n",
        "from itertools import count, cycle, repeat\n",
        "\n",
        "for i in count(3):\n",
        "    if i == 10: break\n",
        "    print(i)\n",
        "\n",
        "print('-'*9)\n",
        "\n",
        "a = [1,2,3]\n",
        "for i in cycle(a):\n",
        "    print(i)\n",
        "    break  #we dont want inf loop here\n",
        "\n",
        "print('-'*9)\n",
        "\n",
        "for i in repeat(1, times=4):    #or just 1,4\n",
        "    print(i)"
      ],
      "execution_count": null,
      "outputs": [
        {
          "output_type": "stream",
          "text": [
            "3\n",
            "4\n",
            "5\n",
            "6\n",
            "7\n",
            "8\n",
            "9\n",
            "---------\n",
            "1\n",
            "---------\n",
            "1\n",
            "1\n",
            "1\n",
            "1\n"
          ],
          "name": "stdout"
        }
      ]
    },
    {
      "cell_type": "markdown",
      "metadata": {
        "id": "tWDoSfMMjn9m"
      },
      "source": [
        "# **Lambda**\n",
        "- ## Map\n",
        "- ## Filter\n",
        "- ## Reduce"
      ]
    },
    {
      "cell_type": "code",
      "metadata": {
        "colab": {
          "base_uri": "https://localhost:8080/"
        },
        "id": "5PTI9KVfjoCJ",
        "outputId": "af9db68f-fe1d-40da-da25-50d83484aa8d"
      },
      "source": [
        "add10 = lambda x:x+10\n",
        "print(add10(4))\n",
        "\n",
        "#two args\n",
        "mul = lambda x,y:x*y\n",
        "\n",
        "print('-'*10)\n",
        "\n",
        "#map(func, seq)\n",
        "a = [1,2,3,4,5]\n",
        "b = map(lambda x:x<<1, a)\n",
        "print(list(b))\n",
        "\n",
        "# is same as\n",
        "c = [x<<1 for x in a]\n",
        "print(c)\n",
        "\n",
        "print('-'*10)\n",
        "\n",
        "#Filter\n",
        "# filter(func()->bool, seq)       i.e. it returns a bool\n",
        "a = [1,2,3,4,5]\n",
        "b = map(lambda x:x%2==0, a)\n",
        "c = filter(lambda x:x%2==0, a)\n",
        "print(list(b))\n",
        "print(list(c))\n",
        "\n",
        "\n",
        "print('-'*10)\n",
        "#Reduce\n",
        "from functools import reduce             #the first arg, in reduce is a fucntion and that function must take two args\n",
        "a = [1,2,3,4,5,6]\n",
        "\n",
        "product_a = reduce(lambda x,y: x*y, a) \n",
        "print(product_a)\n"
      ],
      "execution_count": null,
      "outputs": [
        {
          "output_type": "stream",
          "text": [
            "14\n",
            "----------\n",
            "[2, 4, 6, 8, 10]\n",
            "[2, 4, 6, 8, 10]\n",
            "----------\n",
            "[False, True, False, True, False]\n",
            "[2, 4]\n",
            "----------\n",
            "720\n"
          ],
          "name": "stdout"
        }
      ]
    },
    {
      "cell_type": "markdown",
      "metadata": {
        "id": "KJ4cxYETjoH7"
      },
      "source": [
        "# **Exceptions**\n",
        "> [Click for documentation](https://docs.python.org/3/library/exceptions.html)"
      ]
    },
    {
      "cell_type": "code",
      "metadata": {
        "id": "_tfY1i5djoMA"
      },
      "source": [
        "# Raising an Error:\n",
        "x = -1\n",
        "\n",
        "if x<0:\n",
        "    raise Exception(\"should be positve\")\n",
        "\n",
        "assert x>0, \"should be positive\""
      ],
      "execution_count": null,
      "outputs": []
    },
    {
      "cell_type": "code",
      "metadata": {
        "id": "4usgK47rM-pj"
      },
      "source": [
        "#Handling exceptions\n",
        "try:\n",
        "    raise Exception(\"should be negative\")\n",
        "except Exception as e:\n",
        "    print(e,1)\n",
        "\n",
        "\n",
        "try:\n",
        "    a = 3/0\n",
        "    b = 1 + 'd'\n",
        "except ZeroDivisionError as e:\n",
        "    print(e)\n",
        "except TypeError as e:\n",
        "    print(e)\n",
        "else:\n",
        "    print(\"this prints if no exception occur\")\n",
        "finally:\n",
        "    print(\"this runs always, no matter exception occurs or not\")"
      ],
      "execution_count": null,
      "outputs": []
    },
    {
      "cell_type": "code",
      "metadata": {
        "id": "BIoKmr7cM-sG"
      },
      "source": [
        "#Creating exceptions\n",
        "\n",
        "class ValueTooHighError(Exception):\n",
        "    pass\n",
        "\n",
        "def test(x):\n",
        "    if x>100:\n",
        "        raise Exception(\"value too high\")\n",
        "\n",
        "test(200)"
      ],
      "execution_count": null,
      "outputs": []
    },
    {
      "cell_type": "code",
      "metadata": {
        "id": "WbzBqXzhM-ux"
      },
      "source": [
        "class ValueTooSmallError(Exception):\n",
        "    def __init__(self, message, value):\n",
        "        self.message = message\n",
        "        self.value = value\n",
        "def test(x):\n",
        "    if x<5:\n",
        "        raise ValueTooSmallError(\"value is too small\", x)\n",
        "try:\n",
        "    test(2)\n",
        "except ValueTooSmallError as e:\n",
        "    print(e.message, e.value)"
      ],
      "execution_count": null,
      "outputs": []
    },
    {
      "cell_type": "markdown",
      "metadata": {
        "id": "5yftU_oGq0F1"
      },
      "source": [
        "# **Logging**\n",
        "\n",
        "- Different LogLevel\n",
        "- Different Configuration options\n",
        "- How to log in different modules\n",
        "- How to use different LogHandlers\n",
        "- How to capture StackTraces in your log\n",
        "- How to use Rotating FileHandler"
      ]
    },
    {
      "cell_type": "code",
      "metadata": {
        "id": "ySYdUoIDq0ZX",
        "colab": {
          "base_uri": "https://localhost:8080/"
        },
        "outputId": "801d6322-0a81-4223-9502-30afda62a8d6"
      },
      "source": [
        "import logging\n",
        "#5 different levels of loggin\n",
        "\n",
        "logging.debug(\"This is a debug mssg\")\n",
        "logging.info(\"This is a info mssg\")\n",
        "logging.warning(\"This is a warning mssg\")\n",
        "logging.error(\"This is a error mssg\")\n",
        "logging.critical(\"This is a critical mssg\")\n",
        "\n",
        "#only warning and above are printed"
      ],
      "execution_count": null,
      "outputs": [
        {
          "output_type": "stream",
          "text": [
            "WARNING:root:This is a warning mssg\n",
            "ERROR:root:This is a error mssg\n",
            "CRITICAL:root:This is a critical mssg\n"
          ],
          "name": "stderr"
        }
      ]
    },
    {
      "cell_type": "code",
      "metadata": {
        "colab": {
          "base_uri": "https://localhost:8080/"
        },
        "id": "PULEiSr-Ny-W",
        "outputId": "657c3030-813f-4f26-8825-8586f28a17e2"
      },
      "source": [
        "#https://docs.python.org/3/library/logging.html#logging.basicConfig\n",
        "import logging\n",
        "logging.basicConfig(level=logging.DEBUG, format= \"%(asctime)s - %(names)s - %(levelname)s - %(message)s\", datefmt = \"%m/%d/%Y %H:%M:%S\")\n",
        "\n",
        "logging.debug(\"This is a debug mssg\")\n",
        "logging.info(\"This is a info mssg\")\n",
        "logging.warning(\"This is a warning mssg\")\n",
        "logging.error(\"This is a error mssg\")\n",
        "logging.critical(\"This is a critical mssg\")"
      ],
      "execution_count": null,
      "outputs": [
        {
          "output_type": "stream",
          "text": [
            "WARNING:root:This is a warning mssg\n",
            "ERROR:root:This is a error mssg\n",
            "CRITICAL:root:This is a critical mssg\n"
          ],
          "name": "stderr"
        }
      ]
    },
    {
      "cell_type": "code",
      "metadata": {
        "id": "0GdPfQE-NzA8"
      },
      "source": [
        "#create a .py file called anything say helper.py, write this:\n",
        "import logging\n",
        "logger = logging.getLogger(__name__) #name would the filename\n",
        "logger.info(\"coming from helper.py\")\n",
        "\n",
        "#then in main.py, just write import helper below the loggin.basicconfig line, remove the rest of below\n",
        "# a line will be printed cause it propagated our logger to the root logger, you can add:\n",
        "logger.propagate = False #before the info line. and try again, nothing will be printed.\n"
      ],
      "execution_count": null,
      "outputs": []
    },
    {
      "cell_type": "code",
      "metadata": {
        "id": "dEyKdXzyNzD_"
      },
      "source": [
        "import logging\n",
        "logger = logging.getLogger(__name__)\n",
        "\n",
        "#create handler\n",
        "stream_h = logging.StreamHandler()\n",
        "file_h = logging.FileHandler(\"file.log\")\n",
        "\n",
        "#level and the format\n",
        "stream_h.setLevel(logging.WARNING)\n",
        "file_h.setLevel(logging.ERROR)\n",
        "\n",
        "formatter = logging.Formatter(\"%(names)s - %(levelname)s - %(message)s\")\n",
        "stream_h.setFormatter(formatter)\n",
        "file_h.setFormatter(formatter)\n",
        "\n",
        "logger.addHandler(stream_h)\n",
        "logger.addHandler(file_h)\n",
        "\n",
        "logger.warning(\"this is a warning\")\n",
        "logger.error(\"this is a error\")\n",
        "\n",
        "\n",
        "#loggers, handlers, formatters  logging.conf\n",
        "# https://www.youtube.com/watch?v=p0A4CV4MWd0&list=PLqnslRFeH2UqLwzS0AwKDKLrpYBKzLBy2&index=11&ab_channel=PythonEngineer"
      ],
      "execution_count": null,
      "outputs": []
    },
    {
      "cell_type": "code",
      "metadata": {
        "id": "uXjSYDsGNzGf"
      },
      "source": [
        ""
      ],
      "execution_count": null,
      "outputs": []
    },
    {
      "cell_type": "code",
      "metadata": {
        "id": "0qFLreX7NzJX"
      },
      "source": [
        ""
      ],
      "execution_count": null,
      "outputs": []
    },
    {
      "cell_type": "code",
      "metadata": {
        "id": "HTTDPPuoNzLp"
      },
      "source": [
        ""
      ],
      "execution_count": null,
      "outputs": []
    },
    {
      "cell_type": "markdown",
      "metadata": {
        "id": "iOnHlBMxq0fY"
      },
      "source": [
        "# **JSON**\n"
      ]
    },
    {
      "cell_type": "code",
      "metadata": {
        "id": "sFMbAiidq0ku"
      },
      "source": [
        "#serialization\n",
        "import json\n",
        "\n",
        "p = {}   #a json object in python\n",
        "\n",
        "pjson = json.dumps(p, indent=4, separators=('; ', '= '))        #use default sep only though   #add indent to beautify   #sort_keys=True can be added here\n",
        "print(pjson)  #will print json text\n",
        "\n",
        "with open('person.json', 'w') as f:\n",
        "    json.dump(p, f)        #note its only dump not dumps, and use p, not pjson here, other arguments can be applied here too"
      ],
      "execution_count": null,
      "outputs": []
    },
    {
      "cell_type": "markdown",
      "metadata": {
        "id": "YxvujrXYeM-T"
      },
      "source": [
        "![image.png](data:image/png;base64,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)"
      ]
    },
    {
      "cell_type": "code",
      "metadata": {
        "id": "baqE2xurpM7Q"
      },
      "source": [
        "#deserialization\n",
        "p = {}\n",
        "pjson = json.dumps(p, indent=4, sort_keys=True)\n",
        "\n",
        "p2 = json.loads(pjson)\n",
        "print(p2)\n",
        "\n",
        "with open('p.json', 'r') as f:\n",
        "    p2 = json.load(f)\n",
        "    print(person)"
      ],
      "execution_count": null,
      "outputs": []
    },
    {
      "cell_type": "code",
      "metadata": {
        "colab": {
          "base_uri": "https://localhost:8080/",
          "height": 132
        },
        "id": "REJvVZrspM9D",
        "outputId": "59c30a2e-bb85-49ea-f816-a654655f595f"
      },
      "source": [
        "class User:\n",
        "    def __init__(self, name, age):\n",
        "        self.name = name\n",
        "        self.age = age\n",
        "\n",
        "user = User('Max', 27)\n",
        "\n",
        "# userJSON = json.dumps(user)      #this wont work, its not serializable so we have to encode it manually\n",
        "\n",
        "def encode_user(o):\n",
        "    if isinstance(o, User):      #if o is object of class User\n",
        "        return {'name': o.name, 'age':o.age, o.__class__.__name__:True}\n",
        "    else:\n",
        "        raise TypeError(\"still not json serialization\")\n",
        "\n",
        "userJSON = json.dumps(user, default=encode_user)\n",
        "\n",
        "#we can also import a general json encoder:\n",
        "\n",
        "from json import JSONEncoder\n",
        "class UserEncoder(JSONEncoder):\n",
        "    def default(self, o):\n",
        "        if isinstance(o, User):      #if o is object of class User\n",
        "            return {'name': o.name, 'age':o.age, o.__class__.__name__: True}\n",
        "        return JSONEncoder.default(self, o)\n",
        "\n",
        "userJSON = json.dumps(user, cls=UserEncoder)\n",
        "print(userJSON)\n",
        "\n",
        "\n",
        "\n",
        "#or just use default encoder\n",
        "userJSON = UserEncoder().encode(user)\n",
        "print(userJSON)\n",
        "\n",
        "\n",
        "user = json.loads(userJSON)\n",
        "#its a dict\n",
        "\n",
        "def decode_user(dct):\n",
        "    if User.__name__ in dct:\n",
        "        return User(name=dct['name'], age=dct['age'])\n",
        "    return dct\n",
        "\n",
        "user = json.loads(userJSON)\n",
        "#its a object of user class"
      ],
      "execution_count": null,
      "outputs": [
        {
          "output_type": "error",
          "ename": "SyntaxError",
          "evalue": "ignored",
          "traceback": [
            "\u001b[0;36m  File \u001b[0;32m\"<ipython-input-19-68a70401cf1a>\"\u001b[0;36m, line \u001b[0;32m12\u001b[0m\n\u001b[0;31m    return {'name': o.name, 'age':o.age, o.__class__.__name__}\u001b[0m\n\u001b[0m                                                             ^\u001b[0m\n\u001b[0;31mSyntaxError\u001b[0m\u001b[0;31m:\u001b[0m invalid syntax\n"
          ]
        }
      ]
    },
    {
      "cell_type": "code",
      "metadata": {
        "id": "KpAGJ5zxpNBI"
      },
      "source": [
        ""
      ],
      "execution_count": null,
      "outputs": []
    },
    {
      "cell_type": "markdown",
      "metadata": {
        "id": "CTkpPwQIq0qG"
      },
      "source": [
        "# **Random Numbers**\n"
      ]
    },
    {
      "cell_type": "code",
      "metadata": {
        "id": "agxmT9czq00T",
        "colab": {
          "base_uri": "https://localhost:8080/"
        },
        "outputId": "7b19f5ce-60b5-43c1-976b-37ed9a8aeb64"
      },
      "source": [
        "# import random as r\n",
        "# r.random\n",
        "# r.uniform\n",
        "# r.randrange\n",
        "# r.randint\n",
        "# r.normalvariate\n",
        "\n",
        "# # for a list as l\n",
        "# r.choice(l)\n",
        "# r.sample(l, 3)\n",
        "# r.choices(l, k=3)\n",
        "# r.shuffle(l)  #inplace, does not return"
      ],
      "execution_count": 1,
      "outputs": [
        {
          "output_type": "execute_result",
          "data": {
            "text/plain": [
              "<bound method Random.normalvariate of <random.Random object at 0x56229fc9e120>>"
            ]
          },
          "metadata": {
            "tags": []
          },
          "execution_count": 1
        }
      ]
    },
    {
      "cell_type": "code",
      "metadata": {
        "id": "wEvPc24up6yJ"
      },
      "source": [
        "r.seed(1)\n",
        "print(r.randint(1,10))\n",
        "r.seed(2)\n",
        "print(r.randint(1,10))\n",
        "r.seed(1)\n",
        "print(r.randint(1,10))    #prints the same as first\n",
        "r.seed(2)\n",
        "print(r.randint(1,10))    #prints the same as second"
      ],
      "execution_count": null,
      "outputs": []
    },
    {
      "cell_type": "code",
      "metadata": {
        "id": "qNLoFsqUqfDx"
      },
      "source": [
        "import secrets as sec\n",
        "\n",
        "print(sec.randbelow(10))\n",
        "print(sec.randbebits(4))\n",
        "\n",
        "sec.choice\n",
        "\n",
        "\n",
        "\n",
        "#for numpy\n",
        "import numpy as np\n",
        "np.random.seed(1)         #\n",
        "print(np.randon.rand(3,3))\n",
        "print(np.randon.randint(0,10, (3,4)))\n",
        "\n",
        "np.random.shuffle(arr)  #shuffles only on one axis"
      ],
      "execution_count": null,
      "outputs": []
    },
    {
      "cell_type": "markdown",
      "metadata": {
        "id": "nIZGiVHgq0-O"
      },
      "source": [
        "# **Decorators**\n",
        "- Function Decorators\n",
        "- Class Decorators"
      ]
    },
    {
      "cell_type": "code",
      "metadata": {
        "id": "MB3ovBFlq1CZ"
      },
      "source": [
        "@mydecorator\n",
        "def do():\n",
        "    pass"
      ],
      "execution_count": null,
      "outputs": []
    },
    {
      "cell_type": "code",
      "metadata": {
        "colab": {
          "base_uri": "https://localhost:8080/"
        },
        "id": "b2OmveHYsKSs",
        "outputId": "9b68575c-e3bb-45c6-c76a-fc56b5e0cf87"
      },
      "source": [
        "def sedeco(func):\n",
        "\n",
        "    def wrapper():\n",
        "        print('s')\n",
        "        func()\n",
        "        print('e')\n",
        "    return wrapper\n",
        "\n",
        "def print_name():\n",
        "    print('m')\n",
        "\n",
        "print_name()"
      ],
      "execution_count": 5,
      "outputs": [
        {
          "output_type": "stream",
          "text": [
            "m\n"
          ],
          "name": "stdout"
        }
      ]
    },
    {
      "cell_type": "code",
      "metadata": {
        "colab": {
          "base_uri": "https://localhost:8080/"
        },
        "id": "5ugHXBaSsKPh",
        "outputId": "d7079aba-12e5-44b9-841d-e119c40bbf59"
      },
      "source": [
        "print_name = sedeco(print_name)\n",
        "print_name()"
      ],
      "execution_count": 6,
      "outputs": [
        {
          "output_type": "stream",
          "text": [
            "s\n",
            "m\n",
            "e\n"
          ],
          "name": "stdout"
        }
      ]
    },
    {
      "cell_type": "code",
      "metadata": {
        "colab": {
          "base_uri": "https://localhost:8080/"
        },
        "id": "Zodgs2Y2sKJy",
        "outputId": "e734d852-e68c-4a77-a91c-2815569617e7"
      },
      "source": [
        "def sedeco(func):\n",
        "\n",
        "    def wrapper():\n",
        "        print('s')\n",
        "        func()\n",
        "        print('e')\n",
        "    return wrapper\n",
        "\n",
        "@sedeco\n",
        "def print_name():\n",
        "    print('m')\n",
        "\n",
        "print_name()"
      ],
      "execution_count": 9,
      "outputs": [
        {
          "output_type": "stream",
          "text": [
            "s\n",
            "m\n",
            "e\n"
          ],
          "name": "stdout"
        }
      ]
    },
    {
      "cell_type": "code",
      "metadata": {
        "colab": {
          "base_uri": "https://localhost:8080/"
        },
        "id": "o9mFOOXtsKGq",
        "outputId": "0c7366f4-6734-4b6f-b939-1ea2c49ba089"
      },
      "source": [
        "#if func has arguements\n",
        "def sedeco(func):\n",
        "\n",
        "    def wrapper(*args, **kwargs):\n",
        "        print('s')\n",
        "        func(*args, **kwargs)\n",
        "        print('e')\n",
        "    return wrapper\n",
        "\n",
        "@sedeco\n",
        "def print_name(s):\n",
        "    print(s)\n",
        "    return \"ee\"\n",
        "\n",
        "print_name('fd')"
      ],
      "execution_count": 12,
      "outputs": [
        {
          "output_type": "stream",
          "text": [
            "s\n",
            "fd\n",
            "e\n"
          ],
          "name": "stdout"
        }
      ]
    },
    {
      "cell_type": "code",
      "metadata": {
        "colab": {
          "base_uri": "https://localhost:8080/"
        },
        "id": "fJ8jUQy8sKBM",
        "outputId": "8c1115f2-9039-48c6-a04d-d0ab9d16ec44"
      },
      "source": [
        "#if func has arguements\n",
        "def sedeco(func):\n",
        "\n",
        "    def wrapper(*args, **kwargs):\n",
        "        print('s')\n",
        "        r = func(*args, **kwargs)\n",
        "        print('e')\n",
        "        return r\n",
        "    return wrapper\n",
        "\n",
        "@sedeco\n",
        "def print_name(s):\n",
        "    print(s)\n",
        "    return \"a\"\n",
        "\n",
        "re = print_name('fd')\n",
        "print(re)\n",
        "#we have to save it in the wrapper and return from there in this case"
      ],
      "execution_count": 14,
      "outputs": [
        {
          "output_type": "stream",
          "text": [
            "s\n",
            "fd\n",
            "e\n",
            "a\n"
          ],
          "name": "stdout"
        }
      ]
    },
    {
      "cell_type": "code",
      "metadata": {
        "colab": {
          "base_uri": "https://localhost:8080/"
        },
        "id": "RVAGkVHNsJCl",
        "outputId": "88e361bf-0384-4e7b-c884-d3d14ec00665"
      },
      "source": [
        "def sedeco(func):\n",
        "\n",
        "    def wrapper(*args, **kwargs):\n",
        "        print('s')\n",
        "        r = func(*args, **kwargs)\n",
        "        print('e')\n",
        "        return r\n",
        "    return wrapper\n",
        "\n",
        "@sedeco\n",
        "def print_name(s):\n",
        "    print(s)\n",
        "    return \"a\"\n",
        "\n",
        "print(help(print_name))\n",
        "print(print_name.__name__)"
      ],
      "execution_count": 15,
      "outputs": [
        {
          "output_type": "stream",
          "text": [
            "Help on function wrapper in module __main__:\n",
            "\n",
            "wrapper(*args, **kwargs)\n",
            "\n",
            "None\n",
            "wrapper\n"
          ],
          "name": "stdout"
        }
      ]
    },
    {
      "cell_type": "code",
      "metadata": {
        "colab": {
          "base_uri": "https://localhost:8080/"
        },
        "id": "5974smawyRRP",
        "outputId": "c7fb6b5c-2ac5-4d93-abb9-7aca99f20e3c"
      },
      "source": [
        "#to fix this\n",
        "import functools\n",
        "\n",
        "def sedeco(func):\n",
        "    @functools.wraps(func)\n",
        "    def wrapper(*args, **kwargs):\n",
        "        print('s')\n",
        "        r = func(*args, **kwargs)\n",
        "        print('e')\n",
        "        return r\n",
        "    return wrapper\n",
        "\n",
        "@sedeco\n",
        "def print_name(s):\n",
        "    print(s)\n",
        "    return \"a\"\n",
        "\n",
        "print(help(print_name))\n",
        "print(print_name.__name__)"
      ],
      "execution_count": 16,
      "outputs": [
        {
          "output_type": "stream",
          "text": [
            "Help on function print_name in module __main__:\n",
            "\n",
            "print_name(s)\n",
            "\n",
            "None\n",
            "print_name\n"
          ],
          "name": "stdout"
        }
      ]
    },
    {
      "cell_type": "code",
      "metadata": {
        "id": "wPYR_WSYyRTq"
      },
      "source": [
        ""
      ],
      "execution_count": null,
      "outputs": []
    },
    {
      "cell_type": "markdown",
      "metadata": {
        "id": "1r-RewMiq1GH"
      },
      "source": [
        "# **Generators**\n"
      ]
    },
    {
      "cell_type": "code",
      "metadata": {
        "id": "3Z8vZnSKyQbB"
      },
      "source": [
        ""
      ],
      "execution_count": null,
      "outputs": []
    },
    {
      "cell_type": "code",
      "metadata": {
        "id": "0h7pTWWbyQfq"
      },
      "source": [
        ""
      ],
      "execution_count": null,
      "outputs": []
    },
    {
      "cell_type": "code",
      "metadata": {
        "id": "YYNxdiFKq1Kc"
      },
      "source": [
        ""
      ],
      "execution_count": null,
      "outputs": []
    },
    {
      "cell_type": "markdown",
      "metadata": {
        "id": "ywwxSYcGq1On"
      },
      "source": [
        "# **Threading vs Multiprocessing**"
      ]
    },
    {
      "cell_type": "code",
      "metadata": {
        "id": "2tcs-40pq_zf"
      },
      "source": [
        ""
      ],
      "execution_count": null,
      "outputs": []
    },
    {
      "cell_type": "markdown",
      "metadata": {
        "id": "R-xV0inDrAAY"
      },
      "source": [
        "# **Threading**"
      ]
    },
    {
      "cell_type": "code",
      "metadata": {
        "id": "tc03Wgz_rAGW"
      },
      "source": [
        ""
      ],
      "execution_count": null,
      "outputs": []
    },
    {
      "cell_type": "markdown",
      "metadata": {
        "id": "B697iCevrAK1"
      },
      "source": [
        "# **Multiprocessing**"
      ]
    },
    {
      "cell_type": "code",
      "metadata": {
        "id": "GuGDetryrAPB"
      },
      "source": [
        ""
      ],
      "execution_count": null,
      "outputs": []
    },
    {
      "cell_type": "markdown",
      "metadata": {
        "id": "DTQwWCNgrAr-"
      },
      "source": [
        "# **Function arguments**"
      ]
    },
    {
      "cell_type": "code",
      "metadata": {
        "id": "MoAEk0hJrAym"
      },
      "source": [
        ""
      ],
      "execution_count": null,
      "outputs": []
    },
    {
      "cell_type": "markdown",
      "metadata": {
        "id": "jzvspVPOrA4L"
      },
      "source": [
        "# **The asterisk (*) operator**"
      ]
    },
    {
      "cell_type": "code",
      "metadata": {
        "id": "ZEqaN-kerIKc"
      },
      "source": [
        ""
      ],
      "execution_count": null,
      "outputs": []
    },
    {
      "cell_type": "markdown",
      "metadata": {
        "id": "axYCU7IBrIw4"
      },
      "source": [
        "\n",
        "# **Shallow vs Deep Copying**\n"
      ]
    },
    {
      "cell_type": "code",
      "metadata": {
        "id": "pSjCs8IqrI6e"
      },
      "source": [
        ""
      ],
      "execution_count": null,
      "outputs": []
    },
    {
      "cell_type": "markdown",
      "metadata": {
        "id": "iJYsxQ7TrJBP"
      },
      "source": [
        "# **Context Managers**"
      ]
    },
    {
      "cell_type": "code",
      "metadata": {
        "id": "4-4X-3ogrJKs"
      },
      "source": [
        "f = open(....)\n",
        "fs = f.read()\n",
        "f.close \n",
        "\n",
        "# is same as\n",
        "with open(..) as f:\n",
        "    fs = f.read()"
      ],
      "execution_count": null,
      "outputs": []
    }
  ]
}