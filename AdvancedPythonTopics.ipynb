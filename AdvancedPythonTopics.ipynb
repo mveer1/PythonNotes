{
  "nbformat": 4,
  "nbformat_minor": 0,
  "metadata": {
    "colab": {
      "name": "AdvancedPythonTopics.ipynb",
      "provenance": [],
      "authorship_tag": "ABX9TyNv1xvvsS3Z+u60f2MZ/5y8",
      "include_colab_link": true
    },
    "kernelspec": {
      "name": "python3",
      "display_name": "Python 3"
    },
    "language_info": {
      "name": "python"
    }
  },
  "cells": [
    {
      "cell_type": "markdown",
      "metadata": {
        "id": "view-in-github",
        "colab_type": "text"
      },
      "source": [
        "<a href=\"https://colab.research.google.com/github/mveer1/PythonNotes/blob/main/AdvancedPythonTopics.ipynb\" target=\"_parent\"><img src=\"https://colab.research.google.com/assets/colab-badge.svg\" alt=\"Open In Colab\"/></a>"
      ]
    },
    {
      "cell_type": "markdown",
      "metadata": {
        "id": "CLzLcUQ7htcD"
      },
      "source": [
        "- **Lists in Python - Advanced Python 01 - Programming Tutorial**\n",
        "- **Tuples in Python - Advanced Python 02**\n",
        "- **Dictionaries in Python - Advanced Python 03**\n",
        "- **Sets in Python - Advanced Python 04**\n",
        "- **Strings in Python - Advanced Python 05**\n",
        "- **Collections in Python - Advanced Python 06**\n",
        "- **Itertools in Python - Advanced Python 07**\n",
        "- **Lambda in Python - Advanced Python 08 Map Filter Reduce**\n",
        "- **Exceptions in Python - Advanced Python 09**\n",
        "- **Logging in Python - Advanced Python 10**\n",
        "- **JSON in Python - Advanced Python 11**\n",
        "- **Random Numbers in Python - Advanced Python 12**\n",
        "- **Decorators in Python - Advanced Python 13**\n",
        "- **Generators in Python - Advanced Python 14**\n",
        "- **Threading vs Multiprocessing in Python - Advanced Python 15**\n",
        "- **Threading in Python - Advanced Python 16**\n",
        "- **Multiprocessing in Python - Advanced Python 17**\n",
        "- **Function arguments in detail - Advanced Python 18**\n",
        "- **The asterisk (*) operator in Python - Advanced Python 19**\n",
        "- **Shallow vs Deep Copying in Python - Advanced Python 20**\n",
        "- **Context Managers in Python - Advanced Python 21**"
      ]
    },
    {
      "cell_type": "markdown",
      "metadata": {
        "id": "Xp8qf6wai3k7"
      },
      "source": [
        "# **Lists**"
      ]
    },
    {
      "cell_type": "code",
      "metadata": {
        "id": "nGOzgZvXjmRX"
      },
      "source": [
        "import sys\n",
        "print(sys.getsizeof(l), \"bytes\")\n",
        "\n",
        "l1.copy(l2)\n",
        "l1 = list(l2)\n",
        "l1 = l2[:]\n",
        "# are all the same\n",
        "# but not same as\n",
        "l1 = l2\n",
        "\n",
        "\n",
        "l1 = [..]\n",
        "l2 = [..]\n",
        "for i,j in zip(l1,l2):  #could be more than 2\n",
        "    pass\n",
        "for i in zip(l1,l2):\n",
        "    # prints tuples\n",
        "    pass\n",
        "\n"
      ],
      "execution_count": null,
      "outputs": []
    },
    {
      "cell_type": "markdown",
      "metadata": {
        "id": "mnWp9mp1jmnC"
      },
      "source": [
        "# **Tuples**"
      ]
    },
    {
      "cell_type": "code",
      "metadata": {
        "id": "Q98asX0Kx7ds"
      },
      "source": [
        "# immutable, ordered\n",
        "(\"kjh\") is not a tuple, its a str\n",
        "(\"kjh\",) is.\n",
        "\n",
        "tu = tuple(l1)\n",
        "\n",
        "# for in\n",
        "# if in \n",
        "# both work "
      ],
      "execution_count": null,
      "outputs": []
    },
    {
      "cell_type": "code",
      "metadata": {
        "id": "zTgdEZOJjmyu"
      },
      "source": [
        "# tuple unpacking\n",
        "mt = (0,1,2,3,4)\n",
        "i1, *i2, i3 = mt  #i2 is list([1,2,3])\n",
        "\n",
        "a,_ = (1,2)"
      ],
      "execution_count": 25,
      "outputs": []
    },
    {
      "cell_type": "code",
      "metadata": {
        "colab": {
          "base_uri": "https://localhost:8080/"
        },
        "id": "TnumdgVF-2Rz",
        "outputId": "08d3b305-dbee-4efd-969c-d17a02f65d1a"
      },
      "source": [
        "#working with a tuple can be efficient sometimes\n",
        "import sys\n",
        "l = [0,1,2,\"hello\", True]\n",
        "t = (0,1,2,\"hello\", True)\n",
        "print(sys.getsizeof(l), \"bytes\")\n",
        "print(sys.getsizeof(t), \"bytes\")\n",
        "\n",
        "print('-'*9)\n",
        "import timeit\n",
        "print(timeit.timeit(stmt=\"[0,1,2,3,4,5]\", number= 1000000))\n",
        "print(timeit.timeit(stmt=\"(0,1,2,3,4,5)\", number= 1000000))"
      ],
      "execution_count": 27,
      "outputs": [
        {
          "output_type": "stream",
          "text": [
            "112 bytes\n",
            "96 bytes\n",
            "---------\n",
            "0.07837460000064311\n",
            "0.01092386899927078\n"
          ],
          "name": "stdout"
        }
      ]
    },
    {
      "cell_type": "code",
      "metadata": {
        "colab": {
          "base_uri": "https://localhost:8080/"
        },
        "id": "JAh5jkHr7rcj",
        "outputId": "983bff16-2788-405b-a70e-7f9052fa9e19"
      },
      "source": [
        "#not related to tuple but\n",
        "n1 = 100_000_000\n",
        "n2 = 100_000\n",
        "print(n1+n2)\n",
        "print(f'{n1+n2:,}')"
      ],
      "execution_count": 26,
      "outputs": [
        {
          "output_type": "stream",
          "text": [
            "100100000\n",
            "100,100,000\n"
          ],
          "name": "stdout"
        }
      ]
    },
    {
      "cell_type": "code",
      "metadata": {
        "id": "Y4l1wwv69Gsh"
      },
      "source": [
        "class Person():\n",
        "    pass\n",
        "\n",
        "p = Person()\n",
        "p.first = \"m\"\n",
        "p.last = \"c\"\n",
        "\n",
        "# and\n",
        "\n",
        "setattr(p, \"first\", \"m\")\n",
        "print(p.first)\n",
        "\n",
        "# and\n",
        "\n",
        "first_key = \"first\"\n",
        "first_val = \"m\"\n",
        "setattr(p, first_key, first_val)\n",
        "print(person.first)\n",
        "\n",
        "# and\n",
        "first = getattr(p, first_key)\n",
        "print(first)\n",
        "\n",
        "# and\n",
        "p_info = {'first':'m', 'kast':'c'}\n",
        "for k,v in p_info.items():\n",
        "    setattr(p, k,v)\n",
        "print(p.first, p.last)\n",
        "\n",
        "for k in p_info.keys():\n",
        "    print(getattr(p,k))\n",
        "# ------------------------------------------"
      ],
      "execution_count": null,
      "outputs": []
    },
    {
      "cell_type": "markdown",
      "metadata": {
        "id": "GROPvN9xjm4-"
      },
      "source": [
        "# **Dictionaries**"
      ]
    },
    {
      "cell_type": "code",
      "metadata": {
        "colab": {
          "base_uri": "https://localhost:8080/"
        },
        "id": "g3JDh2Cnjm_F",
        "outputId": "36e8ba27-de0a-4bc5-f583-6bc5cee8e1e3"
      },
      "source": [
        "#unordered, mutable\n",
        "d = dict(name=\"m\", age=\"19\")\n",
        "print(d)"
      ],
      "execution_count": 28,
      "outputs": [
        {
          "output_type": "stream",
          "text": [
            "{'name': 'm', 'age': '19'}\n"
          ],
          "name": "stdout"
        }
      ]
    },
    {
      "cell_type": "code",
      "metadata": {
        "id": "YR_peiWTAb0f"
      },
      "source": [
        "del d[\"name\"]\n",
        "\n",
        "d.pop(\"age\")\n",
        "\n",
        "d.popitem()      #last"
      ],
      "execution_count": null,
      "outputs": []
    },
    {
      "cell_type": "code",
      "metadata": {
        "id": "2L2yJE5XA6zi"
      },
      "source": [
        "d2 = dict(d1)\n",
        "d2 = d1.copy()\n",
        "# not as same as\n",
        "d2 = d1"
      ],
      "execution_count": null,
      "outputs": []
    },
    {
      "cell_type": "code",
      "metadata": {
        "colab": {
          "base_uri": "https://localhost:8080/"
        },
        "id": "jVYbHdArCLQB",
        "outputId": "2e54d4a5-c5c4-49e8-a877-ceef97f31c85"
      },
      "source": [
        "# Merging two dictionary \n",
        "d1 = dict(name=\"m\", age=\"19\", email=\"xyz\")\n",
        "d2 = {\"name\":\"d\", 'age':\"20\", 'city':\"a\"}\n",
        "\n",
        "d1.update(d2)\n",
        "print(d1)  #keys get added or overidden\n"
      ],
      "execution_count": 31,
      "outputs": [
        {
          "output_type": "stream",
          "text": [
            "{'name': 'd', 'age': '20', 'email': 'xyz', 'city': 'a'}\n"
          ],
          "name": "stdout"
        }
      ]
    },
    {
      "cell_type": "code",
      "metadata": {
        "id": "_lGSpyd8C0Ou"
      },
      "source": [
        "t = (1,2)\n",
        "l = [1,2]\n",
        "\n",
        "d1 = {t:14}\n",
        "d2 = {l:14}  #wont work cause lists are mutable, (unhashable)\n"
      ],
      "execution_count": 32,
      "outputs": []
    },
    {
      "cell_type": "markdown",
      "metadata": {
        "id": "ZnqQBOD5jnFS"
      },
      "source": [
        "# **Sets**"
      ]
    },
    {
      "cell_type": "code",
      "metadata": {
        "id": "Dijnn886Czet"
      },
      "source": [
        "#unordered, mutable, noduplicates\n",
        "set1 = set(l)\n",
        "set2 = set(\"asdgd\")\n",
        "set3 = {1,2,3,4,1}\n",
        "set4 = {} #is a dict\n",
        "set4 = set() #is a set\n",
        "\n",
        "\n",
        "set3.remove(6) #gives an error\n",
        "set3.discard(6) #does nothing\n",
        "set3.clear()  #clears\n",
        "set3.pop() #returns an arbitary number\n",
        "\n",
        "\n",
        "s = s1.union(s2)\n",
        "s = s1.intersection(s2)\n",
        "s = s1.difference(s2)        #in s1 but not in s2\n",
        "s = s1.symmetric_difference(s2)  #all except common elements\n",
        "#  all this will return a set, wont modify original sets \n",
        "s1.update(s2)\n",
        "s1.intersection_update(s2)\n",
        "s1.difference_update(s2)\n",
        "s1.symmetric_difference_update(s3)\n",
        "\n",
        "\n",
        "s1.issubset(s2)\n",
        "s1.issuperset(s2)\n",
        "s1.isdisjoint(s2)\n",
        "\n",
        "\n",
        "s2 = set(s1)\n",
        "s2 = s1.copy()\n",
        "# not as same as\n",
        "s2 = s1"
      ],
      "execution_count": null,
      "outputs": []
    },
    {
      "cell_type": "code",
      "metadata": {
        "id": "EsZRf-IyjnKr"
      },
      "source": [
        "a = frozenset([1,2,2,3,4])\n",
        "#cant change/add after creating\n"
      ],
      "execution_count": null,
      "outputs": []
    },
    {
      "cell_type": "markdown",
      "metadata": {
        "id": "e1DUqQkVjnQv"
      },
      "source": [
        "# **Strings**"
      ]
    },
    {
      "cell_type": "code",
      "metadata": {
        "id": "mjGkBx9PjnVs"
      },
      "source": [
        ""
      ],
      "execution_count": 22,
      "outputs": []
    },
    {
      "cell_type": "markdown",
      "metadata": {
        "id": "SYh-0BHYqhRq"
      },
      "source": [
        "# **Collections**"
      ]
    },
    {
      "cell_type": "code",
      "metadata": {
        "id": "PYMPMb0_qgUs"
      },
      "source": [
        ""
      ],
      "execution_count": null,
      "outputs": []
    },
    {
      "cell_type": "markdown",
      "metadata": {
        "id": "VIrWYfjnjnxz"
      },
      "source": [
        "# **Itertools**"
      ]
    },
    {
      "cell_type": "code",
      "metadata": {
        "id": "593oBJHWjn3c"
      },
      "source": [
        ""
      ],
      "execution_count": null,
      "outputs": []
    },
    {
      "cell_type": "markdown",
      "metadata": {
        "id": "tWDoSfMMjn9m"
      },
      "source": [
        "# **Lambda**\n"
      ]
    },
    {
      "cell_type": "code",
      "metadata": {
        "id": "5PTI9KVfjoCJ"
      },
      "source": [
        ""
      ],
      "execution_count": null,
      "outputs": []
    },
    {
      "cell_type": "markdown",
      "metadata": {
        "id": "KJ4cxYETjoH7"
      },
      "source": [
        "# **Exceptions**\n"
      ]
    },
    {
      "cell_type": "code",
      "metadata": {
        "id": "_tfY1i5djoMA"
      },
      "source": [
        ""
      ],
      "execution_count": null,
      "outputs": []
    },
    {
      "cell_type": "markdown",
      "metadata": {
        "id": "5yftU_oGq0F1"
      },
      "source": [
        "# **Logging**\n"
      ]
    },
    {
      "cell_type": "code",
      "metadata": {
        "id": "ySYdUoIDq0ZX"
      },
      "source": [
        ""
      ],
      "execution_count": null,
      "outputs": []
    },
    {
      "cell_type": "markdown",
      "metadata": {
        "id": "iOnHlBMxq0fY"
      },
      "source": [
        "# **JSON**\n"
      ]
    },
    {
      "cell_type": "code",
      "metadata": {
        "id": "sFMbAiidq0ku"
      },
      "source": [
        ""
      ],
      "execution_count": null,
      "outputs": []
    },
    {
      "cell_type": "markdown",
      "metadata": {
        "id": "CTkpPwQIq0qG"
      },
      "source": [
        "# **Random Numbers**\n"
      ]
    },
    {
      "cell_type": "code",
      "metadata": {
        "id": "agxmT9czq00T"
      },
      "source": [
        ""
      ],
      "execution_count": null,
      "outputs": []
    },
    {
      "cell_type": "markdown",
      "metadata": {
        "id": "nIZGiVHgq0-O"
      },
      "source": [
        "# **Decorators**\n"
      ]
    },
    {
      "cell_type": "code",
      "metadata": {
        "id": "MB3ovBFlq1CZ"
      },
      "source": [
        ""
      ],
      "execution_count": null,
      "outputs": []
    },
    {
      "cell_type": "markdown",
      "metadata": {
        "id": "1r-RewMiq1GH"
      },
      "source": [
        "# **Generators**\n"
      ]
    },
    {
      "cell_type": "code",
      "metadata": {
        "id": "YYNxdiFKq1Kc"
      },
      "source": [
        ""
      ],
      "execution_count": null,
      "outputs": []
    },
    {
      "cell_type": "markdown",
      "metadata": {
        "id": "ywwxSYcGq1On"
      },
      "source": [
        "# **Threading vs Multiprocessing**"
      ]
    },
    {
      "cell_type": "code",
      "metadata": {
        "id": "2tcs-40pq_zf"
      },
      "source": [
        ""
      ],
      "execution_count": null,
      "outputs": []
    },
    {
      "cell_type": "markdown",
      "metadata": {
        "id": "R-xV0inDrAAY"
      },
      "source": [
        "# **Threading**"
      ]
    },
    {
      "cell_type": "code",
      "metadata": {
        "id": "tc03Wgz_rAGW"
      },
      "source": [
        ""
      ],
      "execution_count": null,
      "outputs": []
    },
    {
      "cell_type": "markdown",
      "metadata": {
        "id": "B697iCevrAK1"
      },
      "source": [
        "# **Multiprocessing**"
      ]
    },
    {
      "cell_type": "code",
      "metadata": {
        "id": "GuGDetryrAPB"
      },
      "source": [
        ""
      ],
      "execution_count": null,
      "outputs": []
    },
    {
      "cell_type": "markdown",
      "metadata": {
        "id": "DTQwWCNgrAr-"
      },
      "source": [
        "# **Function arguments**"
      ]
    },
    {
      "cell_type": "code",
      "metadata": {
        "id": "MoAEk0hJrAym"
      },
      "source": [
        ""
      ],
      "execution_count": null,
      "outputs": []
    },
    {
      "cell_type": "markdown",
      "metadata": {
        "id": "jzvspVPOrA4L"
      },
      "source": [
        "# **The asterisk (*) operator**"
      ]
    },
    {
      "cell_type": "code",
      "metadata": {
        "id": "ZEqaN-kerIKc"
      },
      "source": [
        ""
      ],
      "execution_count": null,
      "outputs": []
    },
    {
      "cell_type": "markdown",
      "metadata": {
        "id": "axYCU7IBrIw4"
      },
      "source": [
        "\n",
        "# **Shallow vs Deep Copying**\n"
      ]
    },
    {
      "cell_type": "code",
      "metadata": {
        "id": "pSjCs8IqrI6e"
      },
      "source": [
        ""
      ],
      "execution_count": null,
      "outputs": []
    },
    {
      "cell_type": "markdown",
      "metadata": {
        "id": "iJYsxQ7TrJBP"
      },
      "source": [
        "# **Context Managers**"
      ]
    },
    {
      "cell_type": "code",
      "metadata": {
        "id": "4-4X-3ogrJKs"
      },
      "source": [
        "f = open(....)\n",
        "fs = f.read()\n",
        "f.close \n",
        "\n",
        "# is same as\n",
        "with open(..) as f:\n",
        "    fs = f.read()"
      ],
      "execution_count": null,
      "outputs": []
    }
  ]
}