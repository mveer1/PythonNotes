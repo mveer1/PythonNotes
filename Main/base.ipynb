{
 "cells": [
  {
   "cell_type": "markdown",
   "metadata": {},
   "source": [
    "# basics"
   ]
  },
  {
   "cell_type": "markdown",
   "metadata": {},
   "source": [
    "`basic tips\n",
    "random module\n",
    "strings lists dictionaries tuples\n",
    "turtles\n",
    "image processing\n",
    "csv files\n",
    "date and time\n",
    "list comprehension\n",
    "lambda fucntion`\n"
   ]
  },
  {
   "cell_type": "code",
   "execution_count": null,
   "metadata": {},
   "outputs": [],
   "source": [
    "# module is just a collection of variables (a namespace, if you like)\n",
    "enumerate()\n",
    "zip()\n",
    "\n",
    "%precision 2\n"
   ]
  },
  {
   "cell_type": "code",
   "execution_count": null,
   "metadata": {},
   "outputs": [],
   "source": [
    "import math\n",
    "print(\"pi is {:.102}\".format(math.pi))"
   ]
  },
  {
   "cell_type": "code",
   "execution_count": null,
   "metadata": {},
   "outputs": [],
   "source": [
    "we could just refer to pi instead of math.pi or mt.pi? Good news: we can do that.\n",
    "\n",
    "from math import *\n",
    "print(pi, log(32, 2))\n",
    "#instead of print(math.pi, math.log(32, 2))"
   ]
  },
  {
   "cell_type": "code",
   "execution_count": null,
   "metadata": {},
   "outputs": [],
   "source": [
    "Three tools for understanding strange objects\n",
    "type()(what is this thing?)\n",
    "dir() (what can I do with it?)\n",
    "help() (tell me more)"
   ]
  },
  {
   "cell_type": "code",
   "execution_count": null,
   "metadata": {},
   "outputs": [],
   "source": [
    "#A little about\n",
    "Operator overloading"
   ]
  },
  {
   "cell_type": "code",
   "execution_count": null,
   "metadata": {},
   "outputs": [],
   "source": [
    "import numpy \n",
    "xlist = [[1,2,3],[2,4,6],]\n",
    "# Create a 2-dimensional array\n",
    "x = numpy.asarray(xlist)\n",
    "print(\"xlist = {}\\nx =\\n{}\".format(xlist, x))"
   ]
  },
  {
   "cell_type": "code",
   "execution_count": null,
   "metadata": {},
   "outputs": [],
   "source": [
    "x[1,-1]"
   ]
  },
  {
   "cell_type": "code",
   "execution_count": null,
   "metadata": {},
   "outputs": [],
   "source": [
    "xlist[1,-1]  #wont work"
   ]
  },
  {
   "cell_type": "code",
   "execution_count": null,
   "metadata": {},
   "outputs": [],
   "source": [
    "import tensorflow as tf\n",
    "# Create two constants, each with value 1\n",
    "a = tf.constant(1)\n",
    "b = tf.constant(1)\n",
    "# Add them together to get...\n",
    "a + b"
   ]
  },
  {
   "cell_type": "code",
   "execution_count": null,
   "metadata": {},
   "outputs": [],
   "source": [
    "pip install tensorflow"
   ]
  },
  {
   "cell_type": "code",
   "execution_count": null,
   "metadata": {},
   "outputs": [],
   "source": [
    "pip list"
   ]
  },
  {
   "cell_type": "code",
   "execution_count": null,
   "metadata": {},
   "outputs": [],
   "source": [
    "(\"pass\" is a keyword that does literally nothing. We used it as a placeholder\n",
    "    # because after we begin a code block, Python requires at least one line of code)\n",
    "pass \n",
    " \n",
    "type()\n",
    "cast functions\n",
    "import statement\n",
    "input(\"prompt\") #returns a string"
   ]
  },
  {
   "cell_type": "code",
   "execution_count": null,
   "metadata": {},
   "outputs": [],
   "source": [
    "?round\n",
    "#try with negative digits"
   ]
  },
  {
   "cell_type": "code",
   "execution_count": null,
   "metadata": {},
   "outputs": [],
   "source": [
    "#Tip: In the kernel editor, you can highlight several lines and press ctrl+/ to toggle commenting.)"
   ]
  },
  {
   "cell_type": "code",
   "execution_count": null,
   "metadata": {},
   "outputs": [],
   "source": [
    "import re\n",
    "?re.search"
   ]
  },
  {
   "cell_type": "markdown",
   "metadata": {},
   "source": [
    "monte carlo method, look it up"
   ]
  },
  {
   "cell_type": "code",
   "execution_count": null,
   "metadata": {},
   "outputs": [],
   "source": [
    "print(\"hey, .do you mindd\".strip('').lower().split())"
   ]
  },
  {
   "cell_type": "markdown",
   "metadata": {},
   "source": [
    "and is a Logical AND that returns True if both the operands are true whereas ‘&’ is a bitwise operator in Python that acts on bits and performs bit by bit operation.\n",
    "When an integer value is 0, it is considered as False when using logically."
   ]
  },
  {
   "cell_type": "code",
   "execution_count": null,
   "metadata": {},
   "outputs": [],
   "source": [
    "#frequency counter\n",
    "name=input('enter file :')\n",
    "handle=open(name,'r')\n",
    "counts=dict()\n",
    "for line in handle:\n",
    "    words=line.split()\n",
    "    for word in words:\n",
    "        counts[word]=counts.get(word,0)+1\n",
    "bigcount=None\n",
    "bigword=None\n",
    "for word, count in counts.items():\n",
    "    if bigcount is None or count>bigcount:\n",
    "        bigword=word\n",
    "        bigcount=count\n",
    "print(bigword, bigcount)\n",
    "type(handle)"
   ]
  },
  {
   "cell_type": "code",
   "execution_count": null,
   "metadata": {},
   "outputs": [],
   "source": [
    "+ #concatenating\n",
    "* #can be used in print, or with lists\n",
    "in \n",
    "is  #better than ==, but used for true false none\n",
    "not #if not\n",
    "is not \n",
    "unpacking \n",
    "slicing with [:] #[-1] is last character\n",
    "try except\n",
    "\n",
    "def functionname(parameter):  #also, parameter is just an alias for the argument (when its called)\n",
    "    ...\n",
    "max()\n",
    "min()\n",
    "return #breaks a function\n",
    "break and continue \n",
    "boolean True False, None "
   ]
  },
  {
   "cell_type": "code",
   "execution_count": null,
   "metadata": {},
   "outputs": [],
   "source": [
    "if x<10:\n",
    "    ...\n",
    "elif x>20:\n",
    "    ...\n",
    "else:\n",
    "    ..."
   ]
  },
  {
   "cell_type": "code",
   "execution_count": null,
   "metadata": {},
   "outputs": [],
   "source": [
    "smallest = None\n",
    "for v in [1,23,4,5]:\n",
    "    if smallest is None:\n",
    "        smallest = v\n",
    "    elif v < smallest:\n",
    "        smallest = v\n",
    "print(smallest)\n",
    "\n",
    "print(min([1,2,3,5,6]))"
   ]
  },
  {
   "cell_type": "code",
   "execution_count": null,
   "metadata": {},
   "outputs": [],
   "source": [
    "?min"
   ]
  },
  {
   "cell_type": "code",
   "execution_count": null,
   "metadata": {},
   "outputs": [],
   "source": [
    "(,1) #single tuple \n",
    "(1,2) #two tuple"
   ]
  },
  {
   "cell_type": "markdown",
   "metadata": {},
   "source": [
    "### true random numbers\n",
    "For a more day-to-day example, the computer could rely on atmospheric noise or simply use the exact time you press keys on your keyboard as a source of unpredictable data, or entropy. For example, your computer might notice that you pressed a key at exactly 0.23423523 seconds after 2 p.m.. Grab enough of the specific times associated with these key presses and you’ll have a source of entropy you can use to generate a “true” random number. You’re not a predictable machine, so an attacker can’t guess the precise moment when you press these keys. The /dev/random device on Linux, which generates random numbers, “blocks” and doesn’t return a result until it gathers enough entropy to return a truly random number.\n",
    "\n",
    "\n",
    "### peudo random numbers \n",
    "Pseudorandom numbers are an alternative to “true” random numbers. A computer could use a seed value and an algorithm to generate numbers that appear to be random, but that are in fact predictable. The computer doesn’t gather any random data from the environment.This isn’t necessarily a bad thing in every situation. For example, if you’re playing a video game, it doesn’t really matter whether the events that occur in that game are caused by “true” random numbers or pseudorandom numbers. On the other hand, if you’re using encryption, you don’t want to use pseudorandom numbers that an attacker could guess.For example, let’s say an attacker knows the algorithm and seed value a pseudorandom number generator uses. And let’s say an encryption algorithm gets a pseudorandom number from this algorithm and uses it to generate an encryption key without adding any additional randomness. If an attacker knows enough, they could work backwards and determine the pseudorandom number the encryption algorithm must have chosen in that case, breaking the encryption.\n"
   ]
  },
  {
   "cell_type": "code",
   "execution_count": null,
   "metadata": {
    "scrolled": true
   },
   "outputs": [],
   "source": [
    "import random as r\n",
    "n = r.random()   #gives a floating point between 0 and 1\n",
    "print(n)\n",
    "\n",
    "#n=random.randrange(1,7)  #print one from 1,2,3,4,5,6\n",
    "#n=random.randrange(10)   #...............0,1,2,3...9\n",
    "\n",
    "n = r.randint(0,22)\n",
    "print(n)\n",
    "\n",
    "randomlist = []\n",
    "for i in range(0,5):\n",
    "    n = r.randint(1,30)\n",
    "    randomlist.append(n)\n",
    "print(randomlist)\n",
    "\n",
    "randomlist = r.sample(range(10, 30), 5)\n",
    "print(randomlist)"
   ]
  },
  {
   "cell_type": "markdown",
   "metadata": {},
   "source": [
    "#### Importing \n",
    "\n",
    "For example, if you have a file myprog.py in directory ~/Desktop/mycode/, and myprog.py contains a line of code import morecode, then the python interpreter will look for a file called morecode.py, excecute its code, and make its object bindings available for reference in the rest of the code in myprog.py.\n",
    "Note that it is import morecode, not import morecode.py, but the other file has to be called morecode.py.\n",
    "\n",
    "To invoke a function f1 that is defined in morecode.py, you would write morecode.f1()\n",
    "or import morecode as mc, you would invoke f1 as mc.f1()\n",
    "or from morecode import f1\n",
    "\n",
    "also be sure on what you name your files in the common folder, import will prefer the files than standard modules\n"
   ]
  },
  {
   "cell_type": "markdown",
   "metadata": {},
   "source": [
    "# strings"
   ]
  },
  {
   "cell_type": "code",
   "execution_count": null,
   "metadata": {},
   "outputs": [],
   "source": [
    "str1 = \"hello world\"\n",
    "len(str1)\n",
    "#strings are iterable here, not in go ig\n",
    "#[] is pronouced sub\n",
    "print(str1[:2])\n",
    "print(str1[2:])\n",
    "print(str1[:], type(str1[:]))\n",
    "print(type(str1))"
   ]
  },
  {
   "cell_type": "code",
   "execution_count": null,
   "metadata": {},
   "outputs": [],
   "source": [
    "dir(str1)"
   ]
  },
  {
   "cell_type": "code",
   "execution_count": null,
   "metadata": {},
   "outputs": [],
   "source": [
    "?str1.swapcase"
   ]
  },
  {
   "cell_type": "code",
   "execution_count": 13,
   "metadata": {},
   "outputs": [],
   "source": [
    "# s='RLRRRLLRLL'\n",
    "# z=s\n",
    "# count = 0\n",
    "# x=s.lstrip('R')\n",
    "# y=s[len(s)-len(x):].lstrip('L')\n",
    "# count+=1\n",
    "# s=y\n",
    "# x=s.lstrip('R')\n",
    "# y=s[len(s)-len(x):].lstrip('L')\n",
    "# count+=1\n",
    "# s=y\n",
    "# x=s.lstrip('R')\n",
    "# y=s[len(s)-len(x):].lstrip('L')\n",
    "# count+=1\n",
    "\n",
    "# while True:\n",
    "# #     print(s,count)\n",
    "#     x=s.lstrip('L')\n",
    "#     y=s[len(s)-len(x):].lstrip('R')\n",
    "#     count+=1\n",
    "#     s=y\n",
    "#     if (len(s)==0 or len(s)==1):\n",
    "#         break\n",
    "#     else:\n",
    "#         continue\n",
    "# print(count,s)"
   ]
  },
  {
   "cell_type": "code",
   "execution_count": 21,
   "metadata": {},
   "outputs": [
    {
     "data": {
      "text/plain": [
       "4"
      ]
     },
     "execution_count": 21,
     "metadata": {},
     "output_type": "execute_result"
    }
   ],
   "source": [
    "s=\"RLRRLLRLRL\"\n",
    "b=0\n",
    "c=0\n",
    "for i in s:\n",
    "    if i=='L':\n",
    "        b+=1\n",
    "    else:\n",
    "        b-=1\n",
    "    if b==0:\n",
    "        c+=1\n",
    "    else: continue\n",
    "c"
   ]
  },
  {
   "cell_type": "code",
   "execution_count": 68,
   "metadata": {},
   "outputs": [
    {
     "name": "stdout",
     "output_type": "stream",
     "text": [
      "[8, 7, 4, 2, 1, 1]\n",
      "[1, False, 4, 2, 1, 1]   else\n",
      "[4, 2, 1, 1, 1, False]\n",
      "[2, False, 1, 1, 1, False]   else\n",
      "[2, 1, 1, 1, False, False]\n",
      "[1, False, 1, 1, False, False]   else\n",
      "[1, 1, 1, False, False, False]\n",
      "[False, False, 1, False, False, False]   if\n",
      "[1, False, False, False, False, False]\n",
      "[1, False, False, False, False, False]   else\n",
      "[1, False, False, False, False, False]\n",
      "[1, False, False, False, False, False]   else\n"
     ]
    },
    {
     "data": {
      "text/plain": [
       "(1, [1])"
      ]
     },
     "execution_count": 68,
     "metadata": {},
     "output_type": "execute_result"
    }
   ],
   "source": [
    "stones=[2,7,4,1,8,1]\n",
    "c=0\n",
    "for i in range(len(stones)):\n",
    "    stones.sort(reverse=True)\n",
    "    print(stones)\n",
    "    if stones[0]==stones[1]:\n",
    "        stones[0]=False\n",
    "        stones[1]=False\n",
    "        print(stones,\"  if\")\n",
    "    else:\n",
    "        stones[0]=stones[0]-stones[1]\n",
    "        stones[1]=False\n",
    "        print(stones,\"  else\")\n",
    "\n",
    "s=list(filter(lambda s: s != False, stones))\n",
    "if len(s)==0:\n",
    "    c=0\n",
    "else:\n",
    "    c=s[0]\n",
    "c,s"
   ]
  },
  {
   "cell_type": "code",
   "execution_count": 55,
   "metadata": {},
   "outputs": [
    {
     "ename": "AttributeError",
     "evalue": "'list' object has no attribute 'removeall'",
     "output_type": "error",
     "traceback": [
      "\u001b[1;31m---------------------------------------------------------------------------\u001b[0m",
      "\u001b[1;31mAttributeError\u001b[0m                            Traceback (most recent call last)",
      "\u001b[1;32m<ipython-input-55-5d5ccba6116e>\u001b[0m in \u001b[0;36m<module>\u001b[1;34m\u001b[0m\n\u001b[0;32m      1\u001b[0m \u001b[0mstones\u001b[0m\u001b[1;33m=\u001b[0m\u001b[1;33m[\u001b[0m\u001b[1;36m2\u001b[0m\u001b[1;33m,\u001b[0m\u001b[1;36m7\u001b[0m\u001b[1;33m,\u001b[0m\u001b[1;36m4\u001b[0m\u001b[1;33m,\u001b[0m\u001b[1;36m1\u001b[0m\u001b[1;33m,\u001b[0m\u001b[1;36m1\u001b[0m\u001b[1;33m,\u001b[0m\u001b[1;36m8\u001b[0m\u001b[1;33m,\u001b[0m\u001b[1;36m0\u001b[0m\u001b[1;33m,\u001b[0m\u001b[1;32mFalse\u001b[0m\u001b[1;33m]\u001b[0m\u001b[1;33m\u001b[0m\u001b[1;33m\u001b[0m\u001b[0m\n\u001b[1;32m----> 2\u001b[1;33m \u001b[0mstones\u001b[0m\u001b[1;33m.\u001b[0m\u001b[0mremoveall\u001b[0m\u001b[1;33m(\u001b[0m\u001b[1;36m1\u001b[0m\u001b[1;33m)\u001b[0m\u001b[1;33m\u001b[0m\u001b[1;33m\u001b[0m\u001b[0m\n\u001b[0m\u001b[0;32m      3\u001b[0m \u001b[0mstones\u001b[0m\u001b[1;33m\u001b[0m\u001b[1;33m\u001b[0m\u001b[0m\n",
      "\u001b[1;31mAttributeError\u001b[0m: 'list' object has no attribute 'removeall'"
     ]
    }
   ],
   "source": [
    "stones=[2,7,4,1,1,8,0,False]\n",
    "stones.removeall(1)\n",
    "stones"
   ]
  },
  {
   "cell_type": "code",
   "execution_count": 97,
   "metadata": {},
   "outputs": [
    {
     "data": {
      "text/plain": [
       "[5, 4]"
      ]
     },
     "execution_count": 97,
     "metadata": {},
     "output_type": "execute_result"
    }
   ],
   "source": [
    "A = [1,2,5]\n",
    "B = [2,4]\n",
    "d = (sum(A)-sum(B))//2\n",
    "SA=set(A)\n",
    "SB=set(B)\n",
    "[[i, i - d] for i in SA if i - d in SB][0]"
   ]
  },
  {
   "cell_type": "code",
   "execution_count": 108,
   "metadata": {},
   "outputs": [
    {
     "name": "stdout",
     "output_type": "stream",
     "text": [
      "3 3\n",
      "2 4\n",
      "4 2\n"
     ]
    }
   ],
   "source": [
    "target=6\n",
    "nums=[3,2,4]\n",
    "for i,x in enumerate(nums):\n",
    "    for j in range(len(nums)):\n",
    "#         print(len(nums), j)\n",
    "        if x+nums[j]==target:\n",
    "            print(x,nums[j])"
   ]
  },
  {
   "cell_type": "code",
   "execution_count": 44,
   "metadata": {},
   "outputs": [
    {
     "name": "stdout",
     "output_type": "stream",
     "text": [
      "je\n"
     ]
    },
    {
     "data": {
      "text/plain": [
       "str"
      ]
     },
     "execution_count": 44,
     "metadata": {},
     "output_type": "execute_result"
    }
   ],
   "source": [
    "x = u'je'\n",
    "print(x)\n",
    "type(x)\n",
    "#works only in python 2"
   ]
  },
  {
   "cell_type": "code",
   "execution_count": null,
   "metadata": {},
   "outputs": [],
   "source": [
    "?quit"
   ]
  },
  {
   "cell_type": "code",
   "execution_count": null,
   "metadata": {},
   "outputs": [],
   "source": [
    "str2 = str1.swapcase\n",
    "str3 = str1.swapcase()\n",
    "print(str1.swapcase)\n",
    "print(str2)\n",
    "print(str3)\n",
    "str1>str3"
   ]
  },
  {
   "cell_type": "code",
   "execution_count": null,
   "metadata": {},
   "outputs": [],
   "source": [
    "fh = open(\"scd.txt\")\n",
    "inp = fh.read()"
   ]
  },
  {
   "cell_type": "code",
   "execution_count": null,
   "metadata": {},
   "outputs": [],
   "source": [
    "a = \"banana\"\n",
    "b = \"banana\"\n",
    "\n",
    "d = \"bana\"\n",
    "e = d\n",
    "print(a is b) #true #the Python interpreter often optimizes resources by making two names that refer to the same string value refer to the same object.  #not with lists\n",
    "#the word often suggests use == to compare strings, not is\n",
    "print(id(a))\n",
    "print(id(b))   \n",
    "\n",
    "print(id(d))\n",
    "print(id(e))"
   ]
  },
  {
   "cell_type": "code",
   "execution_count": null,
   "metadata": {},
   "outputs": [],
   "source": [
    "print(\"Hello {}. Your score is {}.\".format(\"name\", \"score\"))\n",
    "#calculation = '${:.2f} discounted by {}% is ${:.2f}.'.format(origPrice, discount, newPrice)\n",
    "\n",
    "#use \\ to use { as a literal symbol\n",
    "setStr = 'The set is \\{\\{\\{}, {}}}.'.format(1, 2)"
   ]
  },
  {
   "cell_type": "markdown",
   "metadata": {},
   "source": [
    "# lists"
   ]
  },
  {
   "cell_type": "code",
   "execution_count": null,
   "metadata": {},
   "outputs": [],
   "source": [
    "print(list(range(0,10)))\n",
    "print(list(range(0,10,2)))"
   ]
  },
  {
   "cell_type": "code",
   "execution_count": null,
   "metadata": {},
   "outputs": [],
   "source": [
    "dir(list)"
   ]
  },
  {
   "cell_type": "code",
   "execution_count": null,
   "metadata": {},
   "outputs": [],
   "source": [
    "?list.pop  #removes the last item of the list and returns it"
   ]
  },
  {
   "cell_type": "code",
   "execution_count": null,
   "metadata": {},
   "outputs": [],
   "source": [
    "import inspect"
   ]
  },
  {
   "cell_type": "code",
   "execution_count": null,
   "metadata": {},
   "outputs": [],
   "source": [
    "#dir(inspect)"
   ]
  },
  {
   "cell_type": "code",
   "execution_count": null,
   "metadata": {},
   "outputs": [],
   "source": [
    "#inspect.getsource()"
   ]
  },
  {
   "cell_type": "code",
   "execution_count": null,
   "metadata": {},
   "outputs": [],
   "source": [
    "list=str.split('character') #default is whitespace\n",
    "\n",
    "glue = ';'\n",
    "str = glue.join(list)\n",
    "#also\n",
    "str = ';'.join(list)"
   ]
  },
  {
   "cell_type": "code",
   "execution_count": null,
   "metadata": {},
   "outputs": [],
   "source": [
    "alist = ['a', 'b', 'c', 'd', 'e', 'f']\n",
    "alist[1:3] = []\n",
    "print(alist)   #how to drop from a list"
   ]
  },
  {
   "cell_type": "code",
   "execution_count": null,
   "metadata": {},
   "outputs": [],
   "source": [
    "alist = ['a', 'd', 'f']\n",
    "alist[1:1] = ['b', 'c']   #how to insert in a list   \n",
    "print(alist)\n",
    "\n",
    "#We can even insert elements into a list by squeezing them into an empty slice at the desired location.\n",
    "alist[4:4] = ['e']\n",
    "print(alist)"
   ]
  },
  {
   "cell_type": "code",
   "execution_count": null,
   "metadata": {},
   "outputs": [],
   "source": [
    "alist = ['a', 'b', 'c', 'd', 'e', 'f']\n",
    "del alist[1:5]\n",
    "print(alist)"
   ]
  },
  {
   "cell_type": "code",
   "execution_count": null,
   "metadata": {},
   "outputs": [],
   "source": [
    "a = [81,82,83]\n",
    "b = [81,82,83]\n",
    "print(a is b) #false\n",
    "b = a\n",
    "print(a == b) #t\n",
    "print(a is b) #t\n",
    "b[0] = 5 #changes b and a too\n",
    "print(a) "
   ]
  },
  {
   "cell_type": "code",
   "execution_count": null,
   "metadata": {},
   "outputs": [],
   "source": [
    "#clonning is different from aliasing\n",
    "a = [81,82,83]\n",
    "b = a[:]       # make a clone using slice\n",
    "print(a == b) #t\n",
    "print(a is b) #f\n",
    "b[0] = 5 #changes b but not a\n",
    "print(a)\n",
    "print(b)"
   ]
  },
  {
   "cell_type": "code",
   "execution_count": null,
   "metadata": {},
   "outputs": [],
   "source": [
    "alist = [1,2]\n",
    "print(id(alist))\n",
    "alist.append(\"cat\")\n",
    "print(alist)\n",
    "print(id(alist))\n",
    "\n",
    "alist = alist + [\"cat\"] #note the syntax\n",
    "print(alist)\n",
    "print(id(alist))\n",
    "#It is also important to realize that with append, the original list is simply modified. On the other hand, with concatenation, an entirely new list is created."
   ]
  },
  {
   "cell_type": "code",
   "execution_count": null,
   "metadata": {},
   "outputs": [],
   "source": [
    "alist = alist + ['cat']\n",
    "#is different than\n",
    "alist+= ['cat']   #this is same as using append"
   ]
  },
  {
   "cell_type": "code",
   "execution_count": null,
   "metadata": {},
   "outputs": [],
   "source": [
    "#Don’t Mutate A List That You Are Iterating Through"
   ]
  },
  {
   "cell_type": "code",
   "execution_count": null,
   "metadata": {},
   "outputs": [],
   "source": [
    "mylist = [\"a\", \"b\", \"a\", \"c\", \"c\",'a','a','f','sd','sdf','sdf','sdf','sd','f','sd','f']\n",
    "mylist = list(dict.fromkeys(mylist))\n",
    "print(mylist)"
   ]
  },
  {
   "cell_type": "markdown",
   "metadata": {},
   "source": [
    "# dictionaries"
   ]
  },
  {
   "cell_type": "code",
   "execution_count": null,
   "metadata": {},
   "outputs": [],
   "source": [
    "pic = dict()\n",
    "pic2 = {}"
   ]
  },
  {
   "cell_type": "code",
   "execution_count": null,
   "metadata": {},
   "outputs": [],
   "source": [
    "dir(dict())"
   ]
  },
  {
   "cell_type": "code",
   "execution_count": null,
   "metadata": {},
   "outputs": [],
   "source": [
    "#get() \n",
    "counts = dict()\n",
    "names = ['a','s','d','f','d','a','s','a']\n",
    "for name in names:\n",
    "    if name not in counts:\n",
    "        counts[name]=1\n",
    "    else: \n",
    "        counts[name]+=1\n",
    "print(counts)"
   ]
  },
  {
   "cell_type": "code",
   "execution_count": null,
   "metadata": {},
   "outputs": [],
   "source": [
    "counts = dict()\n",
    "names = ['a','s','d','f','d','a','s','a']\n",
    "for name in names:\n",
    "    counts[name] = counts.get(name,0)+1\n",
    "print(counts)\n",
    "\n",
    "\n",
    "get(key)   Returns the value associated with key; None otherwise\n",
    "get(key,alt)  Returns the value associated with key; alt otherwise"
   ]
  },
  {
   "cell_type": "code",
   "execution_count": null,
   "metadata": {},
   "outputs": [],
   "source": [
    "print(counts.keys())\n",
    "print(counts.values())\n",
    "print(counts.items())   #returns a tuple\n",
    "print()\n",
    "print(list(counts.keys()))\n",
    "print(list(counts.values()))\n",
    "print(counts.get('a'))  #value with a \n",
    "print(dict(counts.items()))\n",
    "print()\n",
    "print(list(counts))"
   ]
  },
  {
   "cell_type": "code",
   "execution_count": null,
   "metadata": {},
   "outputs": [],
   "source": [
    "del dict[key] #works fine\n",
    " \n",
    "\n"
   ]
  },
  {
   "cell_type": "markdown",
   "metadata": {},
   "source": [
    "# tuples"
   ]
  },
  {
   "cell_type": "code",
   "execution_count": null,
   "metadata": {},
   "outputs": [],
   "source": [
    "x = ('a','b','c')\n",
    "#immutable\n",
    "#cant sort append reverse\n",
    "dir(x)"
   ]
  },
  {
   "cell_type": "code",
   "execution_count": null,
   "metadata": {},
   "outputs": [],
   "source": [
    "count is how many things match up a particular value\n",
    "index uk"
   ]
  },
  {
   "cell_type": "code",
   "execution_count": null,
   "metadata": {},
   "outputs": [],
   "source": [
    "a,b=1,2  #packing - unpacking uk\n",
    "a,b"
   ]
  },
  {
   "cell_type": "code",
   "execution_count": null,
   "metadata": {},
   "outputs": [],
   "source": [
    "b,a = a,b"
   ]
  },
  {
   "cell_type": "code",
   "execution_count": null,
   "metadata": {},
   "outputs": [],
   "source": [
    "(0,1,2)<(2,4,6)"
   ]
  },
  {
   "cell_type": "code",
   "execution_count": null,
   "metadata": {},
   "outputs": [],
   "source": [
    "d= {'a': 3, 's': 2, 'd': 2, 'f': 3}\n",
    "temp = []\n",
    "for k,v in d.items():\n",
    "    temp.append((v,k))\n",
    "print(temp)\n",
    "\n",
    "temp = sorted(temp, reverse=True)  #false is default\n",
    "temp"
   ]
  },
  {
   "cell_type": "code",
   "execution_count": null,
   "metadata": {},
   "outputs": [],
   "source": [
    "print(sorted([(v,k) for k,v in d.items()], reverse = False))"
   ]
  },
  {
   "cell_type": "markdown",
   "metadata": {},
   "source": [
    "and"
   ]
  },
  {
   "cell_type": "code",
   "execution_count": null,
   "metadata": {},
   "outputs": [],
   "source": [
    "print('el' in 'help')\n",
    "print('' in 'help')\n",
    "\n",
    "** is exponent\n",
    "// int divison\n",
    "/ divison\n",
    "% modulus"
   ]
  },
  {
   "cell_type": "markdown",
   "metadata": {},
   "source": [
    "# Turtles"
   ]
  },
  {
   "cell_type": "code",
   "execution_count": null,
   "metadata": {},
   "outputs": [],
   "source": [
    "import turtle \n",
    "wn = turtle.Screen()      # creates a graphics window \n",
    "wn.bgcolor(\"lightgreen\")\n",
    "veer = turtle.Turtle()    # create a turtle object\n",
    "veer.forward(150)         # move forward by 150 units\n",
    "veer.left(90)             # turn by 90 degrees\n",
    "veer.color(\"blue\")        # make it blue\n",
    "veer.pensize(3)\n",
    "veer.speed(1)            #speed ranges from 1 lowest to high 10, but 0 means no animation, hence fastest\n",
    "wn.exitonclick() \n",
    "\n",
    "#dont run again"
   ]
  },
  {
   "cell_type": "code",
   "execution_count": null,
   "metadata": {},
   "outputs": [],
   "source": [
    "#you can store -\n",
    "veer.price = 500"
   ]
  },
  {
   "cell_type": "code",
   "execution_count": null,
   "metadata": {},
   "outputs": [],
   "source": [
    "dir(veer)"
   ]
  },
  {
   "cell_type": "code",
   "execution_count": null,
   "metadata": {},
   "outputs": [],
   "source": [
    "wn = turtle.Screen()\n",
    "wn.bgcolor(\"lightgreen\")\n",
    "tess = turtle.Turtle()\n",
    "tess.color(\"blue\")\n",
    "tess.shape(\"turtle\")\n",
    "\n",
    "dist = 5\n",
    "tess.up()                     # this is new\n",
    "for _ in range(30):    # start with size = 5 and grow by 2\n",
    "    tess.stamp()                # leave an impression on the canvas\n",
    "    tess.forward(dist)          # move tess along\n",
    "    tess.right(24)              # and turn her\n",
    "    dist = dist + 2\n",
    "wn.exitonclick()"
   ]
  },
  {
   "cell_type": "markdown",
   "metadata": {},
   "source": [
    "# image proccesing"
   ]
  },
  {
   "cell_type": "code",
   "execution_count": null,
   "metadata": {},
   "outputs": [],
   "source": [
    "import image"
   ]
  },
  {
   "cell_type": "code",
   "execution_count": null,
   "metadata": {},
   "outputs": [],
   "source": [
    "dir(image)"
   ]
  },
  {
   "cell_type": "markdown",
   "metadata": {},
   "source": [
    "The image module defines two important classes: Image and Pixel\n"
   ]
  },
  {
   "cell_type": "code",
   "execution_count": null,
   "metadata": {},
   "outputs": [],
   "source": [
    "Pixel(20,100,50)  #Create a new pixel with 20 red, 100 green, and 50 blue.\n",
    "\n",
    "r = p.getRed()  #Return the red component intensity.\n",
    "p.setRed(100)  #Set the red component intensity to 100.\n"
   ]
  },
  {
   "cell_type": "code",
   "execution_count": null,
   "metadata": {},
   "outputs": [],
   "source": [
    "dir(image.Pixel)"
   ]
  },
  {
   "cell_type": "code",
   "execution_count": null,
   "metadata": {},
   "outputs": [],
   "source": [
    "import image\n",
    "p = image.Pixel(45, 76, 200)\n",
    "print(p.getRed())\n",
    "p.setRed(66)\n",
    "print(p.getRed())\n",
    "p.setBlue(p.getGreen())\n",
    "print(p.getGreen(), p.getBlue())"
   ]
  },
  {
   "cell_type": "code",
   "execution_count": null,
   "metadata": {},
   "outputs": [],
   "source": [
    "Image(filename) img = image.Image(“cy.png”)     Create an Image object from the file cy.png.\n",
    "EmptyImage() img = image.EmptyImage(100,200)     Create an Image object that has all “White” pixel\n",
    "getWidth() w = img.getWidth()   Return the width of the image in pixels.\n",
    "getHeight() h = img.getHeight()    Return the height of the image in pixels.\n",
    "getPixel(col,row)  p = img.getPixel(35,86)    Return the pixel at column 35, row 86.\n",
    "setPixel(col,row,p)   img.setPixel(100,50,mp)    Set the pixel at column 100, row 50 to be mp."
   ]
  },
  {
   "cell_type": "code",
   "execution_count": null,
   "metadata": {},
   "outputs": [],
   "source": [
    "#a simple example\n",
    "import image\n",
    "img = image.Image(\"luther.jpg\")\n",
    "print(img.getWidth())\n",
    "print(img.getHeight())\n",
    "p = img.getPixel(45, 55)  #refer above notes if you forget\n",
    "print(p.getRed(), p.getGreen(), p.getBlue())"
   ]
  },
  {
   "cell_type": "code",
   "execution_count": null,
   "metadata": {},
   "outputs": [],
   "source": [
    "#make a negative, of a Image\n",
    "import image\n",
    "img = image.Image(\"luther.jpg\")\n",
    "win = image.ImageWin(img.getWidth(), img.getHeight())       #opens a windoe, or better decribes a window object\n",
    "img.draw(win)          #opens a window with the image\n",
    "img.setDelay(1,15)   # setDelay(0) turns off animation, 15 is slowest, 1 is fastest, first argument for col, second for row\n",
    "win.exitonclick()\n",
    "for row in range(img.getHeight()):\n",
    "    for col in range(img.getWidth()):\n",
    "        p = img.getPixel(col, row)\n",
    "        newred = 255 - p.getRed()\n",
    "        newgreen = 255 - p.getGreen()\n",
    "        newblue = 255 - p.getBlue()\n",
    "\n",
    "        newpixel = image.Pixel(newred, newgreen, newblue)\n",
    "        img.setPixel(col, row, newpixel)\n",
    "img.draw(win)\n",
    "win.exitonclick()"
   ]
  },
  {
   "cell_type": "markdown",
   "metadata": {},
   "source": [
    "For example, you can create a gray scale pixel by averaging the red, green and blue intensities and then using that value for all intensities.\n",
    "\n",
    "From the gray scale you can create black white by setting a threshold and selecting to either insert a white pixel for a black pixel into the empty image.\n",
    "\n",
    "You can also do some complex arithmetic and create interesting \n",
    "effects, such as Sepia Tone\n"
   ]
  },
  {
   "cell_type": "markdown",
   "metadata": {},
   "source": [
    "## CSV Files"
   ]
  },
  {
   "cell_type": "code",
   "execution_count": null,
   "metadata": {},
   "outputs": [],
   "source": [
    "import csv\n",
    "\n",
    "%precision 2\n",
    "\n",
    "with open('mpg.csv') as csvfile:\n",
    "    mpg = list(csv.DictReader(csvfile))\n",
    "    \n",
    "mpg[:3] # The first three dictionaries in our list."
   ]
  },
  {
   "cell_type": "markdown",
   "metadata": {},
   "source": [
    "Use `set` to return the unique values for the class types in our dataset."
   ]
  },
  {
   "cell_type": "code",
   "execution_count": null,
   "metadata": {},
   "outputs": [],
   "source": [
    "vehicleclass = set(d['class'] for d in mpg)  #returns all the values infront of 'class' but without repeation\n",
    "#if list was used, every value would be returned, set eliminates repeated once"
   ]
  },
  {
   "cell_type": "markdown",
   "metadata": {},
   "source": [
    "## Dates and Times"
   ]
  },
  {
   "cell_type": "code",
   "execution_count": null,
   "metadata": {},
   "outputs": [],
   "source": [
    "import datetime as dt\n",
    "import time as tm\n",
    "tm.time() #`time` returns the current time in seconds since the Epoch. (January 1st, 1970)"
   ]
  },
  {
   "cell_type": "code",
   "execution_count": null,
   "metadata": {},
   "outputs": [],
   "source": [
    "dtnow = dt.datetime.fromtimestamp(tm.time())\n",
    "print(dtnow) \n",
    "dtnow.year, dtnow.month, dtnow.day, dtnow.hour, dtnow.minute, dtnow.second"
   ]
  },
  {
   "cell_type": "code",
   "execution_count": null,
   "metadata": {},
   "outputs": [],
   "source": [
    "delta = dt.timedelta(days = 100)  #create a timedelta of 100 days \n",
    "today=dt.date.today()\n",
    "print(today)   #todays date\n",
    "print(today-delta) #date 100 days ago "
   ]
  },
  {
   "cell_type": "code",
   "execution_count": null,
   "metadata": {},
   "outputs": [],
   "source": [
    "# Here's an example of mapping the `min` function between two lists.\n",
    "store1 = [10.00, 11.00, 12.34, 2.34]\n",
    "store2 = [9.00, 11.10, 12.34, 2.01]\n",
    "cheapest = map(min, store1, store2)\n",
    "for item in cheapest:   #cheapest is a map object\n",
    "    print(item)"
   ]
  },
  {
   "cell_type": "code",
   "execution_count": null,
   "metadata": {},
   "outputs": [],
   "source": [
    "my_list = [number for number in range(0,1000) if number % 2 == 0]"
   ]
  },
  {
   "cell_type": "code",
   "execution_count": null,
   "metadata": {},
   "outputs": [],
   "source": [
    "my_function = lambda a, b, c : a + b"
   ]
  },
  {
   "cell_type": "code",
   "execution_count": null,
   "metadata": {},
   "outputs": [],
   "source": [
    "my_function(1, 2, 3)"
   ]
  },
  {
   "cell_type": "code",
   "execution_count": null,
   "metadata": {},
   "outputs": [],
   "source": []
  },
  {
   "cell_type": "code",
   "execution_count": null,
   "metadata": {},
   "outputs": [],
   "source": [
    "import numpy as np\n",
    "y = np.array([4, 5, 6])\n",
    "m = np.array([[7, 8, 9], [10, 11, 12]])\n",
    "print(y,'\\n',m,'\\n',m.shape)  #just shape, not shape()"
   ]
  },
  {
   "cell_type": "code",
   "execution_count": null,
   "metadata": {},
   "outputs": [],
   "source": [
    "n = np.arange(0, 30, 2) # 0 to 30, 2 as interval\n",
    "n"
   ]
  },
  {
   "cell_type": "code",
   "execution_count": null,
   "metadata": {},
   "outputs": [],
   "source": []
  },
  {
   "cell_type": "code",
   "execution_count": null,
   "metadata": {},
   "outputs": [],
   "source": []
  },
  {
   "cell_type": "code",
   "execution_count": null,
   "metadata": {},
   "outputs": [],
   "source": []
  },
  {
   "cell_type": "code",
   "execution_count": null,
   "metadata": {},
   "outputs": [],
   "source": []
  },
  {
   "cell_type": "code",
   "execution_count": null,
   "metadata": {},
   "outputs": [],
   "source": []
  },
  {
   "cell_type": "code",
   "execution_count": null,
   "metadata": {},
   "outputs": [],
   "source": []
  },
  {
   "cell_type": "code",
   "execution_count": null,
   "metadata": {},
   "outputs": [],
   "source": []
  },
  {
   "cell_type": "code",
   "execution_count": null,
   "metadata": {},
   "outputs": [],
   "source": []
  },
  {
   "cell_type": "code",
   "execution_count": null,
   "metadata": {},
   "outputs": [],
   "source": []
  },
  {
   "cell_type": "code",
   "execution_count": null,
   "metadata": {},
   "outputs": [],
   "source": []
  }
 ],
 "metadata": {
  "kernelspec": {
   "display_name": "Python 3",
   "language": "python",
   "name": "python3"
  },
  "language_info": {
   "codemirror_mode": {
    "name": "ipython",
    "version": 3
   },
   "file_extension": ".py",
   "mimetype": "text/x-python",
   "name": "python",
   "nbconvert_exporter": "python",
   "pygments_lexer": "ipython3",
   "version": "3.7.6"
  }
 },
 "nbformat": 4,
 "nbformat_minor": 4
}
