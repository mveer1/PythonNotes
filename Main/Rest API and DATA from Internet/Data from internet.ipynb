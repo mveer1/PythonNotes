{
 "cells": [
  {
   "cell_type": "markdown",
   "metadata": {},
   "source": [
    "API - application program interface\n",
    "REST - representational state transfer"
   ]
  },
  {
   "cell_type": "markdown",
   "metadata": {},
   "source": [
    "But in everyday parlance, a REST API just means a website that produces data intended for another computer program to consume, rather than something intended to be displayed to people in a browser."
   ]
  },
  {
   "cell_type": "markdown",
   "metadata": {},
   "source": [
    "Caching is a way to reduce the total number of calls that you have to make to the APIs. "
   ]
  },
  {
   "cell_type": "markdown",
   "metadata": {},
   "source": [
    "### URL \n",
    "http://umich.edu/about\n",
    "1. http is our protocol, says how to communicate \n",
    "2. umcih.edu is our server or domain, where to\n",
    "3. about is our argument or path, what to"
   ]
  },
  {
   "cell_type": "markdown",
   "metadata": {},
   "source": [
    "url <scheme.>://<host.>:<port.>/<path.>\n",
    "\n",
    "http(80) and https, ftp and mailto (for email addresses).\n",
    "1. the default port number is 80\n",
    "2. the host can be an IP address directly. not so common because a URL containing a domain name will continue to work even if the remote server keeps its domain name but moves to a different IP address."
   ]
  },
  {
   "cell_type": "markdown",
   "metadata": {},
   "source": [
    "HTTP is technically (previously) documented as IETF RFC 2616."
   ]
  },
  {
   "cell_type": "markdown",
   "metadata": {},
   "source": [
    "### ip and dns\n",
    "IP stands for Internet Protocol. No two computers that are connected to the internet have the same IP address at the same time. total four chunks, each chunk is represented by 8bits, hence the whole ip address is also called 32bit address\n",
    "\n",
    "DNS, the Domain Name System"
   ]
  },
  {
   "cell_type": "markdown",
   "metadata": {},
   "source": [
    "Routers are just computers whose sole job is to receive these data packets and pass them on."
   ]
  },
  {
   "cell_type": "markdown",
   "metadata": {},
   "source": [
    "while using HTTPS (to send/recieve from umich.edu), the first thing that my computer would do is send some information back and forth to the si.umich.edu server that would establish encryption keys so that all of the rest of the communication would be encrypted"
   ]
  },
  {
   "cell_type": "markdown",
   "metadata": {},
   "source": [
    "Request headers and\n",
    "Response headers (meta data) \n",
    "\n",
    "### Request Respone cycle  - \n",
    "1. Client makes a request to the server by saying GET <path.>, path is path part of urlif request involves sending some data, message starts with POST\n",
    "(cookies involved)\n",
    "\n",
    "2. the server responds to the client.\n",
    "        1.The server first sends back some HTTP headers.\n",
    "        2. A description of the type of content it is sending back\n",
    "        3. Any cookies it would like the client to hold onto and send back the next time it communicates with the server."
   ]
  },
  {
   "cell_type": "markdown",
   "metadata": {},
   "source": [
    "### API \n",
    "Request to an API is made by visiting a URL. Some APIs use a different part of the HTTP protocol, called the post mechanism, in which case not all of the requests is encoded right into the URL. \n",
    "\n",
    "But we're going to focus only on the simplest mechanism, the HTTP get request, where the entire request is encoded in the URL."
   ]
  },
  {
   "cell_type": "markdown",
   "metadata": {},
   "source": [
    "### URL encoding\n",
    "\n",
    "a URL path is not allowed to include the double -quote character. It also can’t include a : or / or a space. Whenever we want to include one of those characters in a URL, we have to encode them with other characters. A space is encoded as +. \" is encoded as %22. : would be encoded as %3A. And so on."
   ]
  },
  {
   "cell_type": "code",
   "execution_count": 2,
   "metadata": {},
   "outputs": [
    {
     "name": "stdout",
     "output_type": "stream",
     "text": [
      "page  <class 'requests.models.Response'>\n",
      "page but only 150 char.  [{\"word\":\"money\",\"score\":4415,\"numSyllables\":2},{\"word\":\"honey\",\"score\":1206,\"numSyllables\":2},{\"word\":\"sunny\",\"score\":717,\"numSyllables\":2},{\"word\":\"\n",
      "url  https://api.datamuse.com/words?rel_rhy=funny\n",
      "------------------------------\n",
      "<class 'list'>\n",
      "------first item in the list-------\n",
      "{'word': 'money', 'score': 4415, 'numSyllables': 2}\n",
      "------the whole list, pretty printed-------\n",
      "[\n",
      "  {\n",
      "    \"word\": \"money\",\n",
      "    \"score\": 4415,\n",
      "    \"numSyllables\": 2\n",
      "  },\n",
      "  {\n",
      "    \"word\": \"honey\",\n",
      "    \"score\": 1206,\n",
      "    \"numSyllables\": 2\n",
      "  },\n",
      "  {\n",
      "    \"word\": \"sunny\",\n",
      "    \"score\": 717,\n",
      "    \"numSyllables\": 2\n",
      "  },\n",
      "  {\n",
      "    \"word\": \"bunny\",\n",
      "    \"score\": 702,\n",
      "    \"numSyllables\": 2\n",
      "  },\n",
      "  {\n",
      "    \"word\": \"blini\",\n",
      "    \"score\": 613,\n",
      "    \"numSyllables\": 2\n",
      "  },\n",
      "  {\n",
      "    \"word\": \"gunny\",\n",
      "    \"score\": 449,\n",
      "    \"numSyllables\": 2\n",
      "  },\n",
      "  {\n",
      "    \"word\": \"tunny\",\n",
      "    \"score\": 301,\n",
      "    \"numSyllables\": 2\n",
      "  },\n",
      "  {\n",
      "    \"word\": \"sonny\",\n",
      "    \"score\": 286,\n",
      "    \"numSyllables\": 2\n",
      "  },\n",
      "  {\n",
      "    \"word\": \"dunny\",\n",
      "    \"score\": 245,\n",
      "    \"numSyllables\": 2\n",
      "  },\n",
      "  {\n",
      "    \"word\": \"runny\",\n",
      "    \"score\": 225,\n",
      "    \"numSyllables\": 2\n",
      "  },\n",
      "  {\n",
      "    \"word\": \"thunny\",\n",
      "    \"score\": 222,\n",
      "    \"numSyllables\": 2\n",
      "  },\n",
      "  {\n",
      "    \"word\": \"aknee\",\n",
      "    \"score\": 179,\n",
      "    \"numSyllables\": 2\n",
      "  },\n",
      "  {\n",
      "    \"word\": \"squinny\",\n",
      "    \"score\": 170,\n",
      "    \"numSyllables\": 2\n",
      "  },\n",
      "  {\n",
      "    \"word\": \"fiat money\",\n",
      "    \"score\": 160,\n",
      "    \"numSyllables\": 4\n",
      "  },\n",
      "  {\n",
      "    \"word\": \"gunnie\",\n",
      "    \"score\": 156,\n",
      "    \"numSyllables\": 2\n",
      "  },\n",
      "  {\n",
      "    \"word\": \"blood money\",\n",
      "    \"score\": 152,\n",
      "    \"numSyllables\": 3\n",
      "  },\n",
      "  {\n",
      "    \"word\": \"squiny\",\n",
      "    \"score\": 151,\n",
      "    \"numSyllables\": 2\n",
      "  },\n",
      "  {\n",
      "    \"word\": \"tunney\",\n",
      "    \"score\": 119,\n",
      "    \"numSyllables\": 2\n",
      "  },\n",
      "  {\n",
      "    \"word\": \"spinny\",\n",
      "    \"score\": 117,\n",
      "    \"numSyllables\": 2\n",
      "  },\n",
      "  {\n",
      "    \"word\": \"pin money\",\n",
      "    \"score\": 107,\n",
      "    \"numSyllables\": 3\n",
      "  },\n",
      "  {\n",
      "    \"word\": \"easy money\",\n",
      "    \"score\": 66,\n",
      "    \"numSyllables\": 4\n",
      "  },\n",
      "  {\n",
      "    \"word\": \"smart money\",\n",
      "    \"score\": 66,\n",
      "    \"numSyllables\": 3\n",
      "  },\n",
      "  {\n",
      "    \"word\": \"earnest money\",\n",
      "    \"score\": 62,\n",
      "    \"numSyllables\": 4\n",
      "  },\n",
      "  {\n",
      "    \"word\": \"easter bunny\",\n",
      "    \"score\": 56,\n",
      "    \"numSyllables\": 4\n",
      "  },\n",
      "  {\n",
      "    \"word\": \"paper money\",\n",
      "    \"score\": 54,\n",
      "    \"numSyllables\": 4\n",
      "  },\n",
      "  {\n",
      "    \"word\": \"pocket money\",\n",
      "    \"score\": 47,\n",
      "    \"numSyllables\": 4\n",
      "  },\n",
      "  {\n",
      "    \"word\": \"folding money\",\n",
      "    \"score\": 46,\n",
      "    \"numSyllables\": 4\n",
      "  },\n",
      "  {\n",
      "    \"word\": \"conscience money\",\n",
      "    \"score\": 41,\n",
      "    \"numSyllables\": 4\n",
      "  },\n",
      "  {\n",
      "    \"word\": \"hush money\",\n",
      "    \"score\": 40,\n",
      "    \"numSyllables\": 3\n",
      "  },\n",
      "  {\n",
      "    \"word\": \"prize money\",\n",
      "    \"score\": 37,\n",
      "    \"numSyllables\": 3\n",
      "  },\n",
      "  {\n",
      "    \"word\": \"amount of money\",\n",
      "    \"score\": 33,\n",
      "    \"numSyllables\": 5\n",
      "  },\n",
      "  {\n",
      "    \"word\": \"for love or money\",\n",
      "    \"score\": 32,\n",
      "    \"numSyllables\": 5\n",
      "  },\n",
      "  {\n",
      "    \"word\": \"tight money\",\n",
      "    \"score\": 32,\n",
      "    \"numSyllables\": 3\n",
      "  },\n",
      "  {\n",
      "    \"word\": \"ship money\",\n",
      "    \"score\": 30,\n",
      "    \"numSyllables\": 3\n",
      "  },\n",
      "  {\n",
      "    \"word\": \"metal money\",\n",
      "    \"score\": 27,\n",
      "    \"numSyllables\": 4\n",
      "  },\n",
      "  {\n",
      "    \"word\": \"sum of money\",\n",
      "    \"score\": 23,\n",
      "    \"numSyllables\": 4\n",
      "  },\n",
      "  {\n",
      "    \"word\": \"entrance money\",\n",
      "    \"score\": 22,\n",
      "    \"numSyllables\": 4\n",
      "  },\n",
      "  {\n",
      "    \"word\": \"cheap money\",\n",
      "    \"score\": 21,\n",
      "    \"numSyllables\": 3\n",
      "  },\n",
      "  {\n",
      "    \"word\": \"spending money\",\n",
      "    \"score\": 21,\n",
      "    \"numSyllables\": 4\n",
      "  },\n",
      "  {\n",
      "    \"word\": \"token money\",\n",
      "    \"score\": 21,\n",
      "    \"numSyllables\": 4\n",
      "  },\n",
      "  {\n",
      "    \"word\": \"waste of money\",\n",
      "    \"score\": 19,\n",
      "    \"numSyllables\": 4\n",
      "  },\n",
      "  {\n",
      "    \"word\": \"ransom money\",\n",
      "    \"score\": 18,\n",
      "    \"numSyllables\": 4\n",
      "  },\n",
      "  {\n",
      "    \"word\": \"hearth money\",\n",
      "    \"score\": 14,\n",
      "    \"numSyllables\": 3\n",
      "  },\n",
      "  {\n",
      "    \"word\": \"munni\",\n",
      "    \"score\": 14,\n",
      "    \"numSyllables\": 2\n",
      "  },\n",
      "  {\n",
      "    \"word\": \"bunnie\",\n",
      "    \"score\": 2,\n",
      "    \"numSyllables\": 2\n",
      "  },\n",
      "  {\n",
      "    \"word\": \"euromoney\",\n",
      "    \"score\": 2,\n",
      "    \"numSyllables\": 4\n",
      "  },\n",
      "  {\n",
      "    \"word\": \"smartmoney\",\n",
      "    \"score\": 2,\n",
      "    \"numSyllables\": 3\n",
      "  },\n",
      "  {\n",
      "    \"word\": \"anyone he\",\n",
      "    \"numSyllables\": 4\n",
      "  },\n",
      "  {\n",
      "    \"word\": \"begun he\",\n",
      "    \"numSyllables\": 3\n",
      "  },\n",
      "  {\n",
      "    \"word\": \"bunney\",\n",
      "    \"numSyllables\": 2\n",
      "  },\n",
      "  {\n",
      "    \"word\": \"ca ne\",\n",
      "    \"numSyllables\": 2\n",
      "  },\n",
      "  {\n",
      "    \"word\": \"done he\",\n",
      "    \"numSyllables\": 2\n",
      "  },\n",
      "  {\n",
      "    \"word\": \"donne e\",\n",
      "    \"numSyllables\": 2\n",
      "  },\n",
      "  {\n",
      "    \"word\": \"everyone he\",\n",
      "    \"numSyllables\": 4\n",
      "  },\n",
      "  {\n",
      "    \"word\": \"fun he\",\n",
      "    \"numSyllables\": 2\n",
      "  },\n",
      "  {\n",
      "    \"word\": \"grandson he\",\n",
      "    \"numSyllables\": 3\n",
      "  },\n",
      "  {\n",
      "    \"word\": \"gun he\",\n",
      "    \"numSyllables\": 2\n",
      "  },\n",
      "  {\n",
      "    \"word\": \"handgun he\",\n",
      "    \"numSyllables\": 3\n",
      "  },\n",
      "  {\n",
      "    \"word\": \"kun hee\",\n",
      "    \"numSyllables\": 2\n",
      "  },\n",
      "  {\n",
      "    \"word\": \"le ne\",\n",
      "    \"numSyllables\": 2\n",
      "  },\n",
      "  {\n",
      "    \"word\": \"lunney\",\n",
      "    \"numSyllables\": 2\n",
      "  },\n",
      "  {\n",
      "    \"word\": \"lunny\",\n",
      "    \"numSyllables\": 2\n",
      "  },\n",
      "  {\n",
      "    \"word\": \"none e\",\n",
      "    \"numSyllables\": 2\n",
      "  },\n",
      "  {\n",
      "    \"word\": \"none he\",\n",
      "    \"numSyllables\": 2\n",
      "  },\n",
      "  {\n",
      "    \"word\": \"nun he\",\n",
      "    \"numSyllables\": 2\n",
      "  },\n",
      "  {\n",
      "    \"word\": \"one he\",\n",
      "    \"numSyllables\": 2\n",
      "  },\n",
      "  {\n",
      "    \"word\": \"one knee\",\n",
      "    \"numSyllables\": 2\n",
      "  },\n",
      "  {\n",
      "    \"word\": \"pun he\",\n",
      "    \"numSyllables\": 2\n",
      "  },\n",
      "  {\n",
      "    \"word\": \"run e\",\n",
      "    \"numSyllables\": 2\n",
      "  },\n",
      "  {\n",
      "    \"word\": \"run he\",\n",
      "    \"numSyllables\": 2\n",
      "  },\n",
      "  {\n",
      "    \"word\": \"shotgun he\",\n",
      "    \"numSyllables\": 3\n",
      "  },\n",
      "  {\n",
      "    \"word\": \"someone e\",\n",
      "    \"numSyllables\": 3\n",
      "  },\n",
      "  {\n",
      "    \"word\": \"someone he\",\n",
      "    \"numSyllables\": 3\n",
      "  },\n",
      "  {\n",
      "    \"word\": \"son e\",\n",
      "    \"numSyllables\": 2\n",
      "  },\n",
      "  {\n",
      "    \"word\": \"son he\",\n",
      "    \"numSyllables\": 2\n",
      "  },\n",
      "  {\n",
      "    \"word\": \"sun e\",\n",
      "    \"numSyllables\": 2\n",
      "  },\n",
      "  {\n",
      "    \"word\": \"sun he\",\n",
      "    \"numSyllables\": 2\n",
      "  },\n",
      "  {\n",
      "    \"word\": \"ton he\",\n",
      "    \"numSyllables\": 2\n",
      "  },\n",
      "  {\n",
      "    \"word\": \"ton ne\",\n",
      "    \"numSyllables\": 2\n",
      "  },\n",
      "  {\n",
      "    \"word\": \"un e\",\n",
      "    \"numSyllables\": 2\n",
      "  },\n",
      "  {\n",
      "    \"word\": \"un he\",\n",
      "    \"numSyllables\": 2\n",
      "  },\n",
      "  {\n",
      "    \"word\": \"un ne\",\n",
      "    \"numSyllables\": 2\n",
      "  },\n",
      "  {\n",
      "    \"word\": \"un ni\",\n",
      "    \"numSyllables\": 2\n",
      "  },\n",
      "  {\n",
      "    \"word\": \"won he\",\n",
      "    \"numSyllables\": 2\n",
      "  }\n",
      "]\n",
      "226\n"
     ]
    }
   ],
   "source": [
    "import requests\n",
    "import json\n",
    "\n",
    "page = requests.get(\"https://api.datamuse.com/words?rel_rhy=funny\")      \n",
    "#Once we run requests.get, a python object is returned. \n",
    "#It’s an instance of a class called Response that is defined in the requests module.\n",
    "\n",
    "print(\"page type\",type(page))                             \n",
    "print(\"page but only 150 char. \",page.text[:150])                  \n",
    "#.text method, It contains the contents of the file or sometimes an error mssg\n",
    "print(\"url \",page.url)      #print the url that was fetched\n",
    "print(\"-\"*30)\n",
    "x = page.json()                                              \n",
    "#turn page.text into a python object\n",
    "#The .json() method. This converts the text into a python list or dictionary, \n",
    "#by passing the contents of the .text attribute to the jsons.loads function.\n",
    "\n",
    "print(type(x))                                               #here, its a list of dictionaries\n",
    "print(\"------first item in the list-------\")\n",
    "print(x[0])                                              #the first dictionary\n",
    "print(\"------the whole list, pretty printed-------\")\n",
    "print(json.dumps(x, indent=2))                           # pretty print the results\n",
    "\n",
    "#LITE\n",
    "sums=0\n",
    "for y in x:\n",
    "    sums += y['numSyllables']\n",
    "print(sums)"
   ]
  },
  {
   "cell_type": "markdown",
   "metadata": {},
   "source": [
    "In the requests module, the get function is so smart that when it gets a 301, it looks at the new url and fetches it.\n",
    "\n",
    "Example (not important though)\n",
    "For example, github redirects all requests using http to the corresponding page using https (the secure http protocol). Thus, when we ask for http://github.com/presnick/runestone, github sends back a 301 code and the url https://github.com/presnick/runestone. \n",
    "The requests.get function then fetches the other url. It reports a status of 200 and the updated url. We have to do further inquire to find out that a redirection occurred (see below**)."
   ]
  },
  {
   "cell_type": "markdown",
   "metadata": {},
   "source": [
    "The .headers attribute has as its value a dictionary consisting of keys and values. To find out all the headers, you can run the code and add a statement print(p.headers.keys()).\n",
    "\n",
    "**\n",
    "The .history attribute contains a list of previous responses, if there were redirects. "
   ]
  },
  {
   "cell_type": "markdown",
   "metadata": {},
   "source": [
    "\n",
    "\n",
    "The get function in the requests module takes an optional parameter called params. If a value is specified for that parameter, it should be a dictionary."
   ]
  },
  {
   "cell_type": "code",
   "execution_count": 3,
   "metadata": {},
   "outputs": [
    {
     "name": "stdout",
     "output_type": "stream",
     "text": [
      "https://www.google.com/search?q=%22violins+and+guitars%22&tbm=isch\n"
     ]
    }
   ],
   "source": [
    "import requests\n",
    "d = {'q': '\"violins and guitars\"', 'tbm': 'isch'}\n",
    "results = requests.get(\"https://google.com/search\", params=d)\n",
    "print(results.url)\n",
    "\n",
    "#we have another more illustrative example"
   ]
  },
  {
   "cell_type": "code",
   "execution_count": 5,
   "metadata": {},
   "outputs": [
    {
     "name": "stdout",
     "output_type": "stream",
     "text": [
      "[{\"word\":\"\n",
      "https://api.datamuse.com/words?rel_rhy=funny\n"
     ]
    }
   ],
   "source": [
    "import requests\n",
    "\n",
    "# page = requests.get(\"https://api.datamuse.com/words?rel_rhy=funny\")\n",
    "kval_pairs = {'rel_rhy': 'funny'}\n",
    "page = requests.get(\"https://api.datamuse.com/words\", params=kval_pairs)\n",
    "print(page.text[:10]) # print the first 150 characters\n",
    "print(page.url) # print the url that was fetched"
   ]
  },
  {
   "cell_type": "markdown",
   "metadata": {},
   "source": [
    "Q. If resp is a Response object returned by a call to requests.get(), which of the following is a way to extract the contents into a python dictionary or list?\n",
    "\n",
    "A. resp.json()\n",
    "\n",
    "B. json.loads(resp.text)\n",
    "\n",
    "Ans. both"
   ]
  },
  {
   "cell_type": "code",
   "execution_count": null,
   "metadata": {},
   "outputs": [],
   "source": [
    "#an example to get rhym-words for this\n",
    "\n",
    "import requests\n",
    "\n",
    "def get_rhymes(word):\n",
    "    baseurl = \"https://api.datamuse.com/words\"\n",
    "    params_diction = {} # Set up an empty dictionary for query parameters\n",
    "    params_diction[\"rel_rhy\"] = word\n",
    "    params_diction[\"max\"] = \"3\" # get at most 3 results\n",
    "    resp = requests.get(baseurl, params=params_diction)\n",
    "    # return the top three words\n",
    "    word_ds = resp.json()\n",
    "    return [d['word'] for d in word_ds]\n",
    "    return resp.json() # Return a python object (a list of dictionaries in this case)\n",
    "\n",
    "print(get_rhymes(\"funny\"))\n"
   ]
  },
  {
   "cell_type": "markdown",
   "metadata": {},
   "source": [
    "### Implementing requests_with_caching module\n",
    "optimized this code for conceptual simplicity, so that it is useful as a teaching tool. It is not very efficient, because it always stores cached contents in a file, rather than saving it in memory. If you are ever implementing the caching pattern just for the duration of a program’s run, you might want to save cached content in a python dictionary in memory rather than writing it to a file.\n",
    "\n",
    "The basic idea in the code is to maintain the cache as a dictionary with keys representing API requests that have been made, and values representing the text that was retrieved. In order to make our cache live beyond one program execution, we store it in a file. Hence, there are helper functions _write_to_file and read_to_file that write a cache dictionary to and read it from a file."
   ]
  },
  {
   "cell_type": "code",
   "execution_count": null,
   "metadata": {},
   "outputs": [],
   "source": [
    "import requests\n",
    "import json\n",
    "\n",
    "PERMANENT_CACHE_FNAME = \"permanent_cache.txt\"\n",
    "TEMP_CACHE_FNAME = \"this_page_cache.txt\"\n",
    "\n",
    "def _write_to_file(cache, fname):\n",
    "    with open(fname, 'w') as outfile:\n",
    "        outfile.write(json.dumps(cache, indent=2))      #neatly writes to outfile, whatever json is in cache \n",
    "\n",
    "def _read_from_file(fname):\n",
    "    try:\n",
    "        with open(fname, 'r') as infile:\n",
    "            res = infile.read()              #txt from infile is written simply to res \n",
    "            return json.loads(res)           #same as res.json() which returns a python object created from the long text.\n",
    "    except:\n",
    "        return {}\n",
    "\n",
    "def add_to_cache(cache_file, cache_key, cache_value):    \n",
    "    temp_cache = _read_from_file(cache_file)                #temp_cache becomes a python object (dictionary)\n",
    "    temp_cache[cache_key] = cache_value                    #writing the value under cache_key inside temp_cache dictionary\n",
    "    _write_to_file(temp_cache, cache_file)                 #writes text in cachefile to tempcache\n",
    "\n",
    "def clear_cache(cache_file=TEMP_CACHE_FNAME):             #clear\n",
    "    _write_to_file({}, cache_file)\n",
    "\n",
    "def make_cache_key(baseurl, params_d, private_keys=[\"api_key\"]):     #default of private keys set to [\"apikey\"]\n",
    "    \"\"\"Makes a long string representing the query.\n",
    "    Alphabetize the keys from the params dictionary so we get the same order each time.\n",
    "    Omit keys with private info.\"\"\"\n",
    "    alphabetized_keys = sorted(params_d.keys())    #stores the keys in order\n",
    "    res = []                                      #list\n",
    "    for k in alphabetized_keys:\n",
    "        if k not in private_keys:\n",
    "            res.append(\"{}-{}\".format(k, params_d[k]))    #stores the key which is not in private but in params_d.keys()\n",
    "    return baseurl + \"_\".join(res)                 #returns url\n",
    "\n",
    "def get(baseurl, params={}, private_keys_to_ignore=[\"api_key\"], permanent_cache_file=PERMANENT_CACHE_FNAME, temp_cache_file=TEMP_CACHE_FNAME):\n",
    "    full_url = requests.requestURL(baseurl, params)\n",
    "    cache_key = make_cache_key(baseurl, params, private_keys_to_ignore)\n",
    "    # Load the permanent and page-specific caches from files\n",
    "    permanent_cache = _read_from_file(permanent_cache_file)\n",
    "    temp_cache = _read_from_file(temp_cache_file)\n",
    "    if cache_key in temp_cache:\n",
    "        print(\"found in temp_cache\")\n",
    "        # make a Response object containing text from the change, and the full_url that would have been fetched\n",
    "        return requests.Response(temp_cache[cache_key], full_url)\n",
    "    elif cache_key in permanent_cache:\n",
    "        print(\"found in permanent_cache\")\n",
    "        # make a Response object containing text from the change, and the full_url that would have been fetched\n",
    "        return requests.Response(permanent_cache[cache_key], full_url)\n",
    "    else:\n",
    "        print(\"new; adding to cache\")\n",
    "        # actually request it\n",
    "        resp = requests.get(baseurl, params)\n",
    "        # save it\n",
    "        add_to_cache(temp_cache_file, cache_key, resp.text)\n",
    "        return resp"
   ]
  },
  {
   "cell_type": "markdown",
   "metadata": {},
   "source": [
    "# Debugging calls to requests.get()\n",
    "\n",
    ", you will not always get a Response object back from a call to requests.get. \n",
    "\n",
    "What you get back will generally be even more informative than what you get in the Runestone environment, but you have to know where to look.\n",
    "\n",
    "1. The first thing that might go wrong is that you get a runtime error when you call requests.get(dest_url). There are two possibilities for what’s gone wrong in that case.\n",
    "    One possibility is that the value provided for the params parameter is not a valid dictionary or doesn’t have key-value pairs that can be converted into text strings suitable for putting into a URL. \n",
    "        For example, if you execute requests.get(\"http://github.com\", params = [0,1]), [0,1] is a list rather than a dictionary and the python interpreter generates the error, TypeError: 'int' object is not iterable.\n",
    "        \n",
    "    The second possibility is that the variable dest_url is either not bound to a string, or is bound to a string that isn’t a valid URL. \n",
    "        For example, it might be bound to the string \"http://foo.bar/bat\". foo.bar is not a valid domain name that can be resolved to an ip address, so there’s no server to contact. That will yield an error of type requests.exceptions.ConnectionError. Here’s a complete error message:\n",
    "            `requests.exceptions.ConnectionError: HTTPConnectionPool(host='foo.bar', port=80): Max retries exceeded with url: /bat?key=val (Caused by <class 'socket.gaierror'>: [Errno 11004] getaddrinfo failed)`\n",
    "            \n",
    "The best approach is to look at the URL that is produced, eyeball it, and plug it into a browser to see what happens. Unfortunately, if the call to requests.get produces an error, you won’t get a Response object, so you’ll need some other way to see what URL was produced. \n",
    "\n",
    "The function defined below takes the same parameters as requests.get and returns the URL as a string, without trying to fetch it."
   ]
  },
  {
   "cell_type": "code",
   "execution_count": null,
   "metadata": {},
   "outputs": [],
   "source": [
    "import requests\n",
    "def requestURL(baseurl, params = {}):\n",
    "    # This function accepts a URL path and a params diction as inputs.\n",
    "    # It calls requests.get() with those inputs,\n",
    "    # and returns the full URL of the data you want to get.\n",
    "    req = requests.Request(method = 'GET', url = baseurl, params = params)\n",
    "    prepped = req.prepare()\n",
    "    return prepped.url\n",
    "\n",
    "print(requestURL(some_base_url, some_params_dictionary))"
   ]
  },
  {
   "cell_type": "markdown",
   "metadata": {},
   "source": [
    "\n",
    "Assuming requestURL() returns a URL, match up what you see from the printout of the params dictionary to what you see in the URL that was printed out. \n",
    "If you have a sample of a URL from the API documentation, see if the structure of your URL matches what’s there. Perhaps you have misspelled one of the API parameter names or you misspelled the base url.\n",
    "\n",
    "You can also try cutting and pasting the printed URL into a browser window, to see what error message you get from the website. \n",
    "\n",
    "You can then try changing the URL in the browser and reloading. When you finally get a url that works, you will need to translate the changes you made in the url back into changes to make to your baseurl or params dictionary.\n",
    "\n",
    "If requests.get() executes without generating a runtime error, you are still not done with your error checking. No error means that your computer managed to connect to some web server and get some kind of response, but it doesn’t mean that it got the data you were hoping to get.\n",
    "\n",
    "Fortunately, the response object returned by requests.get() has the .url attribute, which will help you with debugging.\n",
    "\n",
    "It’s a good practice during program development to have your program print it out. This is easier than calling requestURL() but is only available to you if requests.get() succeeds in returning a Response object.\n",
    "\n",
    "More importantly, you’ll want to print out the contents. Sometimes the text that’s retrieved is an error message that you can read, such as {\"request empty\": \"There is no data that corresponds to your search.\"}. In other cases, it’s just obviously the wrong data. \n",
    "Print out the first couple hundred characters of the response text to see if it makes sense.\n"
   ]
  },
  {
   "cell_type": "code",
   "execution_count": null,
   "metadata": {},
   "outputs": [],
   "source": [
    "import requests\n",
    "dest_url = <some expr>\n",
    "d = <some dictionary>\n",
    "resp = requests.get(dest_url, params = d)\n",
    "print(resp.url)\n",
    "print(resp.text[:200])"
   ]
  },
  {
   "cell_type": "markdown",
   "metadata": {},
   "source": [
    "Now you try it. Use requests.get() and/or requestURL() to generate the following url, https://www.google.com/search?tbm=isch&q=%22violins+and+guitars%22."
   ]
  },
  {
   "cell_type": "markdown",
   "metadata": {},
   "source": [
    "## Requests Cookbook\n",
    "The basic process involves three steps:\n",
    "\n",
    "1. Make the appropriate call to requests.get(). If you have trouble, print out the URL that’s generated and work with it in the browser.\n",
    "2. Extract content from response object, by accessing the .text attribute and calling json.loads if the string is in json format.\n",
    "3. Process the data you’ve extracted. Often, when you get back data in json format, it will be a highly nested data structure. You may only need a little of that data. You may want to review the chapter on nested data and nested iteration, especially the section on the cycle of Understand. Extract. Repeat.\n",
    "\n",
    "The key to success is to make sure that you debug each of those steps before going on to the next one. This is just a particular case of the general advice we gave early in the course: start small and keep it working at every stage, growing the amount that your program does over time."
   ]
  },
  {
   "cell_type": "markdown",
   "metadata": {},
   "source": []
  },
  {
   "cell_type": "markdown",
   "metadata": {},
   "source": [
    "## Searching for media itunes"
   ]
  },
  {
   "cell_type": "code",
   "execution_count": null,
   "metadata": {},
   "outputs": [],
   "source": [
    "#wont run bc with_caching thing\n",
    "import requests_with_caching \n",
    "import json          #because after getting the data back from the api, its in json format\n",
    "\n",
    "parameters = {\"term\": \"Ann Arbor\", \"entity\": \"podcast\"}       #figured this out with documentation at https://affiliate.itunes.apple.com/resources/documentation/itunes-store-web-service-search-api/\n",
    "iTunes_response = requests_with_caching.get(\"https://itunes.apple.com/search\", params = parameters, permanent_cache_file=\"itunes_cache.txt\")\n",
    "#the above line, gives back a response object, probably in json \n",
    "\n",
    "py_data = json.loads(iTunes_response.text) #the data, decoded into a python object,\n",
    "for r in py_data['results']:            #figured this out with the structure of that python object\n",
    "    print(r['trackName'])               #thats what we want, all the tracknames"
   ]
  },
  {
   "cell_type": "markdown",
   "metadata": {},
   "source": [
    "\n",
    "\n",
    "\n",
    "## Searching for tags on flickr\n",
    "\n",
    "https://www.flickr.com/services/api/\n",
    "https://www.flickr.com/services/api/flickr.photos.search.html\n",
    "at the documentation of the flickr api ->\n",
    "at the bottom of this page, notice that they give what they call an endpoint. That's what we will call the base URL.\n",
    "The next notice that they have a required parameter called the api_key.\n",
    "A third thing to notice on this page is that they have another required query parameter called method.\n",
    "We're going to have to say method equals flickr.photos.search. There are also a bunch of other keys that we can provide, what they call arguments.\n",
    "we're going to search for tags.\n",
    "Then, there's this tag_mode. If you provide more than one tag that can either be treated as you want to search for photos that have one of those tags as the or combination or that you want to search for photos that have all of those tags, that's the and combination. \n",
    "Most sites that provide XML also have some way to ask for JSON instead. Flickr does have weighed asked for JSON instead. They don't make it that easy to find out how.\n",
    "Send a parameter called format with a value of JSON. So we're going to have in our URL format equals JSON.\n",
    "There's one other little tricky thing. I'm just going to get rid of those markings, they have a little thing that says something about callback functions. It turns out we have to send nojsoncallback equals one.\n",
    "Without that nojsoncallback equals one, you would get JSON results that are wrapped in basically a JavaScript function invocation called the callback. So that wrapping is part of a standard called JSONP. In any case, what we need to do is we need to include nojsoncallback equals one in order to just get pure JSON without any extra characters around it. \n",
    "\n",
    "\n",
    "\n",
    "base URL is https://api.flickr.com/services/rest/\n",
    "\n",
    "key=value pairs, separated by &s:\n",
    "1. One pair is method=flickr.photos.search. This says to do a photo search, rather than one of the many other operations that the API allows. Don’t be confused by the word “method” here– it is not a python method. That’s just the name flickr uses to distinguish among the different operations a client application can request.\n",
    "\n",
    "2. format=json. This says to return results in JSON format.\n",
    "\n",
    "3. per_page=5. This says to return 5 results at a time.\n",
    "\n",
    "4. tags=mountains,river. This says to return things that are tagged with “mountains” and “river”.\n",
    "\n",
    "5. tag_mode=all. This says to return things that are tagged with both mountains and river.\n",
    "\n",
    "6. media=photos. This says to return photos\n",
    "\n",
    "7. api_key=.... Flickr only lets authorized applications access the API. Each request must include a secret code as a value associated with api_key. Anyone can get a key. See the documentation for how to get one. We recommend that you get one so that you can test out the sample code in this chapter creatively. We have included some cached responses, and they are accessible even without an API key.\n",
    "\n",
    "8. nojsoncallback=1. This says to return the raw JSON result without a function wrapper around the JSON response.\n",
    "\n",
    "\n"
   ]
  },
  {
   "cell_type": "code",
   "execution_count": null,
   "metadata": {},
   "outputs": [],
   "source": [
    "# import statements\n",
    "import requests_with_caching\n",
    "import json\n",
    "# import webbrowser\n",
    "\n",
    "# apply for a flickr authentication key at http://www.flickr.com/services/apps/create/apply/?\n",
    "# paste the key (not the secret) as the value of the variable flickr_key\n",
    "flickr_key = 'yourkeyhere'\n",
    "\n",
    "def get_flickr_data(tags_string):\n",
    "    baseurl = \"https://api.flickr.com/services/rest/\"\n",
    "    params_diction = {}\n",
    "    params_diction[\"api_key\"] = flickr_key # from the above global variable\n",
    "    params_diction[\"tags\"] = tags_string # must be a comma separated string to work correctly\n",
    "    params_diction[\"tag_mode\"] = \"all\"\n",
    "    params_diction[\"method\"] = \"flickr.photos.search\"\n",
    "    params_diction[\"per_page\"] = 5\n",
    "    params_diction[\"media\"] = \"photos\"\n",
    "    params_diction[\"format\"] = \"json\"\n",
    "    params_diction[\"nojsoncallback\"] = 1\n",
    "    flickr_resp = requests_with_caching.get(baseurl, params = params_diction, permanent_cache_file=\"flickr_cache.txt\")\n",
    "    print(flickr_resp.url) # Paste the result into the browser to check what would it search if it didnt found it in the cache\n",
    "    return flickr_resp.json()\n",
    "\n",
    "result_river_mts = get_flickr_data(\"river,mountains\")\n",
    "\n",
    "# Some code to open up a few photos that are tagged with the mountains and river tags...\n",
    "\n",
    "photos = result_river_mts['photos']['photo']\n",
    "for photo in photos:\n",
    "    owner = photo['owner']\n",
    "    photo_id = photo['id']\n",
    "    url = 'https://www.flickr.com/photos/{}/{}'.format(owner, photo_id)\n",
    "    print(url)\n",
    "    # webbrowser.open(url)\n"
   ]
  },
  {
   "cell_type": "markdown",
   "metadata": {},
   "source": [
    "If this were a full Python environment, we would be able to import the web browser module, and we could call webbrowser.open, which would make this URL open up automatically in another tab."
   ]
  },
  {
   "cell_type": "markdown",
   "metadata": {},
   "source": []
  },
  {
   "cell_type": "markdown",
   "metadata": {},
   "source": [
    "# the final project\n",
    "the base url ->\n",
    "https://tastedive.com/api/similar\n",
    "actuall usage ->\n",
    "https://tastedive.com/api/similar?q=red+hot+chili+peppers%2C+pulp+fiction\n",
    "\n",
    "parameters\n",
    "1. q: the search query; consists of a atleat one name of movie(s separated by commas). Sometimes it is useful to specify the type of a certain resource in the query (e.g. if a movie and a book share the same title). You can do this by using the \"band:\", \"movie:\", for example \"band:underworld, movie:harry potter. Don't forget to encode this parameter.\n",
    "2. type: query type, specifies the desired type of results. just use type=movies in our case\n",
    "3. info: when set to 1, additional information is provided for the recommended items, like a description and a related Youtube clip (when available). Default is 0.\n",
    "4. limit: maximum number of recommendations to retrieve. Default is 20. \n",
    "5. k: Your API access key., we can keep it anything, we already have the data in the cache\n",
    "6. callback: add when using JSONP, to specify the callback function.\n",
    "\n",
    "\n",
    "The returned object contains, under the Similar key, the items that were searched for (a list in the Info key (key info != parameter info) and the recommended items (a list in the Results key). \n",
    "Each item in a list has the Name and Type keys. The type can be music, movie, show, book, author or game.\n",
    "\n",
    "so the structure of the object is, a dictionary with one key (named 'similar'), in the value of that key, there is another dictionary with two keys (videlicet( formal for viz( namely/in other words)) Info and Results) , under both keys, theres a list, Each item in a list has the Name and Type keys "
   ]
  },
  {
   "cell_type": "code",
   "execution_count": null,
   "metadata": {},
   "outputs": [],
   "source": [
    "import requests_with_caching\n",
    "import json\n",
    "\n",
    "def get_movies_from_tastedive(name):\n",
    "    parameters = {\"q\": name, \"type\": \"movies\",\"limit\": 5}\n",
    "    baseurl='https://tastedive.com/api/similar'\n",
    "    movies_recom= requests_with_caching.get(baseurl, params = parameters)\n",
    "    #print(movies_recom.url)\n",
    "    return movies_recom.json()\n",
    "\n",
    "def extract_movie_titles(names):\n",
    "    alist=[]\n",
    "    biglist=names['Similar']['Results']\n",
    "    for dic in biglist:\n",
    "        alist.append(dic['Name'])\n",
    "    return alist\n",
    "\n",
    "def get_related_titles(list1):\n",
    "    blist=[]\n",
    "    for name in list1:\n",
    "        #print(name)\n",
    "        blist += extract_movie_titles(get_movies_from_tastedive(name))\n",
    "        #print(blist)\n",
    "    \n",
    "    #clearing duplicates\n",
    "    blist = list(dict.fromkeys(blist))\n",
    "    return blist\n",
    "\n",
    "def get_movie_data(str1):\n",
    "    parameters={'t':str1, 'r':'json'}\n",
    "    baseurl='http://www.omdbapi.com/'\n",
    "    resp_2=requests_with_caching.get(baseurl, params=parameters)\n",
    "    #print(resp_2.url, resp_2.json())\n",
    "    return resp_2.json()\n",
    "\n",
    "def get_movie_rating(dict1):\n",
    "    rate=0\n",
    "    for rating in dict1['Ratings']:\n",
    "        if rating['Source']=='Rotten Tomatoes':\n",
    "            rate=int(rating['Value'].replace('%',''))\n",
    "    return rate\n",
    "        \n",
    "def get_sorted_recommendations(alist):\n",
    "    blist=get_related_titles(alist)\n",
    "    #print(blist)\n",
    "    dict1={}\n",
    "    for movie in blist:\n",
    "        rating=get_movie_rating(get_movie_data(movie))\n",
    "        dict1[movie]=rating\n",
    "    #print(dict1)\n",
    "    slist = sorted(dict1, key=lambda w: (dict1[w], w), reverse=True)\n",
    "    return slist\n",
    "# some invocations that we use in the automated tests; uncomment these if you are getting errors and want better error messages\n",
    "#get_sorted_recommendations([\"Bridesmaids\", \"Sherlock Holmes\"])\n",
    "\n"
   ]
  },
  {
   "cell_type": "markdown",
   "metadata": {},
   "source": []
  },
  {
   "cell_type": "markdown",
   "metadata": {},
   "source": []
  },
  {
   "cell_type": "markdown",
   "metadata": {},
   "source": [
    "# Regular expression"
   ]
  },
  {
   "cell_type": "code",
   "execution_count": 3,
   "metadata": {},
   "outputs": [
    {
     "ename": "TypeError",
     "evalue": "search() missing 1 required positional argument: 'string'",
     "output_type": "error",
     "traceback": [
      "\u001b[1;31m---------------------------------------------------------------------------\u001b[0m",
      "\u001b[1;31mTypeError\u001b[0m                                 Traceback (most recent call last)",
      "\u001b[1;32m<ipython-input-3-42d233d8aa42>\u001b[0m in \u001b[0;36m<module>\u001b[1;34m\u001b[0m\n\u001b[0;32m      1\u001b[0m \u001b[1;32mimport\u001b[0m \u001b[0mre\u001b[0m\u001b[1;33m\u001b[0m\u001b[1;33m\u001b[0m\u001b[0m\n\u001b[1;32m----> 2\u001b[1;33m \u001b[0mre\u001b[0m\u001b[1;33m.\u001b[0m\u001b[0msearch\u001b[0m\u001b[1;33m(\u001b[0m\u001b[1;34m\"hey ahsd \"\u001b[0m\u001b[1;33m)\u001b[0m\u001b[1;33m\u001b[0m\u001b[1;33m\u001b[0m\u001b[0m\n\u001b[0m",
      "\u001b[1;31mTypeError\u001b[0m: search() missing 1 required positional argument: 'string'"
     ]
    }
   ],
   "source": [
    "import re "
   ]
  },
  {
   "cell_type": "code",
   "execution_count": 6,
   "metadata": {},
   "outputs": [],
   "source": [
    "?re.search"
   ]
  },
  {
   "cell_type": "code",
   "execution_count": 8,
   "metadata": {},
   "outputs": [
    {
     "name": "stdout",
     "output_type": "stream",
     "text": [
      "None\n"
     ]
    }
   ],
   "source": [
    "print(re.search('[aeiou]', 'sky'))"
   ]
  },
  {
   "cell_type": "code",
   "execution_count": 11,
   "metadata": {},
   "outputs": [
    {
     "data": {
      "text/plain": [
       "['a', 'r', 'e']"
      ]
     },
     "execution_count": 11,
     "metadata": {},
     "output_type": "execute_result"
    }
   ],
   "source": [
    "re.findall('[aer]', 'are aer aera sfhush asjer')"
   ]
  },
  {
   "cell_type": "code",
   "execution_count": null,
   "metadata": {},
   "outputs": [],
   "source": [
    "list(dict.fromkeys(re.findall('[aer]', 'are aer aera sfhush asjer')))\n"
   ]
  },
  {
   "cell_type": "code",
   "execution_count": null,
   "metadata": {},
   "outputs": [],
   "source": [
    "line.find(\"from: \") ==0\n",
    "line.startswith('from: ')\n",
    "re.search('from: ', line)"
   ]
  },
  {
   "cell_type": "markdown",
   "metadata": {},
   "source": [
    "## Socket module"
   ]
  },
  {
   "cell_type": "code",
   "execution_count": 13,
   "metadata": {},
   "outputs": [
    {
     "ename": "TypeError",
     "evalue": "getsockaddrarg: AF_INET address must be tuple, not str",
     "output_type": "error",
     "traceback": [
      "\u001b[1;31m---------------------------------------------------------------------------\u001b[0m",
      "\u001b[1;31mTypeError\u001b[0m                                 Traceback (most recent call last)",
      "\u001b[1;32m<ipython-input-13-c5485b80907a>\u001b[0m in \u001b[0;36m<module>\u001b[1;34m\u001b[0m\n\u001b[0;32m      1\u001b[0m \u001b[1;32mimport\u001b[0m \u001b[0msocket\u001b[0m\u001b[1;33m\u001b[0m\u001b[1;33m\u001b[0m\u001b[0m\n\u001b[0;32m      2\u001b[0m \u001b[0mmysock\u001b[0m \u001b[1;33m=\u001b[0m \u001b[0msocket\u001b[0m\u001b[1;33m.\u001b[0m\u001b[0msocket\u001b[0m\u001b[1;33m(\u001b[0m\u001b[0msocket\u001b[0m\u001b[1;33m.\u001b[0m\u001b[0mAF_INET\u001b[0m\u001b[1;33m,\u001b[0m \u001b[0msocket\u001b[0m\u001b[1;33m.\u001b[0m\u001b[0mSOCK_STREAM\u001b[0m\u001b[1;33m)\u001b[0m\u001b[1;33m\u001b[0m\u001b[1;33m\u001b[0m\u001b[0m\n\u001b[1;32m----> 3\u001b[1;33m \u001b[0mmysock\u001b[0m\u001b[1;33m.\u001b[0m\u001b[0mconnect\u001b[0m\u001b[1;33m(\u001b[0m\u001b[1;34m'data.pr4e.org'\u001b[0m\u001b[1;33m)\u001b[0m     \u001b[1;31m#443 https  23telnetlogin   22ssh(secure login)    21ftp\u001b[0m\u001b[1;33m\u001b[0m\u001b[1;33m\u001b[0m\u001b[0m\n\u001b[0m\u001b[0;32m      4\u001b[0m \u001b[1;31m#by http, client always sends first request\u001b[0m\u001b[1;33m\u001b[0m\u001b[1;33m\u001b[0m\u001b[1;33m\u001b[0m\u001b[0m\n\u001b[0;32m      5\u001b[0m \u001b[0mcmd\u001b[0m \u001b[1;33m=\u001b[0m \u001b[1;34m'GET http://data.pr4e.org/reo.txt HTTP/1.0\\r\\n\\r\\n'\u001b[0m\u001b[1;33m.\u001b[0m\u001b[0mencode\u001b[0m\u001b[1;33m(\u001b[0m\u001b[1;33m)\u001b[0m  \u001b[1;31m#\\r for nertworking, two times to disting. from headers\u001b[0m\u001b[1;33m\u001b[0m\u001b[1;33m\u001b[0m\u001b[0m\n",
      "\u001b[1;31mTypeError\u001b[0m: getsockaddrarg: AF_INET address must be tuple, not str"
     ]
    }
   ],
   "source": [
    "import socket\n",
    "mysock = socket.socket(socket.AF_INET, socket.SOCK_STREAM) \n",
    "mysock.connect('data.pr4e.org')     #443 https  23telnetlogin   22ssh(secure login)    21ftp\n",
    "#by http, client always sends first request\n",
    "cmd = 'GET http://data.pr4e.org/reo.txt HTTP/1.0\\r\\n\\r\\n'.encode()  #\\r for nertworking, two times to disting. from headers\n",
    "mysock.send(cmd)\n",
    "while true: \n",
    "    data = mysock.recv(512)  #first 512 bits\n",
    "    if (len(data)<1):\n",
    "        break\n",
    "    print(data.decode())   #decode converts incoming utf8 to strings(unicode)\n",
    "mysock.close()\n"
   ]
  },
  {
   "cell_type": "code",
   "execution_count": null,
   "metadata": {},
   "outputs": [],
   "source": [
    "import urllib.request, urllib.parse, urllib.error \n",
    "fhand = urllib.request.urlopen('http....')\n",
    "for line in fhand:\n",
    "    print(line.decode().strip())\n",
    "#does not prints headers"
   ]
  },
  {
   "cell_type": "markdown",
   "metadata": {},
   "source": [
    "## beautiful soup (for a web scrapper)"
   ]
  },
  {
   "cell_type": "code",
   "execution_count": null,
   "metadata": {},
   "outputs": [],
   "source": [
    "import urllib.request, urllib.parse, urllib.error \n",
    "import BeautifulSoup as bs\n",
    "url = input('')\n",
    "html = urllib.request.urlopen(url).read()\n",
    "soup = bs(html, 'html.parser')\n",
    "tags = soup('a')  #retrives all the anchor tags in the page \n",
    "for tag in tags:\n",
    "    print(tag.get('href', None))\n",
    "    "
   ]
  },
  {
   "cell_type": "markdown",
   "metadata": {},
   "source": [
    "## JSON"
   ]
  },
  {
   "cell_type": "code",
   "execution_count": null,
   "metadata": {},
   "outputs": [],
   "source": [
    "import json\n",
    "data = '''{\n",
    "    \"name\":\"mahavir\"\n",
    "    \"phone:\"2914189284\"\n",
    "    \"email\":\"f201902/\"\n",
    "}'''\n",
    "info = json.loads(data)    #info is a python object, dict or list, data is a string \n",
    "print('Name:', info[\"Name\"])\n",
    "print('mail:', info[\"email\"])\n"
   ]
  },
  {
   "cell_type": "markdown",
   "metadata": {},
   "source": [
    "### google API with google maps"
   ]
  },
  {
   "cell_type": "code",
   "execution_count": null,
   "metadata": {},
   "outputs": [],
   "source": [
    "import urllib.request, urllib.parse, urllib.error\n",
    "import json\n",
    "import ssl\n",
    "\n",
    "api_key = False\n",
    "# If you have a Google Places API key, enter it here\n",
    "# api_key = 'AIzaSy___IDByT70'\n",
    "# https://developers.google.com/maps/documentation/geocoding/intro\n",
    "\n",
    "if api_key is False:\n",
    "    api_key = 42\n",
    "    serviceurl = 'http://py4e-data.dr-chuck.net/json?'                                #?\n",
    "else :\n",
    "    serviceurl = 'https://maps.googleapis.com/maps/api/geocode/json?'\n",
    "\n",
    "# Ignore SSL certificate errors\n",
    "ctx = ssl.create_default_context()\n",
    "ctx.check_hostname = False\n",
    "ctx.verify_mode = ssl.CERT_NONE\n",
    "\n",
    "while True:\n",
    "    address = input('Enter location: ')\n",
    "    if len(address) < 1:    continue                         #if we press enter instead of entering the location, it asks again\n",
    "\n",
    "    parms = dict()\n",
    "    parms['address'] = address\n",
    "    if api_key is not False:\n",
    "        parms['key'] = api_key                           #adding a element key to parms, read the above if else block\n",
    "\n",
    "    url = serviceurl + urllib.parse.urlencode(parms)       #making the url, urlencode does what i have a screenshot of in c:, +means space, 2%C means comma\n",
    "\n",
    "    print('Retrieving', url)\n",
    "    uh = urllib.request.urlopen(url, context=ctx)             #just the handle of url\n",
    "    data = uh.read().decode()                                 #actual string after decoding it from utf8 to unicode\n",
    "    print('Retrieved', len(data), 'characters')\n",
    "\n",
    "    try:\n",
    "        js = json.loads(data)                                   #creates a dictionary or nested combination of dicts and lists named js\n",
    "    except:\n",
    "        js = None\n",
    "\n",
    "    if not js or 'status' not in js or js['status'] != 'OK':           #if js is not true (if json is None then do ->), or the word status is not in the dict js, or status key does not have the value ok in it, do ->\n",
    "        print('==== Failure To Retrieve ====')\n",
    "        print(data)\n",
    "        continue\n",
    "\n",
    "    print(json.dumps(js, indent=2))                  #dumps is opp of loads, it'll print the dictionary with indent of 4\n",
    "\n",
    "    lat = js['results'][0]['geometry']['location']['lat']\n",
    "    lng = js['results'][0]['geometry']['location']['lng']\n",
    "    print('lat', lat, 'lng', lng)\n",
    "    location = js['results'][0]['formatted_address']\n",
    "    print(location)"
   ]
  },
  {
   "cell_type": "code",
   "execution_count": null,
   "metadata": {},
   "outputs": [],
   "source": []
  },
  {
   "cell_type": "code",
   "execution_count": null,
   "metadata": {},
   "outputs": [],
   "source": []
  },
  {
   "cell_type": "code",
   "execution_count": null,
   "metadata": {},
   "outputs": [],
   "source": []
  },
  {
   "cell_type": "code",
   "execution_count": null,
   "metadata": {},
   "outputs": [],
   "source": []
  },
  {
   "cell_type": "code",
   "execution_count": null,
   "metadata": {},
   "outputs": [],
   "source": []
  },
  {
   "cell_type": "code",
   "execution_count": null,
   "metadata": {},
   "outputs": [],
   "source": []
  },
  {
   "cell_type": "code",
   "execution_count": null,
   "metadata": {},
   "outputs": [],
   "source": []
  },
  {
   "cell_type": "code",
   "execution_count": null,
   "metadata": {},
   "outputs": [],
   "source": []
  },
  {
   "cell_type": "code",
   "execution_count": null,
   "metadata": {},
   "outputs": [],
   "source": []
  },
  {
   "cell_type": "code",
   "execution_count": null,
   "metadata": {},
   "outputs": [],
   "source": []
  },
  {
   "cell_type": "code",
   "execution_count": null,
   "metadata": {},
   "outputs": [],
   "source": []
  },
  {
   "cell_type": "code",
   "execution_count": null,
   "metadata": {},
   "outputs": [],
   "source": []
  },
  {
   "cell_type": "code",
   "execution_count": null,
   "metadata": {},
   "outputs": [],
   "source": []
  },
  {
   "cell_type": "code",
   "execution_count": null,
   "metadata": {},
   "outputs": [],
   "source": []
  },
  {
   "cell_type": "code",
   "execution_count": null,
   "metadata": {},
   "outputs": [],
   "source": []
  },
  {
   "cell_type": "code",
   "execution_count": null,
   "metadata": {},
   "outputs": [],
   "source": []
  },
  {
   "cell_type": "code",
   "execution_count": null,
   "metadata": {},
   "outputs": [],
   "source": []
  },
  {
   "cell_type": "code",
   "execution_count": null,
   "metadata": {},
   "outputs": [],
   "source": []
  },
  {
   "cell_type": "code",
   "execution_count": null,
   "metadata": {},
   "outputs": [],
   "source": []
  },
  {
   "cell_type": "code",
   "execution_count": null,
   "metadata": {},
   "outputs": [],
   "source": []
  },
  {
   "cell_type": "code",
   "execution_count": null,
   "metadata": {},
   "outputs": [],
   "source": []
  },
  {
   "cell_type": "code",
   "execution_count": null,
   "metadata": {},
   "outputs": [],
   "source": []
  },
  {
   "cell_type": "code",
   "execution_count": null,
   "metadata": {},
   "outputs": [],
   "source": []
  },
  {
   "cell_type": "code",
   "execution_count": null,
   "metadata": {},
   "outputs": [],
   "source": []
  },
  {
   "cell_type": "code",
   "execution_count": null,
   "metadata": {},
   "outputs": [],
   "source": []
  },
  {
   "cell_type": "code",
   "execution_count": null,
   "metadata": {},
   "outputs": [],
   "source": []
  },
  {
   "cell_type": "code",
   "execution_count": null,
   "metadata": {},
   "outputs": [],
   "source": []
  },
  {
   "cell_type": "code",
   "execution_count": null,
   "metadata": {},
   "outputs": [],
   "source": []
  },
  {
   "cell_type": "code",
   "execution_count": null,
   "metadata": {},
   "outputs": [],
   "source": []
  },
  {
   "cell_type": "code",
   "execution_count": null,
   "metadata": {},
   "outputs": [],
   "source": []
  },
  {
   "cell_type": "code",
   "execution_count": null,
   "metadata": {},
   "outputs": [],
   "source": []
  },
  {
   "cell_type": "code",
   "execution_count": null,
   "metadata": {},
   "outputs": [],
   "source": []
  },
  {
   "cell_type": "code",
   "execution_count": null,
   "metadata": {},
   "outputs": [],
   "source": []
  },
  {
   "cell_type": "code",
   "execution_count": null,
   "metadata": {},
   "outputs": [],
   "source": []
  },
  {
   "cell_type": "code",
   "execution_count": null,
   "metadata": {},
   "outputs": [],
   "source": []
  },
  {
   "cell_type": "code",
   "execution_count": null,
   "metadata": {},
   "outputs": [],
   "source": []
  },
  {
   "cell_type": "code",
   "execution_count": null,
   "metadata": {},
   "outputs": [],
   "source": []
  },
  {
   "cell_type": "code",
   "execution_count": null,
   "metadata": {},
   "outputs": [],
   "source": []
  }
 ],
 "metadata": {
  "kernelspec": {
   "display_name": "Python 3",
   "language": "python",
   "name": "python3"
  },
  "language_info": {
   "codemirror_mode": {
    "name": "ipython",
    "version": 3
   },
   "file_extension": ".py",
   "mimetype": "text/x-python",
   "name": "python",
   "nbconvert_exporter": "python",
   "pygments_lexer": "ipython3",
   "version": "3.7.6"
  }
 },
 "nbformat": 4,
 "nbformat_minor": 4
}
